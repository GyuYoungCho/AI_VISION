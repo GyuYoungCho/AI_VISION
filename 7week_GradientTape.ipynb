{
 "cells": [
  {
   "cell_type": "markdown",
   "metadata": {},
   "source": [
    "실용 최적화 알고리즘\n",
    "\n",
    "http://www.yes24.com/Product/Goods/92563359\n",
    "\n",
    "## automatic gradient\n",
    "- 실제,예측값 차이의 최소값을 갖도록 gradient descent 최적화 이론\n",
    "\n",
    "Automatic differentiation in ML\n",
    "\n",
    "- Numpy 비교해서 ML 프레임워크들은 일반성, 유연성을 포기\n",
    "\n",
    "- tape-based : 중간에 결과를 저장\n",
    "    - 복잡한거 저장해서 가져오기, cache 등 장점\n"
   ]
  },
  {
   "cell_type": "code",
   "execution_count": 1,
   "metadata": {},
   "outputs": [
    {
     "name": "stderr",
     "output_type": "stream",
     "text": [
      "C:\\Users\\Gyu\\Anaconda3\\envs\\py37\\lib\\site-packages\\numpy\\_distributor_init.py:32: UserWarning: loaded more than 1 DLL from .libs:\n",
      "C:\\Users\\Gyu\\Anaconda3\\envs\\py37\\lib\\site-packages\\numpy\\.libs\\libopenblas.PYQHXLVVQ7VESDPUVUADXEVJOBGHJPAY.gfortran-win_amd64.dll\n",
      "C:\\Users\\Gyu\\Anaconda3\\envs\\py37\\lib\\site-packages\\numpy\\.libs\\libopenblas.TXA6YQSD3GCQQC22GEQ54J2UDCXDXHWN.gfortran-win_amd64.dll\n",
      "  stacklevel=1)\n"
     ]
    }
   ],
   "source": [
    "import tensorflow as tf"
   ]
  },
  {
   "cell_type": "code",
   "execution_count": 31,
   "metadata": {},
   "outputs": [
    {
     "data": {
      "text/plain": [
       "<tf.Variable 'UnreadVariable' shape=(3,) dtype=float32, numpy=array([4., 5., 6.], dtype=float32)>"
      ]
     },
     "execution_count": 31,
     "metadata": {},
     "output_type": "execute_result"
    }
   ],
   "source": [
    "a = tf.constant([1.,2.,3.])\n",
    "b = tf.Variable([1.,2.,3.])\n",
    "b.assign([4,5.,6])"
   ]
  },
  {
   "cell_type": "markdown",
   "metadata": {},
   "source": [
    "**context manager**\n",
    "\n",
    "- 안에서 실행된 모든 결과값 tape에 기록"
   ]
  },
  {
   "cell_type": "code",
   "execution_count": 20,
   "metadata": {},
   "outputs": [],
   "source": [
    "# with를 \n",
    "\n",
    "with tf.GradientTape() as t:\n",
    "    # 미분할 함수 넣기\n",
    "    y = 2 * a "
   ]
  },
  {
   "cell_type": "code",
   "execution_count": 21,
   "metadata": {},
   "outputs": [
    {
     "ename": "TypeError",
     "evalue": "gradient() missing 1 required positional argument: 'sources'",
     "output_type": "error",
     "traceback": [
      "\u001b[1;31m---------------------------------------------------------------------------\u001b[0m",
      "\u001b[1;31mTypeError\u001b[0m                                 Traceback (most recent call last)",
      "\u001b[1;32m<ipython-input-21-79e9dc3c9ecf>\u001b[0m in \u001b[0;36m<module>\u001b[1;34m\u001b[0m\n\u001b[1;32m----> 1\u001b[1;33m \u001b[0mt\u001b[0m\u001b[1;33m.\u001b[0m\u001b[0mgradient\u001b[0m\u001b[1;33m(\u001b[0m\u001b[0my\u001b[0m\u001b[1;33m)\u001b[0m  \u001b[1;31m# dy/dt\u001b[0m\u001b[1;33m\u001b[0m\u001b[1;33m\u001b[0m\u001b[0m\n\u001b[0m",
      "\u001b[1;31mTypeError\u001b[0m: gradient() missing 1 required positional argument: 'sources'"
     ]
    }
   ],
   "source": [
    "t.gradient(y)  # dy/dt"
   ]
  },
  {
   "cell_type": "code",
   "execution_count": 22,
   "metadata": {},
   "outputs": [],
   "source": [
    "dy_da = t.gradient(y,a)\n",
    "dy_da"
   ]
  },
  {
   "cell_type": "code",
   "execution_count": 23,
   "metadata": {},
   "outputs": [
    {
     "ename": "RuntimeError",
     "evalue": "GradientTape.gradient can only be called once on non-persistent tapes.",
     "output_type": "error",
     "traceback": [
      "\u001b[1;31m---------------------------------------------------------------------------\u001b[0m",
      "\u001b[1;31mRuntimeError\u001b[0m                              Traceback (most recent call last)",
      "\u001b[1;32m<ipython-input-23-67a6ffa6b1dc>\u001b[0m in \u001b[0;36m<module>\u001b[1;34m\u001b[0m\n\u001b[1;32m----> 1\u001b[1;33m \u001b[0mdy_da\u001b[0m \u001b[1;33m=\u001b[0m \u001b[0mt\u001b[0m\u001b[1;33m.\u001b[0m\u001b[0mgradient\u001b[0m\u001b[1;33m(\u001b[0m\u001b[0my\u001b[0m\u001b[1;33m,\u001b[0m\u001b[0ma\u001b[0m\u001b[1;33m)\u001b[0m  \u001b[1;31m# 2번째에 error나옴\u001b[0m\u001b[1;33m\u001b[0m\u001b[1;33m\u001b[0m\u001b[0m\n\u001b[0m\u001b[0;32m      2\u001b[0m \u001b[1;33m\u001b[0m\u001b[0m\n\u001b[0;32m      3\u001b[0m \u001b[1;31m# 한 번만 실행가능함.\u001b[0m\u001b[1;33m\u001b[0m\u001b[1;33m\u001b[0m\u001b[1;33m\u001b[0m\u001b[0m\n",
      "\u001b[1;32m~\\AppData\\Roaming\\Python\\Python36\\site-packages\\tensorflow\\python\\eager\\backprop.py\u001b[0m in \u001b[0;36mgradient\u001b[1;34m(self, target, sources, output_gradients, unconnected_gradients)\u001b[0m\n\u001b[0;32m   1012\u001b[0m     \"\"\"\n\u001b[0;32m   1013\u001b[0m     \u001b[1;32mif\u001b[0m \u001b[0mself\u001b[0m\u001b[1;33m.\u001b[0m\u001b[0m_tape\u001b[0m \u001b[1;32mis\u001b[0m \u001b[1;32mNone\u001b[0m\u001b[1;33m:\u001b[0m\u001b[1;33m\u001b[0m\u001b[1;33m\u001b[0m\u001b[0m\n\u001b[1;32m-> 1014\u001b[1;33m       raise RuntimeError(\"GradientTape.gradient can only be called once on \"\n\u001b[0m\u001b[0;32m   1015\u001b[0m                          \"non-persistent tapes.\")\n\u001b[0;32m   1016\u001b[0m     \u001b[1;32mif\u001b[0m \u001b[0mself\u001b[0m\u001b[1;33m.\u001b[0m\u001b[0m_recording\u001b[0m\u001b[1;33m:\u001b[0m\u001b[1;33m\u001b[0m\u001b[1;33m\u001b[0m\u001b[0m\n",
      "\u001b[1;31mRuntimeError\u001b[0m: GradientTape.gradient can only be called once on non-persistent tapes."
     ]
    }
   ],
   "source": [
    "dy_da = t.gradient(y,a)  # 2번째에 error나옴\n",
    "\n",
    "# 한 번만 실행가능함."
   ]
  },
  {
   "cell_type": "markdown",
   "metadata": {},
   "source": [
    "__ enter __ , __ exit __ 한 쌍으로 있어야 with 사용 가능함"
   ]
  },
  {
   "cell_type": "code",
   "execution_count": 24,
   "metadata": {},
   "outputs": [],
   "source": [
    "with tf.GradientTape() as t:\n",
    "    y = 2 * b\n",
    "dy_db = t.gradient(y,b)"
   ]
  },
  {
   "cell_type": "code",
   "execution_count": 25,
   "metadata": {},
   "outputs": [
    {
     "data": {
      "text/plain": [
       "<tf.Tensor: shape=(3,), dtype=float32, numpy=array([2., 2., 2.], dtype=float32)>"
      ]
     },
     "execution_count": 25,
     "metadata": {},
     "output_type": "execute_result"
    }
   ],
   "source": [
    "dy_db "
   ]
  },
  {
   "cell_type": "markdown",
   "metadata": {},
   "source": [
    "1. with벗어나면 미분 한 번 밖에 안됨\n",
    "2. data type은 float32\n",
    "3. Variable만 가능\n",
    "\n",
    "\n",
    "- 결과가 빠르게 나와서 좋긴 함."
   ]
  },
  {
   "cell_type": "code",
   "execution_count": 27,
   "metadata": {},
   "outputs": [
    {
     "data": {
      "text/plain": [
       "<tf.Tensor: shape=(3,), dtype=float32, numpy=array([2., 2., 2.], dtype=float32)>"
      ]
     },
     "execution_count": 27,
     "metadata": {},
     "output_type": "execute_result"
    }
   ],
   "source": [
    "with tf.GradientTape() as t:\n",
    "    t.watch(a)\n",
    "    y = 2 * a \n",
    "dy_da = t.gradient(y,a)\n",
    "dy_da\n",
    "\n",
    "# watch로 상수도 되게 함"
   ]
  },
  {
   "cell_type": "code",
   "execution_count": 101,
   "metadata": {},
   "outputs": [
    {
     "data": {
      "text/plain": [
       "<tf.Tensor: shape=(3,), dtype=float32, numpy=array([2., 2., 2.], dtype=float32)>"
      ]
     },
     "execution_count": 101,
     "metadata": {},
     "output_type": "execute_result"
    }
   ],
   "source": [
    "with tf.GradientTape(persistent=True, watch_accessed_variables=False) as t:\n",
    "    t.watch(a)\n",
    "    y = 2 * a\n",
    "dy_da = t.gradient(y,a)\n",
    "dy_da\n",
    "\n",
    "# persistent=True : 동일한 연산에 대해 2번이상 사용가능\n",
    "# 다중 호출 허용"
   ]
  },
  {
   "cell_type": "code",
   "execution_count": 102,
   "metadata": {},
   "outputs": [
    {
     "data": {
      "text/plain": [
       "<tf.Tensor: shape=(3,), dtype=float32, numpy=array([2., 2., 2.], dtype=float32)>"
      ]
     },
     "execution_count": 102,
     "metadata": {},
     "output_type": "execute_result"
    }
   ],
   "source": [
    "dy_da = t.gradient(y,a)\n",
    "dy_da"
   ]
  },
  {
   "cell_type": "code",
   "execution_count": 103,
   "metadata": {},
   "outputs": [
    {
     "data": {
      "text/plain": [
       "<tf.Tensor: shape=(3,), dtype=float32, numpy=array([32., 40., 48.], dtype=float32)>"
      ]
     },
     "execution_count": 103,
     "metadata": {},
     "output_type": "execute_result"
    }
   ],
   "source": [
    "with tf.GradientTape() as t:\n",
    "    y = 2 * b\n",
    "    z = y**2\n",
    "    \n",
    "dy_db = t.gradient(z,b)\n",
    "dy_db    "
   ]
  },
  {
   "cell_type": "code",
   "execution_count": 33,
   "metadata": {},
   "outputs": [
    {
     "data": {
      "text/plain": [
       "<tf.Tensor: shape=(3,), dtype=float32, numpy=array([16., 20., 24.], dtype=float32)>"
      ]
     },
     "execution_count": 33,
     "metadata": {},
     "output_type": "execute_result"
    }
   ],
   "source": [
    "with tf.GradientTape() as t:\n",
    "    y = 2 * b\n",
    "    z = y**2\n",
    "    \n",
    "dz_dy = t.gradient(z,y)\n",
    "dz_dy  \n",
    "# 미분해서 2y인데 값으로 튀어나옴"
   ]
  },
  {
   "cell_type": "code",
   "execution_count": 35,
   "metadata": {},
   "outputs": [],
   "source": [
    "y = 2 * b\n",
    "with tf.GradientTape() as t:\n",
    "    z = y**2\n",
    "dz_dy = t.gradient(z,y)\n",
    "dz_dy\n",
    "# 안됨"
   ]
  },
  {
   "cell_type": "code",
   "execution_count": 36,
   "metadata": {},
   "outputs": [
    {
     "data": {
      "text/plain": [
       "<tf.Tensor: shape=(3,), dtype=float32, numpy=array([16., 20., 24.], dtype=float32)>"
      ]
     },
     "execution_count": 36,
     "metadata": {},
     "output_type": "execute_result"
    }
   ],
   "source": [
    "a = 0\n",
    "with tf.GradientTape() as t:\n",
    "    if a==0:\n",
    "        y = 2 * b\n",
    "        z = y**2\n",
    "dz_dy = t.gradient(z,y)\n",
    "dz_dy"
   ]
  },
  {
   "cell_type": "markdown",
   "metadata": {},
   "source": [
    "- numpy는 제공 x\n",
    "- tensor dataset으로 바꿔야된다.\n",
    "\n",
    "## gradient tape을 이용한 학습\n",
    "\n",
    "https://www.tensorflow.org/tutorials/customization/custom_training_walkthrough\n",
    "\n",
    "- pandas에서 values로 numpy바꾸기\n",
    "- tensor slice가 numpy지원하기 때문에tf.data.Dataset.from_tensor slice 사용\n",
    "\n",
    "\n",
    "### dataset"
   ]
  },
  {
   "cell_type": "code",
   "execution_count": 50,
   "metadata": {},
   "outputs": [],
   "source": [
    "import os\n",
    "import matplotlib.pyplot as plt\n",
    "import seaborn as sns\n",
    "iris = sns.load_dataset('iris')\n",
    "iris.species = iris.species.map({'setosa' :0, 'versicolor':1,'virginica':2})"
   ]
  },
  {
   "cell_type": "code",
   "execution_count": 40,
   "metadata": {},
   "outputs": [
    {
     "data": {
      "text/plain": [
       "<TensorSliceDataset shapes: (4,), types: tf.float64>"
      ]
     },
     "execution_count": 40,
     "metadata": {},
     "output_type": "execute_result"
    }
   ],
   "source": [
    "tf.data.Dataset.from_tensor_slices(iris.iloc[:,:-1].values)"
   ]
  },
  {
   "cell_type": "code",
   "execution_count": 43,
   "metadata": {},
   "outputs": [
    {
     "ename": "TypeError",
     "evalue": "`generator` must be callable.",
     "output_type": "error",
     "traceback": [
      "\u001b[1;31m---------------------------------------------------------------------------\u001b[0m",
      "\u001b[1;31mTypeError\u001b[0m                                 Traceback (most recent call last)",
      "\u001b[1;32m<ipython-input-43-0c203c88d1af>\u001b[0m in \u001b[0;36m<module>\u001b[1;34m\u001b[0m\n\u001b[1;32m----> 1\u001b[1;33m \u001b[0mtf\u001b[0m\u001b[1;33m.\u001b[0m\u001b[0mdata\u001b[0m\u001b[1;33m.\u001b[0m\u001b[0mDataset\u001b[0m\u001b[1;33m.\u001b[0m\u001b[0mfrom_generator\u001b[0m\u001b[1;33m(\u001b[0m\u001b[0miter\u001b[0m\u001b[1;33m(\u001b[0m\u001b[0miris\u001b[0m\u001b[1;33m)\u001b[0m\u001b[1;33m,\u001b[0m\u001b[1;33m(\u001b[0m\u001b[0mtf\u001b[0m\u001b[1;33m.\u001b[0m\u001b[0mfloat32\u001b[0m\u001b[1;33m,\u001b[0m\u001b[0mtf\u001b[0m\u001b[1;33m.\u001b[0m\u001b[0mfloat32\u001b[0m\u001b[1;33m,\u001b[0m\u001b[0mtf\u001b[0m\u001b[1;33m.\u001b[0m\u001b[0mfloat32\u001b[0m\u001b[1;33m,\u001b[0m\u001b[0mtf\u001b[0m\u001b[1;33m.\u001b[0m\u001b[0mfloat32\u001b[0m\u001b[1;33m,\u001b[0m\u001b[0mtf\u001b[0m\u001b[1;33m.\u001b[0m\u001b[0mint32\u001b[0m\u001b[1;33m)\u001b[0m\u001b[1;33m)\u001b[0m\u001b[1;33m\u001b[0m\u001b[1;33m\u001b[0m\u001b[0m\n\u001b[0m",
      "\u001b[1;32m~\\AppData\\Roaming\\Python\\Python36\\site-packages\\tensorflow\\python\\data\\ops\\dataset_ops.py\u001b[0m in \u001b[0;36mfrom_generator\u001b[1;34m(generator, output_types, output_shapes, args)\u001b[0m\n\u001b[0;32m    774\u001b[0m     \"\"\"\n\u001b[0;32m    775\u001b[0m     \u001b[1;32mif\u001b[0m \u001b[1;32mnot\u001b[0m \u001b[0mcallable\u001b[0m\u001b[1;33m(\u001b[0m\u001b[0mgenerator\u001b[0m\u001b[1;33m)\u001b[0m\u001b[1;33m:\u001b[0m\u001b[1;33m\u001b[0m\u001b[1;33m\u001b[0m\u001b[0m\n\u001b[1;32m--> 776\u001b[1;33m       \u001b[1;32mraise\u001b[0m \u001b[0mTypeError\u001b[0m\u001b[1;33m(\u001b[0m\u001b[1;34m\"`generator` must be callable.\"\u001b[0m\u001b[1;33m)\u001b[0m\u001b[1;33m\u001b[0m\u001b[1;33m\u001b[0m\u001b[0m\n\u001b[0m\u001b[0;32m    777\u001b[0m     \u001b[1;32mif\u001b[0m \u001b[0moutput_shapes\u001b[0m \u001b[1;32mis\u001b[0m \u001b[1;32mNone\u001b[0m\u001b[1;33m:\u001b[0m\u001b[1;33m\u001b[0m\u001b[1;33m\u001b[0m\u001b[0m\n\u001b[0;32m    778\u001b[0m       output_shapes = nest.map_structure(\n",
      "\u001b[1;31mTypeError\u001b[0m: `generator` must be callable."
     ]
    }
   ],
   "source": [
    "tf.data.Dataset.from_generator(iter(iris),(tf.float32,tf.float32,tf.float32,tf.float32,tf.int32))\n",
    "# callable 해야됨."
   ]
  },
  {
   "cell_type": "code",
   "execution_count": 41,
   "metadata": {},
   "outputs": [],
   "source": [
    "def x():\n",
    "    yield 1\n",
    "    yield 2\n",
    "    yield 3"
   ]
  },
  {
   "cell_type": "code",
   "execution_count": 42,
   "metadata": {},
   "outputs": [
    {
     "data": {
      "text/plain": [
       "<generator object x at 0x00000259D27A1780>"
      ]
     },
     "execution_count": 42,
     "metadata": {},
     "output_type": "execute_result"
    }
   ],
   "source": [
    "x() # callable 해야됨."
   ]
  },
  {
   "cell_type": "code",
   "execution_count": 44,
   "metadata": {},
   "outputs": [],
   "source": [
    "def gen():\n",
    "    for i in iris.iterrows():\n",
    "        yield i"
   ]
  },
  {
   "cell_type": "code",
   "execution_count": 45,
   "metadata": {},
   "outputs": [
    {
     "data": {
      "text/plain": [
       "(0,\n",
       " sepal_length       5.1\n",
       " sepal_width        3.5\n",
       " petal_length       1.4\n",
       " petal_width        0.2\n",
       " species         setosa\n",
       " Name: 0, dtype: object)"
      ]
     },
     "execution_count": 45,
     "metadata": {},
     "output_type": "execute_result"
    }
   ],
   "source": [
    "x = gen()\n",
    "next(x)"
   ]
  },
  {
   "cell_type": "code",
   "execution_count": 46,
   "metadata": {},
   "outputs": [
    {
     "data": {
      "text/plain": [
       "<FlatMapDataset shapes: (<unknown>, <unknown>, <unknown>, <unknown>, <unknown>), types: (tf.float32, tf.float32, tf.float32, tf.float32, tf.int32)>"
      ]
     },
     "execution_count": 46,
     "metadata": {},
     "output_type": "execute_result"
    }
   ],
   "source": [
    "tf.data.Dataset.from_generator(gen,(tf.float32,tf.float32,tf.float32,tf.float32,tf.int32))\n"
   ]
  },
  {
   "cell_type": "markdown",
   "metadata": {},
   "source": [
    "### 학습"
   ]
  },
  {
   "cell_type": "code",
   "execution_count": 48,
   "metadata": {},
   "outputs": [],
   "source": [
    "model = tf.keras.models.Sequential([\n",
    "    tf.keras.layers.Dense(10, activation='relu',input_shape=(4,)),\n",
    "    tf.keras.layers.Dense(10, activation='relu'),\n",
    "    tf.keras.layers.Dense(3, activation='softmax'),\n",
    "])"
   ]
  },
  {
   "cell_type": "code",
   "execution_count": 49,
   "metadata": {},
   "outputs": [],
   "source": [
    "model.compile(loss='sparse_categorical_crossentropy',optimizer='adam')"
   ]
  },
  {
   "cell_type": "code",
   "execution_count": 51,
   "metadata": {},
   "outputs": [
    {
     "name": "stdout",
     "output_type": "stream",
     "text": [
      "Epoch 1/5\n",
      "5/5 [==============================] - 0s 798us/step - loss: 1.6586\n",
      "Epoch 2/5\n",
      "5/5 [==============================] - 0s 599us/step - loss: 1.4639\n",
      "Epoch 3/5\n",
      "5/5 [==============================] - 0s 997us/step - loss: 1.2921\n",
      "Epoch 4/5\n",
      "5/5 [==============================] - 0s 605us/step - loss: 1.1391\n",
      "Epoch 5/5\n",
      "5/5 [==============================] - 0s 798us/step - loss: 1.0411\n"
     ]
    },
    {
     "data": {
      "text/plain": [
       "<tensorflow.python.keras.callbacks.History at 0x259d3fdb3c8>"
      ]
     },
     "execution_count": 51,
     "metadata": {},
     "output_type": "execute_result"
    }
   ],
   "source": [
    "model.fit(iris.iloc[:,:-1],iris.species,epochs=5)"
   ]
  },
  {
   "cell_type": "code",
   "execution_count": 55,
   "metadata": {},
   "outputs": [
    {
     "data": {
      "text/plain": [
       "0.9375384449958801"
      ]
     },
     "execution_count": 55,
     "metadata": {},
     "output_type": "execute_result"
    }
   ],
   "source": [
    "# 한 번 할때마다 batch size만큼 학습\n",
    "# fit 보다 내부 구조\n",
    "\n",
    "model.train_on_batch(iris.iloc[:,:-1],iris.species)"
   ]
  },
  {
   "cell_type": "code",
   "execution_count": 56,
   "metadata": {},
   "outputs": [],
   "source": [
    "for i in range(10):\n",
    "    model.train_on_batch(iris.iloc[:,:-1],iris.species)"
   ]
  },
  {
   "cell_type": "markdown",
   "metadata": {},
   "source": [
    "class weight -> data inbalance"
   ]
  },
  {
   "cell_type": "code",
   "execution_count": 66,
   "metadata": {},
   "outputs": [],
   "source": [
    "a = tf.Variable([1.,2,3])\n",
    "with tf.GradientTape() as t:\n",
    "    y = a**2 + 3*a"
   ]
  },
  {
   "cell_type": "code",
   "execution_count": 61,
   "metadata": {},
   "outputs": [],
   "source": [
    "# gradient descent의 방법 정하기\n",
    "optimizer = tf.keras.optimizers.Adam()"
   ]
  },
  {
   "cell_type": "code",
   "execution_count": 67,
   "metadata": {},
   "outputs": [
    {
     "data": {
      "text/plain": [
       "<tf.Tensor: shape=(3,), dtype=float32, numpy=array([5., 7., 9.], dtype=float32)>"
      ]
     },
     "execution_count": 67,
     "metadata": {},
     "output_type": "execute_result"
    }
   ],
   "source": [
    "dy_da = t.gradient(y,a)\n",
    "dy_da"
   ]
  },
  {
   "cell_type": "code",
   "execution_count": 69,
   "metadata": {},
   "outputs": [],
   "source": [
    "optimizer.apply_gradients(zip(dy_da,a))\n",
    "# 첫번째 인자 : gradient를 value에 대해 묶어서 실행\n",
    "# adam이 gradient계산하는 것"
   ]
  },
  {
   "cell_type": "markdown",
   "metadata": {},
   "source": [
    "**fit, train_on_batch**\n",
    "- callbacks\n",
    "- multi-inputs, outputs 인 복잡한 모델에는 loss function 커스터마이징 하면 적용 불가한 경우가 많음.\n",
    "- eg. style transfer\n",
    "\n",
    "**tf.GradientTape**\n",
    "- 동적 사용\n",
    "- tensorflow 에만 의존\n",
    "- 고급기능 이용"
   ]
  },
  {
   "cell_type": "code",
   "execution_count": 108,
   "metadata": {},
   "outputs": [],
   "source": [
    "model = tf.keras.models.Sequential([\n",
    "    tf.keras.layers.Dense(10, activation='relu',input_shape=(4,)),\n",
    "    tf.keras.layers.Dense(10, activation='relu'),\n",
    "    tf.keras.layers.Dense(3, activation='softmax'),\n",
    "])\n",
    "\n",
    "loss = tf.keras.losses.SparseCategoricalCrossentropy()"
   ]
  },
  {
   "cell_type": "markdown",
   "metadata": {},
   "source": [
    "complie과 fit을 수동으로"
   ]
  },
  {
   "cell_type": "code",
   "execution_count": 105,
   "metadata": {},
   "outputs": [],
   "source": [
    "x_train = iris.iloc[:,:-1].values\n",
    "y_train = iris.species.values"
   ]
  },
  {
   "cell_type": "code",
   "execution_count": 80,
   "metadata": {},
   "outputs": [],
   "source": [
    "with tf.GradientTape() as t:\n",
    "    predictions = model(x_train)  # 예측값\n",
    "    loss_ = loss(y_train,predictions)"
   ]
  },
  {
   "cell_type": "code",
   "execution_count": 81,
   "metadata": {},
   "outputs": [
    {
     "data": {
      "text/plain": [
       "[<tf.Variable 'dense_9/kernel:0' shape=(4, 10) dtype=float32, numpy=\n",
       " array([[ 0.46443796, -0.5631132 ,  0.41331053,  0.11566538,  0.05689484,\n",
       "          0.37803042, -0.36628526, -0.5381659 ,  0.1265077 , -0.10558778],\n",
       "        [ 0.209791  , -0.06761456, -0.15256882,  0.53608954, -0.3813281 ,\n",
       "          0.11972892,  0.50992095, -0.6503102 ,  0.35385573,  0.13981211],\n",
       "        [ 0.5520718 , -0.11684656,  0.298981  , -0.07453817,  0.35184753,\n",
       "         -0.38037756,  0.2953273 ,  0.46252584,  0.11583   ,  0.28884226],\n",
       "        [-0.15207654, -0.37631336,  0.2205494 ,  0.35054493, -0.5720679 ,\n",
       "          0.6113715 , -0.56134593,  0.32933652, -0.49595535,  0.5236027 ]],\n",
       "       dtype=float32)>,\n",
       " <tf.Variable 'dense_9/bias:0' shape=(10,) dtype=float32, numpy=array([0., 0., 0., 0., 0., 0., 0., 0., 0., 0.], dtype=float32)>,\n",
       " <tf.Variable 'dense_10/kernel:0' shape=(10, 10) dtype=float32, numpy=\n",
       " array([[ 0.10578495, -0.1318205 ,  0.2185666 , -0.43139324,  0.17732114,\n",
       "          0.44062132, -0.5107225 , -0.47548157, -0.5463863 ,  0.47867763],\n",
       "        [-0.38786095,  0.11481428,  0.4084403 ,  0.4699391 , -0.4069119 ,\n",
       "         -0.18304074, -0.34805077, -0.35720587,  0.13316268, -0.10046834],\n",
       "        [-0.11749625,  0.07258284, -0.5450463 , -0.27692252,  0.38184452,\n",
       "          0.10379857,  0.09375525, -0.27286464,  0.36961985, -0.06544614],\n",
       "        [ 0.39609957, -0.0255959 , -0.01098591, -0.29776555, -0.26669452,\n",
       "          0.3546381 , -0.308411  ,  0.14339525,  0.28227514, -0.16937009],\n",
       "        [-0.05012539,  0.18841076,  0.35686815,  0.39770514, -0.51085347,\n",
       "          0.3310539 ,  0.2000578 , -0.25423703,  0.2656988 ,  0.20066768],\n",
       "        [-0.25885734,  0.05371237, -0.33300674,  0.0826984 , -0.45253807,\n",
       "         -0.41508275,  0.09175491,  0.06241298,  0.328902  , -0.16836575],\n",
       "        [-0.538232  ,  0.22281027, -0.16395932, -0.45386064, -0.37747142,\n",
       "          0.12317824, -0.5007731 ,  0.39839464, -0.4016195 , -0.29058403],\n",
       "        [ 0.15573376, -0.47143078, -0.27291676, -0.11467493,  0.18406731,\n",
       "         -0.52533406, -0.36426264, -0.04612303,  0.51535666, -0.13632578],\n",
       "        [ 0.14557993,  0.26583642, -0.51426756, -0.04126203, -0.4893958 ,\n",
       "          0.42568648, -0.1987893 , -0.24995416, -0.22447464,  0.22278172],\n",
       "        [ 0.04114205,  0.5090474 , -0.46219224,  0.43644643,  0.53853214,\n",
       "         -0.18244487,  0.32056832,  0.48446047, -0.45571798,  0.17723876]],\n",
       "       dtype=float32)>,\n",
       " <tf.Variable 'dense_10/bias:0' shape=(10,) dtype=float32, numpy=array([0., 0., 0., 0., 0., 0., 0., 0., 0., 0.], dtype=float32)>,\n",
       " <tf.Variable 'dense_11/kernel:0' shape=(10, 3) dtype=float32, numpy=\n",
       " array([[-0.62219685, -0.19606102, -0.60403204],\n",
       "        [ 0.4513148 ,  0.15436095, -0.4957059 ],\n",
       "        [-0.37194324, -0.21428305, -0.5887265 ],\n",
       "        [ 0.17236382, -0.5973443 , -0.45805436],\n",
       "        [ 0.26474702,  0.3306936 , -0.39983344],\n",
       "        [ 0.6071975 ,  0.16976702,  0.15999633],\n",
       "        [-0.5875206 , -0.4306792 ,  0.36738884],\n",
       "        [ 0.47762287, -0.10468125,  0.3131109 ],\n",
       "        [ 0.574916  , -0.44578904,  0.4157846 ],\n",
       "        [ 0.20469147,  0.5808116 , -0.42647338]], dtype=float32)>,\n",
       " <tf.Variable 'dense_11/bias:0' shape=(3,) dtype=float32, numpy=array([0., 0., 0.], dtype=float32)>]"
      ]
     },
     "execution_count": 81,
     "metadata": {},
     "output_type": "execute_result"
    }
   ],
   "source": [
    "model.trainable_variables"
   ]
  },
  {
   "cell_type": "code",
   "execution_count": 83,
   "metadata": {},
   "outputs": [
    {
     "data": {
      "text/plain": [
       "False"
      ]
     },
     "execution_count": 83,
     "metadata": {},
     "output_type": "execute_result"
    }
   ],
   "source": [
    "model.trainable_weights is model.trainable_variables"
   ]
  },
  {
   "cell_type": "code",
   "execution_count": 85,
   "metadata": {},
   "outputs": [
    {
     "data": {
      "text/plain": [
       "True"
      ]
     },
     "execution_count": 85,
     "metadata": {},
     "output_type": "execute_result"
    }
   ],
   "source": [
    "model.trainable_weights == model.trainable_variables\n",
    "\n",
    "# 값은 같지만 다른 객체를 통해 만들어짐\n",
    "# variable이 학습할 때 쓰고 weights는 보여줄 때 주로 씀"
   ]
  },
  {
   "cell_type": "code",
   "execution_count": 86,
   "metadata": {},
   "outputs": [],
   "source": [
    "grad = t.gradient(loss_,model.trainable_variables)"
   ]
  },
  {
   "cell_type": "code",
   "execution_count": 88,
   "metadata": {},
   "outputs": [
    {
     "data": {
      "text/plain": [
       "<tf.Variable 'UnreadVariable' shape=() dtype=int64, numpy=1>"
      ]
     },
     "execution_count": 88,
     "metadata": {},
     "output_type": "execute_result"
    }
   ],
   "source": [
    "optimizer = tf.keras.optimizers.Adam()\n",
    "optimizer.apply_gradients(zip(grad,model.trainable_variables))\n",
    "# 한번의 학습이 이루어진 것.."
   ]
  },
  {
   "cell_type": "code",
   "execution_count": 89,
   "metadata": {},
   "outputs": [],
   "source": [
    "train_loss = tf.keras.metrics.Mean()\n",
    "train_acc = tf.keras.metrics.SparseCategoricalAccuracy()"
   ]
  },
  {
   "cell_type": "code",
   "execution_count": 106,
   "metadata": {},
   "outputs": [],
   "source": [
    "@tf.function\n",
    "\n",
    "def train(x_train, y_train):\n",
    "    with tf.GradientTape() as t:\n",
    "        predictions = model(x_train)  # 예측값\n",
    "        loss_ = loss(y_train,predictions)\n",
    "        \n",
    "    grad = t.gradient(loss_,model.trainable_variables)\n",
    "    optimizer.apply_gradients(zip(grad,model.trainable_variables))\n",
    "    train_loss(loss_)\n",
    "    train_acc(y_train,predictions)"
   ]
  },
  {
   "cell_type": "markdown",
   "metadata": {},
   "source": [
    "tf.function : numpy로 되어있어도 tensor 바꿔서 함"
   ]
  },
  {
   "cell_type": "code",
   "execution_count": 98,
   "metadata": {},
   "outputs": [],
   "source": [
    "for i in range(30):\n",
    "    train(x_train,y_train)"
   ]
  },
  {
   "cell_type": "code",
   "execution_count": 92,
   "metadata": {},
   "outputs": [],
   "source": [
    "# dir(train_acc)  -> result"
   ]
  },
  {
   "cell_type": "code",
   "execution_count": 99,
   "metadata": {},
   "outputs": [
    {
     "data": {
      "text/plain": [
       "<tf.Tensor: shape=(), dtype=float32, numpy=0.33333334>"
      ]
     },
     "execution_count": 99,
     "metadata": {},
     "output_type": "execute_result"
    }
   ],
   "source": [
    "train_acc.result()"
   ]
  },
  {
   "cell_type": "code",
   "execution_count": 110,
   "metadata": {},
   "outputs": [
    {
     "name": "stdout",
     "output_type": "stream",
     "text": [
      "0 tf.Tensor(0.3200823, shape=(), dtype=float32)\n",
      "1 tf.Tensor(0.32430893, shape=(), dtype=float32)\n",
      "2 tf.Tensor(0.32843372, shape=(), dtype=float32)\n",
      "3 tf.Tensor(0.3324603, shape=(), dtype=float32)\n",
      "4 tf.Tensor(0.33639216, shape=(), dtype=float32)\n",
      "5 tf.Tensor(0.34023255, shape=(), dtype=float32)\n",
      "6 tf.Tensor(0.34398466, shape=(), dtype=float32)\n",
      "7 tf.Tensor(0.3476515, shape=(), dtype=float32)\n",
      "8 tf.Tensor(0.35123596, shape=(), dtype=float32)\n",
      "9 tf.Tensor(0.35474074, shape=(), dtype=float32)\n",
      "10 tf.Tensor(0.3581685, shape=(), dtype=float32)\n",
      "11 tf.Tensor(0.3615942, shape=(), dtype=float32)\n",
      "12 tf.Tensor(0.3651613, shape=(), dtype=float32)\n",
      "13 tf.Tensor(0.36893618, shape=(), dtype=float32)\n",
      "14 tf.Tensor(0.37277192, shape=(), dtype=float32)\n",
      "15 tf.Tensor(0.37659723, shape=(), dtype=float32)\n",
      "16 tf.Tensor(0.38061854, shape=(), dtype=float32)\n",
      "17 tf.Tensor(0.38517007, shape=(), dtype=float32)\n",
      "18 tf.Tensor(0.389899, shape=(), dtype=float32)\n",
      "19 tf.Tensor(0.3952, shape=(), dtype=float32)\n"
     ]
    }
   ],
   "source": [
    "train_loss_results = []\n",
    "train_accuracy_results = []\n",
    "\n",
    "loss = tf.keras.losses.SparseCategoricalCrossentropy(from_logits=True)\n",
    "optimizer = tf.keras.optimizers.Adam(learning_rate=0.01)\n",
    "\n",
    "@tf.function\n",
    "\n",
    "def train(x_train, y_train):\n",
    "    with tf.GradientTape() as t:\n",
    "        predictions = model(x_train)  # 예측값\n",
    "        loss_ = loss(y_train,predictions)\n",
    "        \n",
    "    grad = t.gradient(loss_,model.trainable_variables)\n",
    "    optimizer.apply_gradients(zip(grad,model.trainable_variables))\n",
    "    train_loss(loss_)\n",
    "    train_acc(y_train,predictions)\n",
    "    \n",
    "for i in range(20):\n",
    "    train(x_train,y_train)\n",
    "    train_loss_results.append(train_loss.result())\n",
    "    train_accuracy_results.append(train_acc.result())\n",
    "    print(i , train_acc.result()) # tf내부 문제로  밖에서 출력해야"
   ]
  },
  {
   "cell_type": "code",
   "execution_count": 112,
   "metadata": {},
   "outputs": [
    {
     "data": {
      "image/png": "[encoded data removed]",
      "text/plain": [
       "<Figure size 864x576 with 2 Axes>"
      ]
     },
     "metadata": {
      "needs_background": "light"
     },
     "output_type": "display_data"
    }
   ],
   "source": [
    "import numpy as np\n",
    "import matplotlib.pyplot as plt\n",
    "fig, axes = plt.subplots(2, sharex=True, figsize=(12, 8))\n",
    "fig.suptitle('metrics')\n",
    "\n",
    "axes[0].set_ylabel(\"loss\", fontsize=14)\n",
    "axes[0].plot(train_loss_results)\n",
    "\n",
    "axes[1].set_ylabel(\"acc\", fontsize=14)\n",
    "axes[1].set_xlabel(\"epochs\", fontsize=14)\n",
    "axes[1].plot(train_accuracy_results)\n",
    "plt.show()"
   ]
  },
  {
   "cell_type": "code",
   "execution_count": 113,
   "metadata": {},
   "outputs": [
    {
     "name": "stdout",
     "output_type": "stream",
     "text": [
      "샘플 0 예측: setosa (56.5%)\n",
      "샘플 1 예측: versicolor (39.9%)\n",
      "샘플 2 예측: virginica (46.7%)\n"
     ]
    }
   ],
   "source": [
    "\n",
    "predict_dataset = tf.convert_to_tensor([\n",
    "    [5.1, 3.3, 1.7, 0.5,],\n",
    "    [5.9, 3.0, 4.2, 1.5,],\n",
    "    [6.9, 3.1, 5.4, 2.1]\n",
    "])\n",
    "\n",
    "predictions = model(predict_dataset)\n",
    "\n",
    "for i, logits in enumerate(predictions):\n",
    "    class_idx = tf.argmax(logits).numpy()\n",
    "    p = tf.nn.softmax(logits)[class_idx]\n",
    "    name = [ 'setosa','versicolor','virginica'][class_idx]\n",
    "    print(\"샘플 {} 예측: {} ({:4.1f}%)\".format(i, name, 100*p))"
   ]
  }
 ],
 "metadata": {
  "kernelspec": {
   "display_name": "Python [conda env:py37] *",
   "language": "python",
   "name": "conda-env-py37-py"
  },
  "language_info": {
   "codemirror_mode": {
    "name": "ipython",
    "version": 3
   },
   "file_extension": ".py",
   "mimetype": "text/x-python",
   "name": "python",
   "nbconvert_exporter": "python",
   "pygments_lexer": "ipython3",
   "version": "3.6.9"
  }
 },
 "nbformat": 4,
 "nbformat_minor": 2
}
