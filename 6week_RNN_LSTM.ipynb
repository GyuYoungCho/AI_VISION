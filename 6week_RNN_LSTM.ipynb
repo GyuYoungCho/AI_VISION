{
 "cells": [
  {
   "cell_type": "markdown",
   "metadata": {},
   "source": [
    "## 배운거\n",
    "DNN\n",
    "\n",
    "CNN\n",
    "- Locally connected\n",
    "- shared weight\n",
    "- CNN models\n",
    "    - Data augmentation\n",
    "    - BN\n",
    "- Transfer learning\n",
    "    - Incremental Learning (catastropic forgetting)\n",
    "    - Knowledge Distillation\n",
    "        - Light Models\n",
    "        \n",
    "RNN\n",
    "\n",
    "## RNN\n",
    "https://colah.github.io/"
   ]
  },
  {
   "cell_type": "code",
   "execution_count": 1,
   "metadata": {},
   "outputs": [
    {
     "name": "stderr",
     "output_type": "stream",
     "text": [
      "C:\\Users\\Gyu\\Anaconda3\\envs\\py37\\lib\\site-packages\\numpy\\_distributor_init.py:32: UserWarning: loaded more than 1 DLL from .libs:\n",
      "C:\\Users\\Gyu\\Anaconda3\\envs\\py37\\lib\\site-packages\\numpy\\.libs\\libopenblas.PYQHXLVVQ7VESDPUVUADXEVJOBGHJPAY.gfortran-win_amd64.dll\n",
      "C:\\Users\\Gyu\\Anaconda3\\envs\\py37\\lib\\site-packages\\numpy\\.libs\\libopenblas.TXA6YQSD3GCQQC22GEQ54J2UDCXDXHWN.gfortran-win_amd64.dll\n",
      "  stacklevel=1)\n"
     ]
    }
   ],
   "source": [
    "import tensorflow as tf"
   ]
  },
  {
   "cell_type": "code",
   "execution_count": 2,
   "metadata": {},
   "outputs": [],
   "source": [
    "(x_train, y_train), (x_test, y_test) = tf.keras.datasets.mnist.load_data()\n",
    "x_train, x_test = x_train / 255.0, x_test / 255.0"
   ]
  },
  {
   "cell_type": "markdown",
   "metadata": {},
   "source": [
    "- real RNN\n",
    "\n",
    "![RNN](real_RNN.PNG)\n",
    "\n",
    "- SimpleRNN : weight 생략"
   ]
  },
  {
   "cell_type": "code",
   "execution_count": 11,
   "metadata": {},
   "outputs": [],
   "source": [
    "model = tf.keras.models.Sequential([\n",
    "    tf.keras.layers.SimpleRNN(10, input_shape=(28,28))\n",
    "])"
   ]
  },
  {
   "cell_type": "code",
   "execution_count": 12,
   "metadata": {},
   "outputs": [
    {
     "name": "stdout",
     "output_type": "stream",
     "text": [
      "Model: \"sequential_4\"\n",
      "_________________________________________________________________\n",
      "Layer (type)                 Output Shape              Param #   \n",
      "=================================================================\n",
      "simple_rnn_4 (SimpleRNN)     (None, 10)                390       \n",
      "=================================================================\n",
      "Total params: 390\n",
      "Trainable params: 390\n",
      "Non-trainable params: 0\n",
      "_________________________________________________________________\n"
     ]
    }
   ],
   "source": [
    "model.summary() # 28*10 + 10*10 + 10"
   ]
  },
  {
   "cell_type": "code",
   "execution_count": 13,
   "metadata": {},
   "outputs": [
    {
     "data": {
      "text/plain": [
       "<tf.Tensor: shape=(1, 10), dtype=float32, numpy=\n",
       "array([[-0.16540456, -0.07944115,  0.02441961,  0.199194  , -0.48233092,\n",
       "         0.33761212,  0.05751814,  0.35455054, -0.07437587,  0.66081357]],\n",
       "      dtype=float32)>"
      ]
     },
     "execution_count": 13,
     "metadata": {},
     "output_type": "execute_result"
    }
   ],
   "source": [
    "temp = x_train[0][tf.newaxis]\n",
    "model(temp)"
   ]
  },
  {
   "cell_type": "code",
   "execution_count": 14,
   "metadata": {},
   "outputs": [
    {
     "data": {
      "text/plain": [
       "TensorShape([1, 10])"
      ]
     },
     "execution_count": 14,
     "metadata": {},
     "output_type": "execute_result"
    }
   ],
   "source": [
    "model(temp).shape"
   ]
  },
  {
   "cell_type": "markdown",
   "metadata": {},
   "source": [
    "(26,28) -> 26번 차례 28개가 들어간다.(26번이 28개 들어온다)\n",
    "    - I am groot(3단어) -> 25개 zero padding등 해야됨.\n"
   ]
  },
  {
   "cell_type": "code",
   "execution_count": 10,
   "metadata": {},
   "outputs": [
    {
     "data": {
      "text/plain": [
       "TensorShape([1, 28, 10])"
      ]
     },
     "execution_count": 10,
     "metadata": {},
     "output_type": "execute_result"
    }
   ],
   "source": [
    "model = tf.keras.models.Sequential([\n",
    "    tf.keras.layers.SimpleRNN(10, input_shape=(28,28),return_sequences=True)\n",
    "]) # return을 sequence로\n",
    "model(temp).shape  "
   ]
  },
  {
   "cell_type": "code",
   "execution_count": 7,
   "metadata": {},
   "outputs": [
    {
     "name": "stdout",
     "output_type": "stream",
     "text": [
      "Model: \"sequential_1\"\n",
      "_________________________________________________________________\n",
      "Layer (type)                 Output Shape              Param #   \n",
      "=================================================================\n",
      "simple_rnn_1 (SimpleRNN)     (None, 10)                390       \n",
      "_________________________________________________________________\n",
      "dense_1 (Dense)              (None, 10)                110       \n",
      "=================================================================\n",
      "Total params: 500\n",
      "Trainable params: 500\n",
      "Non-trainable params: 0\n",
      "_________________________________________________________________\n"
     ]
    }
   ],
   "source": [
    "model = tf.keras.models.Sequential([\n",
    "    tf.keras.layers.SimpleRNN(10, input_shape=(28,28),return_sequences=False, activation='tanh'),\n",
    "    tf.keras.layers.Dense(10, activation='softmax')\n",
    "]) # return을 sequence로\n",
    "model.summary()\n",
    "\n",
    "# 일차식이 들어온거라 Flatten 안해도 됨"
   ]
  },
  {
   "cell_type": "code",
   "execution_count": 11,
   "metadata": {},
   "outputs": [
    {
     "name": "stdout",
     "output_type": "stream",
     "text": [
      "Model: \"sequential_2\"\n",
      "_________________________________________________________________\n",
      "Layer (type)                 Output Shape              Param #   \n",
      "=================================================================\n",
      "simple_rnn_2 (SimpleRNN)     (None, 28, 10)            390       \n",
      "_________________________________________________________________\n",
      "flatten_1 (Flatten)          (None, 280)               0         \n",
      "_________________________________________________________________\n",
      "dense_2 (Dense)              (None, 10)                2810      \n",
      "=================================================================\n",
      "Total params: 3,200\n",
      "Trainable params: 3,200\n",
      "Non-trainable params: 0\n",
      "_________________________________________________________________\n"
     ]
    }
   ],
   "source": [
    "model = tf.keras.models.Sequential([\n",
    "    tf.keras.layers.SimpleRNN(10, input_shape=(28,28),return_sequences=True, activation='tanh'),\n",
    "    tf.keras.layers.Flatten(),\n",
    "    tf.keras.layers.Dense(10, activation='softmax')\n",
    "]) # return을 sequence로\n",
    "model.summary()"
   ]
  },
  {
   "cell_type": "markdown",
   "metadata": {},
   "source": [
    "#### return_sequences = False\n",
    "- many to 1 "
   ]
  },
  {
   "cell_type": "code",
   "execution_count": 12,
   "metadata": {},
   "outputs": [],
   "source": [
    "model.compile(loss = 'sparse_categorical_crossentropy',optimizer='adam',metrics=['acc'])"
   ]
  },
  {
   "cell_type": "code",
   "execution_count": 9,
   "metadata": {},
   "outputs": [
    {
     "name": "stdout",
     "output_type": "stream",
     "text": [
      "Epoch 1/10\n",
      "1875/1875 [==============================] - 4s 2ms/step - loss: 1.5954 - acc: 0.4166\n",
      "Epoch 2/10\n",
      "1875/1875 [==============================] - 4s 2ms/step - loss: 1.1873 - acc: 0.5874\n",
      "Epoch 3/10\n",
      "1875/1875 [==============================] - 4s 2ms/step - loss: 1.0849 - acc: 0.6252\n",
      "Epoch 4/10\n",
      "1875/1875 [==============================] - 4s 2ms/step - loss: 1.0222 - acc: 0.6503\n",
      "Epoch 5/10\n",
      "1875/1875 [==============================] - 4s 2ms/step - loss: 0.9669 - acc: 0.6660\n",
      "Epoch 6/10\n",
      "1875/1875 [==============================] - 4s 2ms/step - loss: 0.9206 - acc: 0.6760\n",
      "Epoch 7/10\n",
      "1875/1875 [==============================] - 4s 2ms/step - loss: 0.8808 - acc: 0.6906\n",
      "Epoch 8/10\n",
      "1875/1875 [==============================] - 4s 2ms/step - loss: 0.8504 - acc: 0.7045\n",
      "Epoch 9/10\n",
      "1875/1875 [==============================] - 4s 2ms/step - loss: 0.8246 - acc: 0.7173\n",
      "Epoch 10/10\n",
      "1875/1875 [==============================] - 4s 2ms/step - loss: 0.8019 - acc: 0.7280\n"
     ]
    },
    {
     "data": {
      "text/plain": [
       "<tensorflow.python.keras.callbacks.History at 0x188d7cd9208>"
      ]
     },
     "execution_count": 9,
     "metadata": {},
     "output_type": "execute_result"
    }
   ],
   "source": [
    "model.fit(x_train,y_train,epochs=10)"
   ]
  },
  {
   "cell_type": "code",
   "execution_count": 10,
   "metadata": {},
   "outputs": [
    {
     "name": "stdout",
     "output_type": "stream",
     "text": [
      "313/313 [==============================] - 0s 1ms/step - loss: 0.7647 - acc: 0.7375\n"
     ]
    },
    {
     "data": {
      "text/plain": [
       "[0.764683187007904, 0.737500011920929]"
      ]
     },
     "execution_count": 10,
     "metadata": {},
     "output_type": "execute_result"
    }
   ],
   "source": [
    "model.evaluate(x_test,y_test)"
   ]
  },
  {
   "cell_type": "markdown",
   "metadata": {},
   "source": [
    "#### return_sequences = True\n",
    "- 1 to many"
   ]
  },
  {
   "cell_type": "code",
   "execution_count": 13,
   "metadata": {},
   "outputs": [
    {
     "name": "stdout",
     "output_type": "stream",
     "text": [
      "Epoch 1/10\n",
      "1875/1875 [==============================] - 4s 2ms/step - loss: 0.4985 - acc: 0.8508\n",
      "Epoch 2/10\n",
      "1875/1875 [==============================] - 4s 2ms/step - loss: 0.2539 - acc: 0.9233\n",
      "Epoch 3/10\n",
      "1875/1875 [==============================] - 4s 2ms/step - loss: 0.2073 - acc: 0.9375\n",
      "Epoch 4/10\n",
      "1875/1875 [==============================] - 4s 2ms/step - loss: 0.1817 - acc: 0.9452\n",
      "Epoch 5/10\n",
      "1875/1875 [==============================] - 4s 2ms/step - loss: 0.1659 - acc: 0.9504\n",
      "Epoch 6/10\n",
      "1875/1875 [==============================] - 4s 2ms/step - loss: 0.1544 - acc: 0.9534\n",
      "Epoch 7/10\n",
      "1875/1875 [==============================] - 4s 2ms/step - loss: 0.1458 - acc: 0.9565\n",
      "Epoch 8/10\n",
      "1875/1875 [==============================] - 4s 2ms/step - loss: 0.1391 - acc: 0.9579\n",
      "Epoch 9/10\n",
      "1875/1875 [==============================] - 4s 2ms/step - loss: 0.1326 - acc: 0.9596\n",
      "Epoch 10/10\n",
      "1875/1875 [==============================] - 4s 2ms/step - loss: 0.1270 - acc: 0.9615\n",
      "313/313 [==============================] - 0s 1ms/step - loss: 0.1230 - acc: 0.9628\n"
     ]
    },
    {
     "data": {
      "text/plain": [
       "[0.12299051880836487, 0.9628000259399414]"
      ]
     },
     "execution_count": 13,
     "metadata": {},
     "output_type": "execute_result"
    }
   ],
   "source": [
    "model.fit(x_train,y_train,epochs=10)\n",
    "model.evaluate(x_test,y_test)"
   ]
  },
  {
   "cell_type": "markdown",
   "metadata": {},
   "source": [
    "`tf.keras.layers.RNN`\n",
    "- cell instance 한 개\n",
    "    \n",
    "return_state : 마지막 layer state 변환 여부"
   ]
  },
  {
   "cell_type": "code",
   "execution_count": null,
   "metadata": {},
   "outputs": [],
   "source": [
    "model = tf.keras.models.Sequential([\n",
    "#     tf.keras.layers.SimpleRNN(10, input_shape=(28,28),return_sequences=True, activation='tanh'),\n",
    "    tf.keras.layers.RNN(10, input_shape=(28,28),return_sequences=True, \n",
    "                        ,return_state=True, activation='tanh'),\n",
    "    tf.keras.layers.Flatten(),\n",
    "    tf.keras.layers.Dense(10, activation='softmax')\n",
    "])"
   ]
  },
  {
   "cell_type": "code",
   "execution_count": 43,
   "metadata": {},
   "outputs": [
    {
     "name": "stdout",
     "output_type": "stream",
     "text": [
      "Model: \"functional_1\"\n",
      "_________________________________________________________________\n",
      "Layer (type)                 Output Shape              Param #   \n",
      "=================================================================\n",
      "input_10 (InputLayer)        [(None, 28, 28)]          0         \n",
      "_________________________________________________________________\n",
      "simple_rnn_5 (SimpleRNN)     [(None, 10), (None, 10)]  390       \n",
      "=================================================================\n",
      "Total params: 390\n",
      "Trainable params: 390\n",
      "Non-trainable params: 0\n",
      "_________________________________________________________________\n"
     ]
    }
   ],
   "source": [
    "inp = tf.keras.Input((28,28))\n",
    "rnn = tf.keras.layers.SimpleRNN(10, return_state=True)\n",
    "model = tf.keras.models.Model(inputs=inp, outputs=rnn(inp))\n",
    "model.summary()\n",
    "\n",
    "# 2개의 output"
   ]
  },
  {
   "cell_type": "markdown",
   "metadata": {},
   "source": [
    "many to many 문제 : **time distributed**\n",
    "- 각각의 ,dense layer를 wrapper 방식으로 감싼다. \n",
    "- dense에 추가해서 넣어줌.\n",
    "- input 최소 3차"
   ]
  },
  {
   "cell_type": "code",
   "execution_count": 24,
   "metadata": {},
   "outputs": [],
   "source": [
    "layer1 = tf.keras.layers.SimpleRNN(10, return_sequences=True, input_shape=(28,28))\n",
    "dense =  tf.keras.layers.Dense(10)\n",
    "layer2 = tf.keras.layers.TimeDistributed(dense)\n",
    "# layer를 넣어야 함 wrapper방식"
   ]
  },
  {
   "cell_type": "code",
   "execution_count": 25,
   "metadata": {},
   "outputs": [
    {
     "name": "stdout",
     "output_type": "stream",
     "text": [
      "Model: \"sequential_4\"\n",
      "_________________________________________________________________\n",
      "Layer (type)                 Output Shape              Param #   \n",
      "=================================================================\n",
      "simple_rnn_4 (SimpleRNN)     (None, 28, 10)            390       \n",
      "_________________________________________________________________\n",
      "time_distributed_1 (TimeDist (None, 28, 10)            110       \n",
      "=================================================================\n",
      "Total params: 500\n",
      "Trainable params: 500\n",
      "Non-trainable params: 0\n",
      "_________________________________________________________________\n"
     ]
    }
   ],
   "source": [
    "model = tf.keras.models.Sequential([\n",
    "    layer1,\n",
    "    layer2\n",
    "])\n",
    "model.summary()\n",
    "\n",
    "# TensorShape([1, 10])  -> TensorShape([1, 28, 10])\n"
   ]
  },
  {
   "cell_type": "markdown",
   "metadata": {},
   "source": [
    "layer가 깊어지면 학습이 잘 되지 않는 문제(**gradient vanishing**)\n",
    "    - relu\n",
    "    - initialize\n"
   ]
  },
  {
   "cell_type": "code",
   "execution_count": 44,
   "metadata": {},
   "outputs": [],
   "source": [
    "x  = tf.Variable(tf.range(-8.,8.,1))"
   ]
  },
  {
   "cell_type": "code",
   "execution_count": 45,
   "metadata": {},
   "outputs": [],
   "source": [
    "with tf.GradientTape(persistent=True) as T:\n",
    "    y = tf.nn.sigmoid(x)"
   ]
  },
  {
   "cell_type": "code",
   "execution_count": 46,
   "metadata": {},
   "outputs": [
    {
     "data": {
      "text/plain": [
       "[<matplotlib.lines.Line2D at 0x18900fc8940>]"
      ]
     },
     "execution_count": 46,
     "metadata": {},
     "output_type": "execute_result"
    },
    {
     "data": {
      "image/png": "[encoded data removed]",
      "text/plain": [
       "<Figure size 432x288 with 1 Axes>"
      ]
     },
     "metadata": {
      "needs_background": "light"
     },
     "output_type": "display_data"
    }
   ],
   "source": [
    "import matplotlib.pyplot as plt\n",
    "plt.plot(x.numpy(),y.numpy())\n",
    "plt.plot(x.numpy(),T.gradient(y,x).numpy() )"
   ]
  },
  {
   "cell_type": "code",
   "execution_count": 40,
   "metadata": {},
   "outputs": [],
   "source": [
    "x = tf.random.normal((4,4))"
   ]
  },
  {
   "cell_type": "code",
   "execution_count": 41,
   "metadata": {},
   "outputs": [
    {
     "data": {
      "text/plain": [
       "<tf.Tensor: shape=(4, 4), dtype=float32, numpy=\n",
       "array([[ 1.2963110e+26,  3.2306495e+26, -5.2384736e+25,  2.3815949e+26],\n",
       "       [-2.9664627e+25, -7.3929773e+25,  1.1987656e+25, -5.4500094e+25],\n",
       "       [-2.1909740e+25, -5.4603160e+25,  8.8538642e+24, -4.0252769e+25],\n",
       "       [ 2.7151069e+25,  6.7665530e+25, -1.0971916e+25,  4.9882191e+25]],\n",
       "      dtype=float32)>"
      ]
     },
     "execution_count": 41,
     "metadata": {},
     "output_type": "execute_result"
    }
   ],
   "source": [
    "# gradient 학습\n",
    "# 파라미터가 계속 커짐 -> gradient exploding!\n",
    "for i in range(100):\n",
    "    x = tf.matmul(x, tf.random.normal((4,4)))\n",
    "x"
   ]
  },
  {
   "cell_type": "markdown",
   "metadata": {},
   "source": [
    "gradient exploding! 문제\n",
    "- 특정 값 이상일 경우 잘라버림 -> gradient cliping "
   ]
  },
  {
   "cell_type": "markdown",
   "metadata": {},
   "source": [
    "tf.keras.optimizers.Optimizer\n",
    "\n",
    "RNN에서 long-term-dependency 문제 \n",
    "- 가까운 것은 잘 기억 먼 것에 대한 것은 죽어버림\n",
    "- 이것 때문에 거의 죽은 기술\n",
    "\n",
    "## LSTM\n",
    "- RNN의 문제 해결\n",
    "- 구조 자체를 변경\n",
    "- 변형 LSTM  -> GNU(자연어 처리), ConvLSTM2D(영상처리)\n",
    "\n",
    "- cell state : 기억을 저장\n",
    "- forget gate layer : 기억을 보존하는 값이 지나감\n",
    "- input gate : 입력\n",
    "- output gate : 출력\n",
    "\n",
    "<br>\n",
    "\n",
    "- gradient vanishing, cliping 등 문제 해결"
   ]
  },
  {
   "cell_type": "code",
   "execution_count": null,
   "metadata": {},
   "outputs": [],
   "source": [
    "model = tf.keras.models.Sequential([\n",
    "    tf.keras.layers.SimpleRNN(10, input_shape=(28,28),return_sequences=True)\n",
    "])"
   ]
  }
 ],
 "metadata": {
  "kernelspec": {
   "display_name": "Python [conda env:py37] *",
   "language": "python",
   "name": "conda-env-py37-py"
  },
  "language_info": {
   "codemirror_mode": {
    "name": "ipython",
    "version": 3
   },
   "file_extension": ".py",
   "mimetype": "text/x-python",
   "name": "python",
   "nbconvert_exporter": "python",
   "pygments_lexer": "ipython3",
   "version": "3.6.9"
  }
 },
 "nbformat": 4,
 "nbformat_minor": 2
}
