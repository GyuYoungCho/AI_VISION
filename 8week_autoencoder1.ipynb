{
 "cells": [
  {
   "cell_type": "markdown",
   "metadata": {},
   "source": [
    "https://medium.com/@baditaflorin/key-differences-between-medium-posts-tagged-artificial-intelligence-machine-learning-deep-f9b3826a3f27\n",
    "\n",
    "![a](lan_goodfellow.PNG)\n",
    "\n",
    "### Representation learning\n",
    "- 구조 상의 특징을 찾아내는 학습(숨겨진 구조 찾는)\n",
    "\n",
    "AI>ML>RL>DL\n",
    "\n",
    "### model\n",
    "\n",
    "- 실생활 > 특별한 가정하에 단순화 하여 특별한 형태로 만들어서 해결\n",
    "- **computational model** : 기계(컴퓨터)가 계산 가능한 모델\n",
    "- Intelligence > AI\n",
    "- 그림/기호/수식/글 등으로 표현\n",
    "    - computational model는 programming구조를 통해 나타냄\n",
    "- 사람과 컴퓨터가 모두 이해가능한 **Math**로 표현\n",
    "- 컴퓨터는reasoning을 못함\n",
    "    - 사람의 가이드라인 내 최적의 선택(knowledge base)\n",
    "    - symbol을 기준으로 logic으로 문제 풀기, 이성적 논리구조(machine learning)\n",
    "- function programming\n",
    "\n",
    "\n",
    "## Autoencoder\n",
    "- 단순화한 특징 찾기\n",
    "- 복원도 가능\n",
    "- 압축 전, 후로 다른 mode\n",
    "- 고유 특징을 supervise learning에서 label없이 특징 찾기\n",
    "\n",
    "https://blog.keras.io/building-autoencoders-in-keras.html\n",
    "\n",
    "- autoencoder 잘 나온 예시\n",
    "\n",
    "Recent Advances in Autoencoder-Based Representation Learning\n",
    "\n",
    "- 최근 잘 나온 논문\n",
    "- 고유 특성을 supervised없이 뽑기\n",
    "\n",
    "Learning useful representations with little or no supervision is a key challenge in\n",
    "artificial intelligence\n",
    "\n",
    "- 압축 -> 고유 특성 찾기 -> 손실 있는 복원(생성)\n",
    "- **encoding, decoding, loss function** 중요\n",
    "\n",
    "실용성\n",
    "- data denoising\n",
    "- dimensionality for data visualization\n",
    "- VAE : 생성 모델\n",
    "\n",
    "\n",
    "---\n",
    "\n",
    "## Implement issue"
   ]
  },
  {
   "cell_type": "code",
   "execution_count": 1,
   "metadata": {},
   "outputs": [
    {
     "name": "stderr",
     "output_type": "stream",
     "text": [
      "C:\\Users\\Gyu\\Anaconda3\\envs\\py37\\lib\\site-packages\\numpy\\_distributor_init.py:32: UserWarning: loaded more than 1 DLL from .libs:\n",
      "C:\\Users\\Gyu\\Anaconda3\\envs\\py37\\lib\\site-packages\\numpy\\.libs\\libopenblas.PYQHXLVVQ7VESDPUVUADXEVJOBGHJPAY.gfortran-win_amd64.dll\n",
      "C:\\Users\\Gyu\\Anaconda3\\envs\\py37\\lib\\site-packages\\numpy\\.libs\\libopenblas.TXA6YQSD3GCQQC22GEQ54J2UDCXDXHWN.gfortran-win_amd64.dll\n",
      "  stacklevel=1)\n"
     ]
    }
   ],
   "source": [
    "import tensorflow as tf"
   ]
  },
  {
   "cell_type": "code",
   "execution_count": 103,
   "metadata": {},
   "outputs": [],
   "source": [
    "(x_train, _),(x_test, _) = tf.keras.datasets.mnist.load_data()"
   ]
  },
  {
   "cell_type": "code",
   "execution_count": 104,
   "metadata": {},
   "outputs": [],
   "source": [
    "x_train = x_train.reshape(60000,28*28)\n",
    "x_train = x_train/255\n",
    "\n",
    "inputs = tf.keras.layers.Input((784,))\n",
    "encoder = tf.keras.layers.Dense(32,activation='relu')(inputs)\n",
    "decoder = tf.keras.layers.Dense(784,activation='sigmoid')(encoder)\n",
    "\n",
    "\n",
    "autoencoder = tf.keras.models.Model(inputs, decoder)"
   ]
  },
  {
   "cell_type": "code",
   "execution_count": 105,
   "metadata": {},
   "outputs": [],
   "source": [
    "# 자신이 잘 나오는지 아닌지 loss : binary_crossentropy\n",
    "autoencoder.compile(loss = 'binary_crossentropy',optimizer='adam')"
   ]
  },
  {
   "cell_type": "code",
   "execution_count": 106,
   "metadata": {},
   "outputs": [
    {
     "name": "stdout",
     "output_type": "stream",
     "text": [
      "Epoch 1/50\n",
      "1875/1875 [==============================] - 2s 944us/step - loss: 0.1613\n",
      "Epoch 2/50\n",
      "1875/1875 [==============================] - 2s 959us/step - loss: 0.1038\n",
      "Epoch 3/50\n",
      "1875/1875 [==============================] - 2s 858us/step - loss: 0.0964\n",
      "Epoch 4/50\n",
      "1875/1875 [==============================] - 2s 894us/step - loss: 0.0950\n",
      "Epoch 5/50\n",
      "1875/1875 [==============================] - 2s 861us/step - loss: 0.0945\n",
      "Epoch 6/50\n",
      "1875/1875 [==============================] - 2s 845us/step - loss: 0.0942\n",
      "Epoch 7/50\n",
      "1875/1875 [==============================] - 2s 909us/step - loss: 0.0940\n",
      "Epoch 8/50\n",
      "1875/1875 [==============================] - 2s 881us/step - loss: 0.0939\n",
      "Epoch 9/50\n",
      "1875/1875 [==============================] - 2s 868us/step - loss: 0.0938\n",
      "Epoch 10/50\n",
      "1875/1875 [==============================] - 2s 853us/step - loss: 0.0937\n",
      "Epoch 11/50\n",
      "1875/1875 [==============================] - 2s 889us/step - loss: 0.0937\n",
      "Epoch 12/50\n",
      "1875/1875 [==============================] - 2s 868us/step - loss: 0.0936\n",
      "Epoch 13/50\n",
      "1875/1875 [==============================] - 2s 897us/step - loss: 0.0936\n",
      "Epoch 14/50\n",
      "1875/1875 [==============================] - 2s 875us/step - loss: 0.0935\n",
      "Epoch 15/50\n",
      "1875/1875 [==============================] - 2s 919us/step - loss: 0.0935\n",
      "Epoch 16/50\n",
      "1875/1875 [==============================] - 2s 860us/step - loss: 0.0934\n",
      "Epoch 17/50\n",
      "1875/1875 [==============================] - 2s 841us/step - loss: 0.0934\n",
      "Epoch 18/50\n",
      "1875/1875 [==============================] - 1s 771us/step - loss: 0.0934\n",
      "Epoch 19/50\n",
      "1875/1875 [==============================] - 2s 802us/step - loss: 0.0933\n",
      "Epoch 20/50\n",
      "1875/1875 [==============================] - 1s 769us/step - loss: 0.0933\n",
      "Epoch 21/50\n",
      "1875/1875 [==============================] - 2s 839us/step - loss: 0.0933\n",
      "Epoch 22/50\n",
      "1875/1875 [==============================] - 2s 913us/step - loss: 0.0932\n",
      "Epoch 23/50\n",
      "1875/1875 [==============================] - 2s 1ms/step - loss: 0.0932\n",
      "Epoch 24/50\n",
      "1875/1875 [==============================] - 2s 915us/step - loss: 0.0932\n",
      "Epoch 25/50\n",
      "1875/1875 [==============================] - 2s 886us/step - loss: 0.0931\n",
      "Epoch 26/50\n",
      "1875/1875 [==============================] - 2s 1ms/step - loss: 0.0931\n",
      "Epoch 27/50\n",
      "1875/1875 [==============================] - 2s 920us/step - loss: 0.0931\n",
      "Epoch 28/50\n",
      "1875/1875 [==============================] - 2s 1ms/step - loss: 0.0931\n",
      "Epoch 29/50\n",
      "1875/1875 [==============================] - 2s 1ms/step - loss: 0.0931\n",
      "Epoch 30/50\n",
      "1875/1875 [==============================] - 2s 1ms/step - loss: 0.0930\n",
      "Epoch 31/50\n",
      "1875/1875 [==============================] - 2s 1ms/step - loss: 0.0930\n",
      "Epoch 32/50\n",
      "1875/1875 [==============================] - 2s 1ms/step - loss: 0.0930\n",
      "Epoch 33/50\n",
      "1875/1875 [==============================] - 2s 1ms/step - loss: 0.0930\n",
      "Epoch 34/50\n",
      "1875/1875 [==============================] - 2s 1ms/step - loss: 0.0929\n",
      "Epoch 35/50\n",
      "1875/1875 [==============================] - 2s 879us/step - loss: 0.0929\n",
      "Epoch 36/50\n",
      "1875/1875 [==============================] - 2s 868us/step - loss: 0.0929\n",
      "Epoch 37/50\n",
      "1875/1875 [==============================] - 2s 860us/step - loss: 0.0929\n",
      "Epoch 38/50\n",
      "1875/1875 [==============================] - 2s 857us/step - loss: 0.0929\n",
      "Epoch 39/50\n",
      "1875/1875 [==============================] - 2s 903us/step - loss: 0.0928\n",
      "Epoch 40/50\n",
      "1875/1875 [==============================] - 2s 838us/step - loss: 0.0928\n",
      "Epoch 41/50\n",
      "1875/1875 [==============================] - 2s 868us/step - loss: 0.0928\n",
      "Epoch 42/50\n",
      "1875/1875 [==============================] - 2s 861us/step - loss: 0.0928\n",
      "Epoch 43/50\n",
      "1875/1875 [==============================] - 2s 882us/step - loss: 0.0928\n",
      "Epoch 44/50\n",
      "1875/1875 [==============================] - 2s 876us/step - loss: 0.0927\n",
      "Epoch 45/50\n",
      "1875/1875 [==============================] - 2s 882us/step - loss: 0.0927\n",
      "Epoch 46/50\n",
      "1875/1875 [==============================] - 2s 878us/step - loss: 0.0927\n",
      "Epoch 47/50\n",
      "1875/1875 [==============================] - 2s 842us/step - loss: 0.0927\n",
      "Epoch 48/50\n",
      "1875/1875 [==============================] - 2s 828us/step - loss: 0.0927\n",
      "Epoch 49/50\n",
      "1875/1875 [==============================] - 2s 892us/step - loss: 0.0927\n",
      "Epoch 50/50\n",
      "1875/1875 [==============================] - 2s 868us/step - loss: 0.0927\n"
     ]
    },
    {
     "data": {
      "text/plain": [
       "<tensorflow.python.keras.callbacks.History at 0x2305f86a668>"
      ]
     },
     "execution_count": 106,
     "metadata": {},
     "output_type": "execute_result"
    }
   ],
   "source": [
    "autoencoder.fit(x_train, x_train, epochs=50)"
   ]
  },
  {
   "cell_type": "code",
   "execution_count": 107,
   "metadata": {},
   "outputs": [],
   "source": [
    "x_test = x_test.reshape(-1,28*28)\n",
    "x_test = x_test/255"
   ]
  },
  {
   "cell_type": "code",
   "execution_count": 108,
   "metadata": {},
   "outputs": [
    {
     "data": {
      "text/plain": [
       "<matplotlib.image.AxesImage at 0x23042f990b8>"
      ]
     },
     "execution_count": 108,
     "metadata": {},
     "output_type": "execute_result"
    },
    {
     "data": {
      "image/png": "[encoded data removed]",
      "text/plain": [
       "<Figure size 432x288 with 1 Axes>"
      ]
     },
     "metadata": {
      "needs_background": "light"
     },
     "output_type": "display_data"
    }
   ],
   "source": [
    "import matplotlib.pyplot as plt\n",
    "plt.imshow(x_test[0].reshape(28,28),cmap='gray')"
   ]
  },
  {
   "cell_type": "code",
   "execution_count": 34,
   "metadata": {},
   "outputs": [],
   "source": [
    "import numpy as np\n",
    "\n",
    "encoder_layer = autoencoder.layers[1]"
   ]
  },
  {
   "cell_type": "code",
   "execution_count": 35,
   "metadata": {},
   "outputs": [
    {
     "name": "stderr",
     "output_type": "stream",
     "text": [
      "WARNING: Logging before flag parsing goes to stderr.\n",
      "W1027 20:49:39.902041  8812 base_layer.py:2377] Layer dense_12 is casting an input tensor from dtype float64 to the layer's dtype of float32, which is new behavior in TensorFlow 2.  The layer has dtype float32 because its dtype defaults to floatx.\n",
      "\n",
      "If you intended to run this layer in float32, you can safely ignore this warning. If in doubt, this warning is likely only an issue if you are porting a TensorFlow 1.X model to TensorFlow 2.\n",
      "\n",
      "To change all layers to have dtype float64 by default, call `tf.keras.backend.set_floatx('float64')`. To change just this layer, pass dtype='float64' to the layer constructor. If you are the author of this layer, you can disable autocasting by passing autocast=False to the base Layer constructor.\n",
      "\n"
     ]
    },
    {
     "data": {
      "text/plain": [
       "<tf.Tensor: shape=(1, 32), dtype=float32, numpy=\n",
       "array([[2.0251007e+00, 0.0000000e+00, 2.3448344e-01, 2.5413637e+00,\n",
       "        1.4205833e-01, 3.7552378e+00, 1.7033662e-01, 0.0000000e+00,\n",
       "        0.0000000e+00, 8.2977394e+01, 0.0000000e+00, 0.0000000e+00,\n",
       "        0.0000000e+00, 0.0000000e+00, 9.0503899e+01, 5.9007984e+01,\n",
       "        6.5964600e-03, 0.0000000e+00, 0.0000000e+00, 0.0000000e+00,\n",
       "        1.3548296e+01, 0.0000000e+00, 0.0000000e+00, 0.0000000e+00,\n",
       "        0.0000000e+00, 0.0000000e+00, 0.0000000e+00, 2.3473467e-01,\n",
       "        0.0000000e+00, 0.0000000e+00, 1.5814668e+02, 0.0000000e+00]],\n",
       "      dtype=float32)>"
      ]
     },
     "execution_count": 35,
     "metadata": {},
     "output_type": "execute_result"
    }
   ],
   "source": [
    "encoder_layer(x_test[0][np.newaxis])"
   ]
  },
  {
   "cell_type": "code",
   "execution_count": 36,
   "metadata": {
    "scrolled": true
   },
   "outputs": [
    {
     "data": {
      "text/plain": [
       "<matplotlib.image.AxesImage at 0x23042e18668>"
      ]
     },
     "execution_count": 36,
     "metadata": {},
     "output_type": "execute_result"
    },
    {
     "data": {
      "image/png": "[encoded data removed]",
      "text/plain": [
       "<Figure size 432x288 with 1 Axes>"
      ]
     },
     "metadata": {
      "needs_background": "light"
     },
     "output_type": "display_data"
    }
   ],
   "source": [
    "decoder_image = autoencoder(x_test[0][np.newaxis]).numpy()\n",
    "plt.imshow(decoder_image.reshape(28,28),cmap='gray')"
   ]
  },
  {
   "cell_type": "markdown",
   "metadata": {},
   "source": [
    "**개선**"
   ]
  },
  {
   "cell_type": "code",
   "execution_count": 37,
   "metadata": {},
   "outputs": [],
   "source": [
    "inputs = tf.keras.layers.Input((784,))\n",
    "encoder = tf.keras.layers.Dense(32,activation='relu')(inputs)\n",
    "decoder = tf.keras.layers.Dense(784,activation='sigmoid')(encoder)\n",
    "\n",
    "autoencoder = tf.keras.models.Model(inputs, decoder)\n",
    "encoder_model = tf.keras.models.Model(inputs, encoder)\n",
    "\n",
    "decoder_inputs = tf.keras.Input((32,))\n",
    "decoder_layer = autoencoder.layers[-1]\n",
    "decoder_model = tf.keras.models.Model(decoder_inputs, decoder_layer(decoder_inputs))"
   ]
  },
  {
   "cell_type": "markdown",
   "metadata": {},
   "source": [
    "- 학습 잘되는지 모름\n",
    "\n",
    "\n",
    "reguizar\n",
    "- kernel regulizer\n",
    "- bias\n",
    "- activity_regularizer : activation되는 값을 규제사킴."
   ]
  },
  {
   "cell_type": "code",
   "execution_count": 38,
   "metadata": {},
   "outputs": [
    {
     "data": {
      "text/plain": [
       "<tensorflow.python.keras.layers.core.Dense at 0x23042eaddd8>"
      ]
     },
     "execution_count": 38,
     "metadata": {},
     "output_type": "execute_result"
    }
   ],
   "source": [
    "autoencoder.layers[-1]"
   ]
  },
  {
   "cell_type": "code",
   "execution_count": 40,
   "metadata": {},
   "outputs": [
    {
     "data": {
      "text/plain": [
       "<tf.Tensor 'dense_15/Sigmoid:0' shape=(None, 784) dtype=float32>"
      ]
     },
     "execution_count": 40,
     "metadata": {},
     "output_type": "execute_result"
    }
   ],
   "source": [
    "decoder"
   ]
  },
  {
   "cell_type": "markdown",
   "metadata": {},
   "source": [
    "### regularizer\n",
    "- 제약 사항을 주어 조건 규제하여 단순화 시켜서 개선시켜서 학습이 잘 됨\n",
    "- regularizer L1,L2\n",
    "- kernel, bias, activity_regularizer\n",
    "- 변화 정도에 텀을 주어 너무 크게 변화지 않도록 함"
   ]
  },
  {
   "cell_type": "code",
   "execution_count": 67,
   "metadata": {},
   "outputs": [],
   "source": [
    "inputs = tf.keras.layers.Input((784,))\n",
    "encoder = tf.keras.layers.Dense(32,activation='relu', activity_regularizer=tf.keras.regularizers.l1())(inputs)\n",
    "decoder = tf.keras.layers.Dense(784,activation='sigmoid')(encoder)\n",
    "\n",
    "autoencoder = tf.keras.models.Model(inputs, decoder)\n",
    "\n",
    "encoder_model = tf.keras.models.Model(inputs, encoder)\n",
    "\n",
    "decoder_inputs = tf.keras.Input((32,))\n",
    "decoder_layer = autoencoder.layers[-1]\n",
    "decoder_model = tf.keras.models.Model(decoder_inputs, decoder_layer(decoder_inputs))"
   ]
  },
  {
   "cell_type": "code",
   "execution_count": 68,
   "metadata": {},
   "outputs": [
    {
     "name": "stdout",
     "output_type": "stream",
     "text": [
      "Epoch 1/50\n",
      "1875/1875 [==============================] - 2s 1ms/step - loss: 0.4855\n",
      "Epoch 2/50\n",
      "1875/1875 [==============================] - 2s 872us/step - loss: 0.3233\n",
      "Epoch 3/50\n",
      "1875/1875 [==============================] - 2s 858us/step - loss: 0.2835\n",
      "Epoch 4/50\n",
      "1875/1875 [==============================] - 2s 832us/step - loss: 0.2706\n",
      "Epoch 5/50\n",
      "1875/1875 [==============================] - 2s 853us/step - loss: 0.2659\n",
      "Epoch 6/50\n",
      "1875/1875 [==============================] - 2s 846us/step - loss: 0.2641\n",
      "Epoch 7/50\n",
      "1875/1875 [==============================] - 2s 910us/step - loss: 0.2633\n",
      "Epoch 8/50\n",
      "1875/1875 [==============================] - 2s 840us/step - loss: 0.2630\n",
      "Epoch 9/50\n",
      "1875/1875 [==============================] - 2s 812us/step - loss: 0.2629\n",
      "Epoch 10/50\n",
      "1875/1875 [==============================] - 2s 862us/step - loss: 0.2628\n",
      "Epoch 11/50\n",
      "1875/1875 [==============================] - 2s 891us/step - loss: 0.2628\n",
      "Epoch 12/50\n",
      "1875/1875 [==============================] - 2s 835us/step - loss: 0.2628\n",
      "Epoch 13/50\n",
      "1875/1875 [==============================] - 2s 828us/step - loss: 0.2628\n",
      "Epoch 14/50\n",
      "1875/1875 [==============================] - 2s 857us/step - loss: 0.2628\n",
      "Epoch 15/50\n",
      "1875/1875 [==============================] - 2s 846us/step - loss: 0.2628\n",
      "Epoch 16/50\n",
      "1875/1875 [==============================] - 2s 835us/step - loss: 0.2628\n",
      "Epoch 17/50\n",
      "1875/1875 [==============================] - 2s 879us/step - loss: 0.2628\n",
      "Epoch 18/50\n",
      "1875/1875 [==============================] - 2s 920us/step - loss: 0.2628\n",
      "Epoch 19/50\n",
      "1875/1875 [==============================] - 2s 894us/step - loss: 0.2628\n",
      "Epoch 20/50\n",
      "1875/1875 [==============================] - 2s 868us/step - loss: 0.2628\n",
      "Epoch 21/50\n",
      "1875/1875 [==============================] - 2s 859us/step - loss: 0.2628\n",
      "Epoch 22/50\n",
      "1875/1875 [==============================] - 2s 859us/step - loss: 0.2628\n",
      "Epoch 23/50\n",
      "1875/1875 [==============================] - 2s 841us/step - loss: 0.2628\n",
      "Epoch 24/50\n",
      "1875/1875 [==============================] - 2s 854us/step - loss: 0.2628\n",
      "Epoch 25/50\n",
      "1875/1875 [==============================] - 2s 1ms/step - loss: 0.2628\n",
      "Epoch 26/50\n",
      "1875/1875 [==============================] - 2s 907us/step - loss: 0.2628\n",
      "Epoch 27/50\n",
      "1875/1875 [==============================] - 2s 956us/step - loss: 0.2628\n",
      "Epoch 28/50\n",
      "1875/1875 [==============================] - 2s 936us/step - loss: 0.2628\n",
      "Epoch 29/50\n",
      "1875/1875 [==============================] - 2s 973us/step - loss: 0.2628\n",
      "Epoch 30/50\n",
      "1875/1875 [==============================] - 2s 945us/step - loss: 0.2628\n",
      "Epoch 31/50\n",
      "1875/1875 [==============================] - 2s 925us/step - loss: 0.2628\n",
      "Epoch 32/50\n",
      "1875/1875 [==============================] - 2s 886us/step - loss: 0.2628\n",
      "Epoch 33/50\n",
      "1875/1875 [==============================] - 2s 900us/step - loss: 0.2628\n",
      "Epoch 34/50\n",
      "1875/1875 [==============================] - 2s 886us/step - loss: 0.2628\n",
      "Epoch 35/50\n",
      "1875/1875 [==============================] - 2s 900us/step - loss: 0.2628\n",
      "Epoch 36/50\n",
      "1875/1875 [==============================] - 2s 865us/step - loss: 0.2628\n",
      "Epoch 37/50\n",
      "1875/1875 [==============================] - 2s 874us/step - loss: 0.2628\n",
      "Epoch 38/50\n",
      "1875/1875 [==============================] - 2s 859us/step - loss: 0.2628\n",
      "Epoch 39/50\n",
      "1875/1875 [==============================] - 2s 884us/step - loss: 0.2628\n",
      "Epoch 40/50\n",
      "1875/1875 [==============================] - 2s 852us/step - loss: 0.2628\n",
      "Epoch 41/50\n",
      "1875/1875 [==============================] - 2s 897us/step - loss: 0.2628\n",
      "Epoch 42/50\n",
      "1875/1875 [==============================] - 2s 889us/step - loss: 0.2628\n",
      "Epoch 43/50\n",
      "1875/1875 [==============================] - 2s 869us/step - loss: 0.2628\n",
      "Epoch 44/50\n",
      "1875/1875 [==============================] - 2s 884us/step - loss: 0.2628\n",
      "Epoch 45/50\n",
      "1875/1875 [==============================] - 2s 895us/step - loss: 0.2628\n",
      "Epoch 46/50\n",
      "1875/1875 [==============================] - 2s 905us/step - loss: 0.2628\n",
      "Epoch 47/50\n",
      "1875/1875 [==============================] - 2s 883us/step - loss: 0.2628\n",
      "Epoch 48/50\n",
      "1875/1875 [==============================] - 2s 860us/step - loss: 0.2628\n",
      "Epoch 49/50\n",
      "1875/1875 [==============================] - 2s 858us/step - loss: 0.2628\n",
      "Epoch 50/50\n",
      "1875/1875 [==============================] - 2s 866us/step - loss: 0.2628\n"
     ]
    },
    {
     "data": {
      "text/plain": [
       "<tensorflow.python.keras.callbacks.History at 0x2303a7227f0>"
      ]
     },
     "execution_count": 68,
     "metadata": {},
     "output_type": "execute_result"
    }
   ],
   "source": [
    "autoencoder.compile(loss = 'binary_crossentropy',optimizer='adam')\n",
    "# 모든 모델이 공유해서 fit. predict사용 가능\n",
    "autoencoder.fit(x_train, x_train, epochs=50)"
   ]
  },
  {
   "cell_type": "code",
   "execution_count": 69,
   "metadata": {},
   "outputs": [],
   "source": [
    "e_i = encoder_model.predict(x_test)\n",
    "d_i = decoder_model.predict(e_i)"
   ]
  },
  {
   "cell_type": "code",
   "execution_count": 70,
   "metadata": {},
   "outputs": [
    {
     "data": {
      "text/plain": [
       "<matplotlib.image.AxesImage at 0x2303a7df780>"
      ]
     },
     "execution_count": 70,
     "metadata": {},
     "output_type": "execute_result"
    },
    {
     "data": {
      "image/png": "[encoded data removed]",
      "text/plain": [
       "<Figure size 432x288 with 1 Axes>"
      ]
     },
     "metadata": {
      "needs_background": "light"
     },
     "output_type": "display_data"
    }
   ],
   "source": [
    "plt.imshow(d_i[0].reshape(28,28))"
   ]
  },
  {
   "cell_type": "markdown",
   "metadata": {},
   "source": [
    "모델의 문제 : layer 얕음.. -> 더 깊게 할 것\n",
    "\n",
    "깊게 할 수록 성능이 높아질 것임(비선형성 향상)\n",
    "\n",
    "과적합 여부는 모름\n",
    "\n",
    "### DEEP"
   ]
  },
  {
   "cell_type": "code",
   "execution_count": 61,
   "metadata": {},
   "outputs": [],
   "source": [
    "(x_train, _),(x_test, _) = tf.keras.datasets.mnist.load_data()\n",
    "x_train = x_train.reshape(60000,28*28)\n",
    "x_train = x_train/255\n",
    "x_test = x_test.reshape(-1,28*28)\n",
    "x_test = x_test/255"
   ]
  },
  {
   "cell_type": "code",
   "execution_count": 62,
   "metadata": {},
   "outputs": [],
   "source": [
    "input_img = tf.keras.layers.Input((784,))\n",
    "encoded = tf.keras.layers.Dense(256,activation='relu')(input_img)\n",
    "encoded = tf.keras.layers.Dense(128,activation='relu')(encoded)\n",
    "encoded = tf.keras.layers.Dense(64,activation='relu')(encoded)\n",
    "encoded = tf.keras.layers.Dense(32,activation='relu')(encoded)\n",
    "\n",
    "decoded = tf.keras.layers.Dense(64,activation='relu')(encoded)\n",
    "decoded = tf.keras.layers.Dense(128,activation='relu')(decoded)\n",
    "decoded = tf.keras.layers.Dense(256,activation='relu')(decoded)\n",
    "decoded = tf.keras.layers.Dense(784,activation='sigmoid')(decoded)\n",
    "\n",
    "autoencoder = autoencoder = tf.keras.models.Model(input_img, decoded)"
   ]
  },
  {
   "cell_type": "code",
   "execution_count": 63,
   "metadata": {},
   "outputs": [
    {
     "name": "stdout",
     "output_type": "stream",
     "text": [
      "Epoch 1/100\n",
      "235/235 [==============================] - 2s 8ms/step - loss: 0.2397\n",
      "Epoch 2/100\n",
      "235/235 [==============================] - 2s 8ms/step - loss: 0.1493\n",
      "Epoch 3/100\n",
      "235/235 [==============================] - 2s 8ms/step - loss: 0.1314\n",
      "Epoch 4/100\n",
      "235/235 [==============================] - 2s 7ms/step - loss: 0.1214\n",
      "Epoch 5/100\n",
      "235/235 [==============================] - 2s 8ms/step - loss: 0.1154\n",
      "Epoch 6/100\n",
      "235/235 [==============================] - 2s 8ms/step - loss: 0.1110\n",
      "Epoch 7/100\n",
      "235/235 [==============================] - 2s 8ms/step - loss: 0.1073\n",
      "Epoch 8/100\n",
      "235/235 [==============================] - 2s 8ms/step - loss: 0.1046\n",
      "Epoch 9/100\n",
      "235/235 [==============================] - 2s 8ms/step - loss: 0.1022\n",
      "Epoch 10/100\n",
      "235/235 [==============================] - 2s 9ms/step - loss: 0.1005\n",
      "Epoch 11/100\n",
      "235/235 [==============================] - 2s 8ms/step - loss: 0.0988\n",
      "Epoch 12/100\n",
      "235/235 [==============================] - 2s 9ms/step - loss: 0.0975\n",
      "Epoch 13/100\n",
      "235/235 [==============================] - 2s 9ms/step - loss: 0.0963\n",
      "Epoch 14/100\n",
      "235/235 [==============================] - 2s 9ms/step - loss: 0.0953\n",
      "Epoch 15/100\n",
      "235/235 [==============================] - 2s 8ms/step - loss: 0.0943\n",
      "Epoch 16/100\n",
      "235/235 [==============================] - 2s 8ms/step - loss: 0.0936\n",
      "Epoch 17/100\n",
      "235/235 [==============================] - 2s 8ms/step - loss: 0.0927\n",
      "Epoch 18/100\n",
      "235/235 [==============================] - 2s 8ms/step - loss: 0.0919\n",
      "Epoch 19/100\n",
      "235/235 [==============================] - 2s 8ms/step - loss: 0.0912\n",
      "Epoch 20/100\n",
      "235/235 [==============================] - 2s 8ms/step - loss: 0.0905\n",
      "Epoch 21/100\n",
      "235/235 [==============================] - 2s 8ms/step - loss: 0.0900\n",
      "Epoch 22/100\n",
      "235/235 [==============================] - 2s 8ms/step - loss: 0.0894\n",
      "Epoch 23/100\n",
      "235/235 [==============================] - 2s 8ms/step - loss: 0.0890\n",
      "Epoch 24/100\n",
      "235/235 [==============================] - 2s 8ms/step - loss: 0.0885\n",
      "Epoch 25/100\n",
      "235/235 [==============================] - 2s 8ms/step - loss: 0.0881\n",
      "Epoch 26/100\n",
      "235/235 [==============================] - 2s 8ms/step - loss: 0.0878\n",
      "Epoch 27/100\n",
      "235/235 [==============================] - 2s 8ms/step - loss: 0.0876\n",
      "Epoch 28/100\n",
      "235/235 [==============================] - 2s 7ms/step - loss: 0.0872\n",
      "Epoch 29/100\n",
      "235/235 [==============================] - 2s 8ms/step - loss: 0.0870\n",
      "Epoch 30/100\n",
      "235/235 [==============================] - 2s 8ms/step - loss: 0.0868\n",
      "Epoch 31/100\n",
      "235/235 [==============================] - 2s 8ms/step - loss: 0.0865\n",
      "Epoch 32/100\n",
      "235/235 [==============================] - 2s 8ms/step - loss: 0.0862\n",
      "Epoch 33/100\n",
      "235/235 [==============================] - 2s 8ms/step - loss: 0.0861\n",
      "Epoch 34/100\n",
      "235/235 [==============================] - 2s 8ms/step - loss: 0.0859\n",
      "Epoch 35/100\n",
      "235/235 [==============================] - 2s 8ms/step - loss: 0.0856\n",
      "Epoch 36/100\n",
      "235/235 [==============================] - 2s 8ms/step - loss: 0.0855\n",
      "Epoch 37/100\n",
      "235/235 [==============================] - 2s 7ms/step - loss: 0.0854\n",
      "Epoch 38/100\n",
      "235/235 [==============================] - 2s 8ms/step - loss: 0.0851\n",
      "Epoch 39/100\n",
      "235/235 [==============================] - 2s 9ms/step - loss: 0.0849\n",
      "Epoch 40/100\n",
      "235/235 [==============================] - 2s 8ms/step - loss: 0.0847\n",
      "Epoch 41/100\n",
      "235/235 [==============================] - 2s 8ms/step - loss: 0.0846\n",
      "Epoch 42/100\n",
      "235/235 [==============================] - 2s 8ms/step - loss: 0.0844\n",
      "Epoch 43/100\n",
      "235/235 [==============================] - 2s 8ms/step - loss: 0.0842\n",
      "Epoch 44/100\n",
      "235/235 [==============================] - 2s 8ms/step - loss: 0.0841\n",
      "Epoch 45/100\n",
      "235/235 [==============================] - 2s 7ms/step - loss: 0.0839\n",
      "Epoch 46/100\n",
      "235/235 [==============================] - 2s 7ms/step - loss: 0.0838\n",
      "Epoch 47/100\n",
      "235/235 [==============================] - 2s 7ms/step - loss: 0.0836\n",
      "Epoch 48/100\n",
      "235/235 [==============================] - 2s 8ms/step - loss: 0.0835\n",
      "Epoch 49/100\n",
      "235/235 [==============================] - 2s 7ms/step - loss: 0.0834\n",
      "Epoch 50/100\n",
      "235/235 [==============================] - 2s 7ms/step - loss: 0.0833\n",
      "Epoch 51/100\n",
      "235/235 [==============================] - 2s 7ms/step - loss: 0.0831\n",
      "Epoch 52/100\n",
      "235/235 [==============================] - 2s 7ms/step - loss: 0.0831\n",
      "Epoch 53/100\n",
      "235/235 [==============================] - 2s 8ms/step - loss: 0.0829\n",
      "Epoch 54/100\n",
      "235/235 [==============================] - 2s 8ms/step - loss: 0.0829\n",
      "Epoch 55/100\n",
      "235/235 [==============================] - 2s 8ms/step - loss: 0.0828\n",
      "Epoch 56/100\n",
      "235/235 [==============================] - 2s 8ms/step - loss: 0.0826\n",
      "Epoch 57/100\n",
      "235/235 [==============================] - 2s 8ms/step - loss: 0.0826\n",
      "Epoch 58/100\n",
      "235/235 [==============================] - 2s 9ms/step - loss: 0.0825\n",
      "Epoch 59/100\n",
      "235/235 [==============================] - 2s 8ms/step - loss: 0.0824\n",
      "Epoch 60/100\n",
      "235/235 [==============================] - 2s 8ms/step - loss: 0.0824\n",
      "Epoch 61/100\n",
      "235/235 [==============================] - 2s 8ms/step - loss: 0.0822\n",
      "Epoch 62/100\n",
      "235/235 [==============================] - 2s 8ms/step - loss: 0.0823\n",
      "Epoch 63/100\n",
      "235/235 [==============================] - 2s 9ms/step - loss: 0.0822\n",
      "Epoch 64/100\n",
      "235/235 [==============================] - 2s 9ms/step - loss: 0.0821\n",
      "Epoch 65/100\n",
      "235/235 [==============================] - 2s 8ms/step - loss: 0.0819\n",
      "Epoch 66/100\n",
      "235/235 [==============================] - 2s 8ms/step - loss: 0.0819\n",
      "Epoch 67/100\n",
      "235/235 [==============================] - 2s 9ms/step - loss: 0.0819\n",
      "Epoch 68/100\n",
      "235/235 [==============================] - 2s 8ms/step - loss: 0.0818\n",
      "Epoch 69/100\n",
      "235/235 [==============================] - 2s 8ms/step - loss: 0.0817\n",
      "Epoch 70/100\n",
      "235/235 [==============================] - 2s 8ms/step - loss: 0.0817\n",
      "Epoch 71/100\n",
      "235/235 [==============================] - 2s 8ms/step - loss: 0.0817\n",
      "Epoch 72/100\n",
      "235/235 [==============================] - 2s 7ms/step - loss: 0.0816\n",
      "Epoch 73/100\n",
      "235/235 [==============================] - 2s 8ms/step - loss: 0.0815\n",
      "Epoch 74/100\n",
      "235/235 [==============================] - 2s 7ms/step - loss: 0.0815\n",
      "Epoch 75/100\n",
      "235/235 [==============================] - 2s 7ms/step - loss: 0.0814\n",
      "Epoch 76/100\n",
      "235/235 [==============================] - 2s 8ms/step - loss: 0.0814\n",
      "Epoch 77/100\n",
      "235/235 [==============================] - 2s 7ms/step - loss: 0.0814\n",
      "Epoch 78/100\n",
      "235/235 [==============================] - 2s 7ms/step - loss: 0.0813\n",
      "Epoch 79/100\n",
      "235/235 [==============================] - 2s 7ms/step - loss: 0.0812\n",
      "Epoch 80/100\n",
      "235/235 [==============================] - 2s 8ms/step - loss: 0.0813\n",
      "Epoch 81/100\n",
      "235/235 [==============================] - 2s 8ms/step - loss: 0.0812\n",
      "Epoch 82/100\n",
      "235/235 [==============================] - 2s 8ms/step - loss: 0.0811\n",
      "Epoch 83/100\n",
      "235/235 [==============================] - 2s 9ms/step - loss: 0.0811\n",
      "Epoch 84/100\n",
      "235/235 [==============================] - 2s 9ms/step - loss: 0.0811\n",
      "Epoch 85/100\n",
      "235/235 [==============================] - 2s 9ms/step - loss: 0.0810\n",
      "Epoch 86/100\n",
      "235/235 [==============================] - 2s 8ms/step - loss: 0.0810\n",
      "Epoch 87/100\n",
      "235/235 [==============================] - 2s 8ms/step - loss: 0.0809\n",
      "Epoch 88/100\n",
      "235/235 [==============================] - 2s 9ms/step - loss: 0.0809\n",
      "Epoch 89/100\n",
      "235/235 [==============================] - 2s 8ms/step - loss: 0.0809\n",
      "Epoch 90/100\n",
      "235/235 [==============================] - 2s 8ms/step - loss: 0.0809\n",
      "Epoch 91/100\n",
      "235/235 [==============================] - 2s 8ms/step - loss: 0.0808\n",
      "Epoch 92/100\n",
      "235/235 [==============================] - 2s 8ms/step - loss: 0.0808\n",
      "Epoch 93/100\n",
      "235/235 [==============================] - 2s 10ms/step - loss: 0.0807\n",
      "Epoch 94/100\n",
      "235/235 [==============================] - 2s 8ms/step - loss: 0.0807\n",
      "Epoch 95/100\n",
      "235/235 [==============================] - 2s 9ms/step - loss: 0.0806\n",
      "Epoch 96/100\n",
      "235/235 [==============================] - 2s 9ms/step - loss: 0.0807\n",
      "Epoch 97/100\n",
      "235/235 [==============================] - 2s 8ms/step - loss: 0.0806\n",
      "Epoch 98/100\n",
      "235/235 [==============================] - 2s 8ms/step - loss: 0.0806\n",
      "Epoch 99/100\n"
     ]
    },
    {
     "name": "stdout",
     "output_type": "stream",
     "text": [
      "235/235 [==============================] - 2s 8ms/step - loss: 0.0806\n",
      "Epoch 100/100\n",
      "235/235 [==============================] - 2s 8ms/step - loss: 0.0805\n"
     ]
    },
    {
     "data": {
      "text/plain": [
       "<tensorflow.python.keras.callbacks.History at 0x2303a233b70>"
      ]
     },
     "execution_count": 63,
     "metadata": {},
     "output_type": "execute_result"
    }
   ],
   "source": [
    "autoencoder.compile(loss = 'binary_crossentropy',optimizer='adam')\n",
    "autoencoder.fit(x_train, x_train, epochs=100,batch_size=256)"
   ]
  },
  {
   "cell_type": "code",
   "execution_count": 64,
   "metadata": {},
   "outputs": [
    {
     "data": {
      "text/plain": [
       "<matplotlib.image.AxesImage at 0x2303a3d3c50>"
      ]
     },
     "execution_count": 64,
     "metadata": {},
     "output_type": "execute_result"
    },
    {
     "data": {
      "image/png": "[encoded data removed]",
      "text/plain": [
       "<Figure size 432x288 with 1 Axes>"
      ]
     },
     "metadata": {
      "needs_background": "light"
     },
     "output_type": "display_data"
    }
   ],
   "source": [
    "x_ = autoencoder.predict(x_test)[0]\n",
    "plt.imshow(x_.reshape(28,28))"
   ]
  },
  {
   "cell_type": "code",
   "execution_count": 66,
   "metadata": {},
   "outputs": [
    {
     "data": {
      "text/plain": [
       "<matplotlib.image.AxesImage at 0x2303a4aed68>"
      ]
     },
     "execution_count": 66,
     "metadata": {},
     "output_type": "execute_result"
    },
    {
     "data": {
      "image/png": "[encoded data removed]",
      "text/plain": [
       "<Figure size 432x288 with 1 Axes>"
      ]
     },
     "metadata": {
      "needs_background": "light"
     },
     "output_type": "display_data"
    }
   ],
   "source": [
    "plt.imshow(x_test[0].reshape(28,28))"
   ]
  },
  {
   "cell_type": "markdown",
   "metadata": {},
   "source": [
    "## Deep Convolutional Autoencoder"
   ]
  },
  {
   "cell_type": "code",
   "execution_count": 94,
   "metadata": {},
   "outputs": [],
   "source": [
    "(x_train, _),(x_test, _) = tf.keras.datasets.mnist.load_data()\n",
    "x_train = x_train.reshape(-1,28,28,1)\n",
    "x_train = x_train/255\n",
    "x_test = x_test.reshape(-1,28,28,1)\n",
    "x_test = x_test/255"
   ]
  },
  {
   "cell_type": "code",
   "execution_count": 96,
   "metadata": {},
   "outputs": [],
   "source": [
    "input_img = tf.keras.layers.Input((28,28,1,))\n",
    "x = tf.keras.layers.Conv2D(16,(3,3),activation='relu',padding='same')(input_img)\n",
    "x = tf.keras.layers.MaxPool2D((2,2))(x)\n",
    "x = tf.keras.layers.Conv2D(8,(3,3),activation='relu',padding='same')(x)\n",
    "x = tf.keras.layers.MaxPool2D((2,2))(x)\n",
    "x = tf.keras.layers.Conv2D(8,(3,3),activation='relu',padding='same')(x)\n",
    "encoded = tf.keras.layers.MaxPool2D((2,2),padding='same')(x)"
   ]
  },
  {
   "cell_type": "code",
   "execution_count": 71,
   "metadata": {},
   "outputs": [],
   "source": [
    "# 크기 복원? -> upsampling\n",
    "\n",
    "b = np.arange(24).reshape(1,2,3,4)\n",
    "a = tf.keras.layers.UpSampling2D((1,2))"
   ]
  },
  {
   "cell_type": "code",
   "execution_count": 72,
   "metadata": {},
   "outputs": [
    {
     "data": {
      "text/plain": [
       "<tf.Tensor: shape=(1, 2, 6, 4), dtype=int32, numpy=\n",
       "array([[[[ 0,  1,  2,  3],\n",
       "         [ 0,  1,  2,  3],\n",
       "         [ 4,  5,  6,  7],\n",
       "         [ 4,  5,  6,  7],\n",
       "         [ 8,  9, 10, 11],\n",
       "         [ 8,  9, 10, 11]],\n",
       "\n",
       "        [[12, 13, 14, 15],\n",
       "         [12, 13, 14, 15],\n",
       "         [16, 17, 18, 19],\n",
       "         [16, 17, 18, 19],\n",
       "         [20, 21, 22, 23],\n",
       "         [20, 21, 22, 23]]]])>"
      ]
     },
     "execution_count": 72,
     "metadata": {},
     "output_type": "execute_result"
    }
   ],
   "source": [
    "a(b)"
   ]
  },
  {
   "cell_type": "code",
   "execution_count": 97,
   "metadata": {},
   "outputs": [],
   "source": [
    "# UPsampling을 통해 원래 모양으로\n",
    "# 마지막 부분은 똑같이 나와야 하므로 1로\n",
    "\n",
    "x = tf.keras.layers.Conv2D(8,(3,3),activation='relu',padding='same')(encoded)\n",
    "x = tf.keras.layers.UpSampling2D((2,2))(x)\n",
    "x = tf.keras.layers.Conv2D(8,(3,3),activation='relu',padding='same')(x)\n",
    "x = tf.keras.layers.UpSampling2D((2,2))(x)\n",
    "x = tf.keras.layers.Conv2D(16,(3,3),activation='relu')(x)\n",
    "x = tf.keras.layers.UpSampling2D((2,2))(x)\n",
    "decoded = tf.keras.layers.Conv2D(1,(3,3),activation='sigmoid',padding='same')(x)"
   ]
  },
  {
   "cell_type": "code",
   "execution_count": 98,
   "metadata": {},
   "outputs": [],
   "source": [
    "autoencoder = autoencoder = tf.keras.models.Model(input_img, decoded)\n",
    "autoencoder.compile(loss = 'binary_crossentropy',optimizer='adam')"
   ]
  },
  {
   "cell_type": "code",
   "execution_count": 99,
   "metadata": {},
   "outputs": [
    {
     "name": "stdout",
     "output_type": "stream",
     "text": [
      "Model: \"functional_35\"\n",
      "_________________________________________________________________\n",
      "Layer (type)                 Output Shape              Param #   \n",
      "=================================================================\n",
      "input_25 (InputLayer)        [(None, 28, 28, 1)]       0         \n",
      "_________________________________________________________________\n",
      "conv2d_39 (Conv2D)           (None, 28, 28, 16)        160       \n",
      "_________________________________________________________________\n",
      "max_pooling2d_18 (MaxPooling (None, 14, 14, 16)        0         \n",
      "_________________________________________________________________\n",
      "conv2d_40 (Conv2D)           (None, 14, 14, 8)         1160      \n",
      "_________________________________________________________________\n",
      "max_pooling2d_19 (MaxPooling (None, 7, 7, 8)           0         \n",
      "_________________________________________________________________\n",
      "conv2d_41 (Conv2D)           (None, 7, 7, 8)           584       \n",
      "_________________________________________________________________\n",
      "max_pooling2d_20 (MaxPooling (None, 4, 4, 8)           0         \n",
      "_________________________________________________________________\n",
      "conv2d_42 (Conv2D)           (None, 4, 4, 8)           584       \n",
      "_________________________________________________________________\n",
      "up_sampling2d_16 (UpSampling (None, 8, 8, 8)           0         \n",
      "_________________________________________________________________\n",
      "conv2d_43 (Conv2D)           (None, 8, 8, 8)           584       \n",
      "_________________________________________________________________\n",
      "up_sampling2d_17 (UpSampling (None, 16, 16, 8)         0         \n",
      "_________________________________________________________________\n",
      "conv2d_44 (Conv2D)           (None, 14, 14, 16)        1168      \n",
      "_________________________________________________________________\n",
      "up_sampling2d_18 (UpSampling (None, 28, 28, 16)        0         \n",
      "_________________________________________________________________\n",
      "conv2d_45 (Conv2D)           (None, 28, 28, 1)         145       \n",
      "=================================================================\n",
      "Total params: 4,385\n",
      "Trainable params: 4,385\n",
      "Non-trainable params: 0\n",
      "_________________________________________________________________\n"
     ]
    }
   ],
   "source": [
    "autoencoder.summary()"
   ]
  },
  {
   "cell_type": "code",
   "execution_count": 100,
   "metadata": {},
   "outputs": [
    {
     "name": "stdout",
     "output_type": "stream",
     "text": [
      "Epoch 1/10\n",
      "1875/1875 [==============================] - 51s 27ms/step - loss: 0.1483\n",
      "Epoch 2/10\n",
      "1875/1875 [==============================] - 53s 28ms/step - loss: 0.1127\n",
      "Epoch 3/10\n",
      "1875/1875 [==============================] - 56s 30ms/step - loss: 0.1063\n",
      "Epoch 4/10\n",
      "1875/1875 [==============================] - 53s 28ms/step - loss: 0.1026\n",
      "Epoch 5/10\n",
      "1875/1875 [==============================] - 52s 28ms/step - loss: 0.1003\n",
      "Epoch 6/10\n",
      "1875/1875 [==============================] - 57s 31ms/step - loss: 0.0986\n",
      "Epoch 7/10\n",
      "1875/1875 [==============================] - 54s 29ms/step - loss: 0.0972\n",
      "Epoch 8/10\n",
      "1875/1875 [==============================] - 54s 29ms/step - loss: 0.0961 0s - \n",
      "Epoch 9/10\n",
      "1875/1875 [==============================] - 53s 28ms/step - loss: 0.0952\n",
      "Epoch 10/10\n",
      "1875/1875 [==============================] - 54s 29ms/step - loss: 0.0945\n"
     ]
    },
    {
     "data": {
      "text/plain": [
       "<tensorflow.python.keras.callbacks.History at 0x2305f5577b8>"
      ]
     },
     "execution_count": 100,
     "metadata": {},
     "output_type": "execute_result"
    }
   ],
   "source": [
    "autoencoder.fit(x_train, x_train, epochs=10)"
   ]
  },
  {
   "cell_type": "code",
   "execution_count": 102,
   "metadata": {},
   "outputs": [
    {
     "name": "stdout",
     "output_type": "stream",
     "text": [
      "Epoch 1/10\n",
      "1875/1875 [==============================] - 47s 25ms/step - loss: 0.0938\n",
      "Epoch 2/10\n",
      "1875/1875 [==============================] - 50s 27ms/step - loss: 0.0933\n",
      "Epoch 3/10\n",
      "1875/1875 [==============================] - 49s 26ms/step - loss: 0.0928\n",
      "Epoch 4/10\n",
      "1875/1875 [==============================] - 50s 27ms/step - loss: 0.0924\n",
      "Epoch 5/10\n",
      "1875/1875 [==============================] - 49s 26ms/step - loss: 0.0920\n",
      "Epoch 6/10\n",
      "1875/1875 [==============================] - 49s 26ms/step - loss: 0.0917\n",
      "Epoch 7/10\n",
      "1875/1875 [==============================] - 49s 26ms/step - loss: 0.0914\n",
      "Epoch 8/10\n",
      "1875/1875 [==============================] - 49s 26ms/step - loss: 0.0911\n",
      "Epoch 9/10\n",
      "1875/1875 [==============================] - 49s 26ms/step - loss: 0.0909\n",
      "Epoch 10/10\n",
      "1875/1875 [==============================] - 49s 26ms/step - loss: 0.0906\n"
     ]
    },
    {
     "data": {
      "text/plain": [
       "<tensorflow.python.keras.callbacks.History at 0x2305f83bc88>"
      ]
     },
     "execution_count": 102,
     "metadata": {},
     "output_type": "execute_result"
    }
   ],
   "source": [
    "autoencoder.fit(x_train, x_train, epochs=10)"
   ]
  },
  {
   "cell_type": "code",
   "execution_count": 101,
   "metadata": {},
   "outputs": [
    {
     "data": {
      "text/plain": [
       "<matplotlib.image.AxesImage at 0x2305f827a20>"
      ]
     },
     "execution_count": 101,
     "metadata": {},
     "output_type": "execute_result"
    },
    {
     "data": {
      "image/png": "[encoded data removed]",
      "text/plain": [
       "<Figure size 432x288 with 1 Axes>"
      ]
     },
     "metadata": {
      "needs_background": "light"
     },
     "output_type": "display_data"
    }
   ],
   "source": [
    "x_ = autoencoder.predict(x_test)[0]\n",
    "plt.imshow(x_.reshape(28,28))"
   ]
  },
  {
   "cell_type": "markdown",
   "metadata": {},
   "source": [
    "- 딥페이크 등에도 자주 쓰임\n",
    "    - 대체하고 싶은 부분과 실제 이미지 컨볼루션\n",
    "    \n",
    "- denosing\n",
    "    - noise넣고 학습하면 랜덤한 패턴때문에 고유특성이 아니라 생각하여 제거"
   ]
  }
 ],
 "metadata": {
  "kernelspec": {
   "display_name": "Python [conda env:py37] *",
   "language": "python",
   "name": "conda-env-py37-py"
  },
  "language_info": {
   "codemirror_mode": {
    "name": "ipython",
    "version": 3
   },
   "file_extension": ".py",
   "mimetype": "text/x-python",
   "name": "python",
   "nbconvert_exporter": "python",
   "pygments_lexer": "ipython3",
   "version": "3.6.9"
  }
 },
 "nbformat": 4,
 "nbformat_minor": 2
}
