{
 "cells": [
  {
   "cell_type": "markdown",
   "metadata": {
    "colab_type": "text",
    "id": "view-in-github"
   },
   "source": [
    "<a href=\"https://colab.research.google.com/github/patrickphatnguyen/Knowledge-Distillation-Keras/blob/master/Knowledge_Distillation_Notebook.ipynb\" target=\"_parent\"><img src=\"https://colab.research.google.com/assets/colab-badge.svg\" alt=\"Open In Colab\"/></a>"
   ]
  },
  {
   "cell_type": "markdown",
   "metadata": {
    "colab_type": "text",
    "id": "AXtR3INVPcHJ"
   },
   "source": [
    "# Distilling Knowledge in Neural Network\n",
    "\n",
    "The term \"Knowledge Distillation\" (a.k.a Teacher-Student Model) was first introduced by (Bu-cilu et al., 2006; Ba & Caruana,2014) and has been popularized by (Hinton et al., 2015), as a way to let smaller deep learning models learn how bigger ones generalize to large datasets, hence increase the performance of the smaller one. In this notebook, I'll try to explain the idea of knowledge distillation alongside with hands-on implementation of it.\n",
    "\n",
    "# The main idea\n"
   ]
  },
  {
   "cell_type": "markdown",
   "metadata": {
    "colab_type": "text",
    "id": "ce65yuvootlq"
   },
   "source": [
    "# Install and import requirements\n"
   ]
  },
  {
   "cell_type": "code",
   "execution_count": 1,
   "metadata": {
    "colab": {},
    "colab_type": "code",
    "id": "xWnbC2ooAfNf"
   },
   "outputs": [
    {
     "name": "stderr",
     "output_type": "stream",
     "text": [
      "C:\\Users\\Gyu\\Anaconda3\\envs\\py37\\lib\\site-packages\\numpy\\_distributor_init.py:32: UserWarning: loaded more than 1 DLL from .libs:\n",
      "C:\\Users\\Gyu\\Anaconda3\\envs\\py37\\lib\\site-packages\\numpy\\.libs\\libopenblas.PYQHXLVVQ7VESDPUVUADXEVJOBGHJPAY.gfortran-win_amd64.dll\n",
      "C:\\Users\\Gyu\\Anaconda3\\envs\\py37\\lib\\site-packages\\numpy\\.libs\\libopenblas.TXA6YQSD3GCQQC22GEQ54J2UDCXDXHWN.gfortran-win_amd64.dll\n",
      "  stacklevel=1)\n"
     ]
    }
   ],
   "source": [
    "import tensorflow as tf\n",
    "import matplotlib.pyplot as plt \n",
    "import numpy as np\n",
    "from tensorflow.keras.models import Sequential, load_model, Model\n",
    "from tensorflow.keras.layers import Conv2D,GlobalAveragePooling2D,Dense,Softmax,Flatten,MaxPooling2D,Dropout,Activation, Lambda, concatenate\n",
    "from tensorflow.keras.callbacks import ModelCheckpoint\n",
    "from tensorflow.keras.losses import kullback_leibler_divergence as KLD_Loss, categorical_crossentropy as logloss\n",
    "from tensorflow.keras.utils import to_categorical\n",
    "from tensorflow.keras.metrics import categorical_accuracy\n",
    "import seaborn as sns"
   ]
  },
  {
   "cell_type": "markdown",
   "metadata": {
    "colab_type": "text",
    "id": "2wQvkPoB7Cnr"
   },
   "source": [
    "#  Load and preprocess the data"
   ]
  },
  {
   "cell_type": "code",
   "execution_count": 2,
   "metadata": {
    "colab": {
     "base_uri": "https://localhost:8080/",
     "height": 34
    },
    "colab_type": "code",
    "id": "N4nKTacmAjXh",
    "outputId": "9212669a-2d36-4b8d-8d04-18529cff753f"
   },
   "outputs": [
    {
     "name": "stdout",
     "output_type": "stream",
     "text": [
      "x_train shape: (50000, 32, 32, 3) y_train shape: (50000, 1)\n"
     ]
    }
   ],
   "source": [
    "NUM_CLASSES = 10\n",
    "(x_train, y_train), (x_test, y_test) = tf.keras.datasets.cifar10.load_data()\n",
    "print(\"x_train shape:\", x_train.shape, \"y_train shape:\", y_train.shape)\n",
    "\n",
    "# Normalize the dataset\n",
    "x_train = x_train.astype('float32') / 255\n",
    "x_test = x_test.astype('float32') / 255\n",
    "\n",
    "# Reshape each example to WIDTH*HEIGHT*CHANNELS for Convolution operation\n",
    "# x_test = x_test.reshape(-1,,28,1)\n",
    "# x_train = x_train.reshape(-1,28,28,1)\n"
   ]
  },
  {
   "cell_type": "markdown",
   "metadata": {
    "colab_type": "text",
    "id": "rYDhVMdU7dWN"
   },
   "source": [
    "# Create teacher model"
   ]
  },
  {
   "cell_type": "code",
   "execution_count": 3,
   "metadata": {
    "colab": {
     "base_uri": "https://localhost:8080/",
     "height": 558
    },
    "colab_type": "code",
    "id": "B_EpiY-nA8u6",
    "outputId": "f544b054-5860-467b-f271-01b4a5c1f9c8"
   },
   "outputs": [
    {
     "name": "stdout",
     "output_type": "stream",
     "text": [
      "Model: \"sequential\"\n",
      "_________________________________________________________________\n",
      "Layer (type)                 Output Shape              Param #   \n",
      "=================================================================\n",
      "conv2d (Conv2D)              (None, 32, 32, 32)        416       \n",
      "_________________________________________________________________\n",
      "max_pooling2d (MaxPooling2D) (None, 16, 16, 32)        0         \n",
      "_________________________________________________________________\n",
      "conv2d_1 (Conv2D)            (None, 16, 16, 64)        8256      \n",
      "_________________________________________________________________\n",
      "max_pooling2d_1 (MaxPooling2 (None, 8, 8, 64)          0         \n",
      "_________________________________________________________________\n",
      "flatten (Flatten)            (None, 4096)              0         \n",
      "_________________________________________________________________\n",
      "dense (Dense)                (None, 256)               1048832   \n",
      "_________________________________________________________________\n",
      "dropout (Dropout)            (None, 256)               0         \n",
      "_________________________________________________________________\n",
      "dense_1 (Dense)              (None, 10)                2570      \n",
      "_________________________________________________________________\n",
      "activation (Activation)      (None, 10)                0         \n",
      "=================================================================\n",
      "Total params: 1,060,074\n",
      "Trainable params: 1,060,074\n",
      "Non-trainable params: 0\n",
      "_________________________________________________________________\n"
     ]
    }
   ],
   "source": [
    "Teacher = Sequential() # Must define the input shape in the first layer of the neural network\n",
    "Teacher.add(Conv2D(filters=32, kernel_size=2, padding='same', activation='relu', input_shape=(32,32,3)))\n",
    "Teacher.add(MaxPooling2D(pool_size=2))\n",
    "Teacher.add(Conv2D(filters=64, kernel_size=2, padding='same', activation='relu'))\n",
    "Teacher.add(MaxPooling2D(pool_size=2))\n",
    "Teacher.add(Flatten())\n",
    "Teacher.add(Dense(256, activation='relu'))\n",
    "Teacher.add(Dropout(0.5))\n",
    "Teacher.add(Dense(10))\n",
    "Teacher.add(Activation('softmax'))\n",
    "\n",
    "Teacher.compile(loss='sparse_categorical_crossentropy',\n",
    "             optimizer='adam',\n",
    "             metrics=['accuracy'])\n",
    "\n",
    "# Take a look at the model summary\n",
    "\n",
    "Teacher.summary()"
   ]
  },
  {
   "cell_type": "code",
   "execution_count": 4,
   "metadata": {
    "colab": {
     "base_uri": "https://localhost:8080/",
     "height": 746
    },
    "colab_type": "code",
    "id": "WEcS4uUpBD6Q",
    "outputId": "5fdb3c87-789e-40e7-ac94-9608612ea211"
   },
   "outputs": [
    {
     "name": "stdout",
     "output_type": "stream",
     "text": [
      "Epoch 1/20\n",
      "312/313 [============================>.] - ETA: 0s - loss: 1.6765 - accuracy: 0.3943"
     ]
    },
    {
     "name": "stderr",
     "output_type": "stream",
     "text": [
      "WARNING: Logging before flag parsing goes to stderr.\n",
      "W1013 20:59:30.970583 31620 callbacks.py:1289] Can save best model only with val_acc available, skipping.\n"
     ]
    },
    {
     "name": "stdout",
     "output_type": "stream",
     "text": [
      "313/313 [==============================] - 23s 73ms/step - loss: 1.6762 - accuracy: 0.3945 - val_loss: 1.4186 - val_accuracy: 0.5006\n",
      "Epoch 2/20\n",
      "312/313 [============================>.] - ETA: 0s - loss: 1.3564 - accuracy: 0.5157"
     ]
    },
    {
     "name": "stderr",
     "output_type": "stream",
     "text": [
      "W1013 20:59:52.225266 31620 callbacks.py:1289] Can save best model only with val_acc available, skipping.\n"
     ]
    },
    {
     "name": "stdout",
     "output_type": "stream",
     "text": [
      "313/313 [==============================] - 21s 68ms/step - loss: 1.3563 - accuracy: 0.5156 - val_loss: 1.2034 - val_accuracy: 0.5785\n",
      "Epoch 3/20\n",
      "312/313 [============================>.] - ETA: 0s - loss: 1.2248 - accuracy: 0.5644"
     ]
    },
    {
     "name": "stderr",
     "output_type": "stream",
     "text": [
      "W1013 21:00:13.477142 31620 callbacks.py:1289] Can save best model only with val_acc available, skipping.\n"
     ]
    },
    {
     "name": "stdout",
     "output_type": "stream",
     "text": [
      "313/313 [==============================] - 21s 68ms/step - loss: 1.2246 - accuracy: 0.5644 - val_loss: 1.1310 - val_accuracy: 0.6017\n",
      "Epoch 4/20\n",
      "312/313 [============================>.] - ETA: 0s - loss: 1.1382 - accuracy: 0.5958"
     ]
    },
    {
     "name": "stderr",
     "output_type": "stream",
     "text": [
      "W1013 21:00:35.430983 31620 callbacks.py:1289] Can save best model only with val_acc available, skipping.\n"
     ]
    },
    {
     "name": "stdout",
     "output_type": "stream",
     "text": [
      "313/313 [==============================] - 22s 70ms/step - loss: 1.1381 - accuracy: 0.5959 - val_loss: 1.0573 - val_accuracy: 0.6330\n",
      "Epoch 5/20\n",
      "312/313 [============================>.] - ETA: 0s - loss: 1.0769 - accuracy: 0.6193"
     ]
    },
    {
     "name": "stderr",
     "output_type": "stream",
     "text": [
      "W1013 21:00:57.468545 31620 callbacks.py:1289] Can save best model only with val_acc available, skipping.\n"
     ]
    },
    {
     "name": "stdout",
     "output_type": "stream",
     "text": [
      "313/313 [==============================] - 22s 70ms/step - loss: 1.0768 - accuracy: 0.6194 - val_loss: 1.0007 - val_accuracy: 0.6473\n",
      "Epoch 6/20\n",
      "312/313 [============================>.] - ETA: 0s - loss: 1.0200 - accuracy: 0.6418"
     ]
    },
    {
     "name": "stderr",
     "output_type": "stream",
     "text": [
      "W1013 21:01:20.124521 31620 callbacks.py:1289] Can save best model only with val_acc available, skipping.\n"
     ]
    },
    {
     "name": "stdout",
     "output_type": "stream",
     "text": [
      "313/313 [==============================] - 23s 72ms/step - loss: 1.0200 - accuracy: 0.6418 - val_loss: 0.9635 - val_accuracy: 0.6612\n",
      "Epoch 7/20\n",
      "312/313 [============================>.] - ETA: 0s - loss: 0.9753 - accuracy: 0.6593"
     ]
    },
    {
     "name": "stderr",
     "output_type": "stream",
     "text": [
      "W1013 21:01:41.694013 31620 callbacks.py:1289] Can save best model only with val_acc available, skipping.\n"
     ]
    },
    {
     "name": "stdout",
     "output_type": "stream",
     "text": [
      "313/313 [==============================] - 22s 69ms/step - loss: 0.9753 - accuracy: 0.6592 - val_loss: 0.9526 - val_accuracy: 0.6621\n",
      "Epoch 8/20\n",
      "312/313 [============================>.] - ETA: 0s - loss: 0.9274 - accuracy: 0.6737"
     ]
    },
    {
     "name": "stderr",
     "output_type": "stream",
     "text": [
      "W1013 21:02:04.387948 31620 callbacks.py:1289] Can save best model only with val_acc available, skipping.\n"
     ]
    },
    {
     "name": "stdout",
     "output_type": "stream",
     "text": [
      "313/313 [==============================] - 23s 72ms/step - loss: 0.9276 - accuracy: 0.6737 - val_loss: 0.9373 - val_accuracy: 0.6699\n",
      "Epoch 9/20\n",
      "312/313 [============================>.] - ETA: 0s - loss: 0.8907 - accuracy: 0.6838"
     ]
    },
    {
     "name": "stderr",
     "output_type": "stream",
     "text": [
      "W1013 21:02:26.148052 31620 callbacks.py:1289] Can save best model only with val_acc available, skipping.\n"
     ]
    },
    {
     "name": "stdout",
     "output_type": "stream",
     "text": [
      "313/313 [==============================] - 22s 69ms/step - loss: 0.8908 - accuracy: 0.6838 - val_loss: 0.9206 - val_accuracy: 0.6770\n",
      "Epoch 10/20\n",
      "312/313 [============================>.] - ETA: 0s - loss: 0.8582 - accuracy: 0.6947"
     ]
    },
    {
     "name": "stderr",
     "output_type": "stream",
     "text": [
      "W1013 21:02:48.332086 31620 callbacks.py:1289] Can save best model only with val_acc available, skipping.\n"
     ]
    },
    {
     "name": "stdout",
     "output_type": "stream",
     "text": [
      "313/313 [==============================] - 22s 71ms/step - loss: 0.8582 - accuracy: 0.6948 - val_loss: 0.8893 - val_accuracy: 0.6917\n",
      "Epoch 11/20\n",
      "312/313 [============================>.] - ETA: 0s - loss: 0.8310 - accuracy: 0.7074"
     ]
    },
    {
     "name": "stderr",
     "output_type": "stream",
     "text": [
      "W1013 21:03:10.410475 31620 callbacks.py:1289] Can save best model only with val_acc available, skipping.\n"
     ]
    },
    {
     "name": "stdout",
     "output_type": "stream",
     "text": [
      "313/313 [==============================] - 22s 70ms/step - loss: 0.8309 - accuracy: 0.7074 - val_loss: 0.8856 - val_accuracy: 0.6941\n",
      "Epoch 12/20\n",
      "312/313 [============================>.] - ETA: 0s - loss: 0.7882 - accuracy: 0.7199"
     ]
    },
    {
     "name": "stderr",
     "output_type": "stream",
     "text": [
      "W1013 21:03:31.901451 31620 callbacks.py:1289] Can save best model only with val_acc available, skipping.\n"
     ]
    },
    {
     "name": "stdout",
     "output_type": "stream",
     "text": [
      "313/313 [==============================] - 21s 68ms/step - loss: 0.7881 - accuracy: 0.7199 - val_loss: 0.8844 - val_accuracy: 0.6927\n",
      "Epoch 13/20\n",
      "312/313 [============================>.] - ETA: 0s - loss: 0.7641 - accuracy: 0.7301"
     ]
    },
    {
     "name": "stderr",
     "output_type": "stream",
     "text": [
      "W1013 21:03:53.393600 31620 callbacks.py:1289] Can save best model only with val_acc available, skipping.\n"
     ]
    },
    {
     "name": "stdout",
     "output_type": "stream",
     "text": [
      "313/313 [==============================] - 21s 68ms/step - loss: 0.7640 - accuracy: 0.7301 - val_loss: 0.8681 - val_accuracy: 0.7021\n",
      "Epoch 14/20\n",
      "312/313 [============================>.] - ETA: 0s - loss: 0.7290 - accuracy: 0.7406"
     ]
    },
    {
     "name": "stderr",
     "output_type": "stream",
     "text": [
      "W1013 21:04:16.679310 31620 callbacks.py:1289] Can save best model only with val_acc available, skipping.\n"
     ]
    },
    {
     "name": "stdout",
     "output_type": "stream",
     "text": [
      "313/313 [==============================] - 23s 74ms/step - loss: 0.7290 - accuracy: 0.7405 - val_loss: 0.8538 - val_accuracy: 0.7058\n",
      "Epoch 15/20\n",
      "312/313 [============================>.] - ETA: 0s - loss: 0.7056 - accuracy: 0.7503"
     ]
    },
    {
     "name": "stderr",
     "output_type": "stream",
     "text": [
      "W1013 21:04:39.619531 31620 callbacks.py:1289] Can save best model only with val_acc available, skipping.\n"
     ]
    },
    {
     "name": "stdout",
     "output_type": "stream",
     "text": [
      "313/313 [==============================] - 23s 73ms/step - loss: 0.7056 - accuracy: 0.7503 - val_loss: 0.8584 - val_accuracy: 0.7058\n",
      "Epoch 16/20\n",
      "312/313 [============================>.] - ETA: 0s - loss: 0.6751 - accuracy: 0.7556"
     ]
    },
    {
     "name": "stderr",
     "output_type": "stream",
     "text": [
      "W1013 21:05:01.537629 31620 callbacks.py:1289] Can save best model only with val_acc available, skipping.\n"
     ]
    },
    {
     "name": "stdout",
     "output_type": "stream",
     "text": [
      "313/313 [==============================] - 22s 70ms/step - loss: 0.6753 - accuracy: 0.7554 - val_loss: 0.8754 - val_accuracy: 0.6982\n",
      "Epoch 17/20\n",
      "312/313 [============================>.] - ETA: 0s - loss: 0.6574 - accuracy: 0.7641"
     ]
    },
    {
     "name": "stderr",
     "output_type": "stream",
     "text": [
      "W1013 21:05:23.500114 31620 callbacks.py:1289] Can save best model only with val_acc available, skipping.\n"
     ]
    },
    {
     "name": "stdout",
     "output_type": "stream",
     "text": [
      "313/313 [==============================] - 22s 70ms/step - loss: 0.6576 - accuracy: 0.7642 - val_loss: 0.8648 - val_accuracy: 0.7077\n",
      "Epoch 18/20\n",
      "312/313 [============================>.] - ETA: 0s - loss: 0.6310 - accuracy: 0.7740"
     ]
    },
    {
     "name": "stderr",
     "output_type": "stream",
     "text": [
      "W1013 21:05:45.652080 31620 callbacks.py:1289] Can save best model only with val_acc available, skipping.\n"
     ]
    },
    {
     "name": "stdout",
     "output_type": "stream",
     "text": [
      "313/313 [==============================] - 22s 71ms/step - loss: 0.6306 - accuracy: 0.7742 - val_loss: 0.8562 - val_accuracy: 0.7110\n",
      "Epoch 19/20\n",
      "312/313 [============================>.] - ETA: 0s - loss: 0.6072 - accuracy: 0.7828"
     ]
    },
    {
     "name": "stderr",
     "output_type": "stream",
     "text": [
      "W1013 21:06:07.496250 31620 callbacks.py:1289] Can save best model only with val_acc available, skipping.\n"
     ]
    },
    {
     "name": "stdout",
     "output_type": "stream",
     "text": [
      "313/313 [==============================] - 22s 70ms/step - loss: 0.6074 - accuracy: 0.7826 - val_loss: 0.8867 - val_accuracy: 0.7031\n",
      "Epoch 20/20\n",
      "312/313 [============================>.] - ETA: 0s - loss: 0.5797 - accuracy: 0.7906"
     ]
    },
    {
     "name": "stderr",
     "output_type": "stream",
     "text": [
      "W1013 21:06:29.240191 31620 callbacks.py:1289] Can save best model only with val_acc available, skipping.\n"
     ]
    },
    {
     "name": "stdout",
     "output_type": "stream",
     "text": [
      "\b\b\b\b\b\b\b\b\b\b\b\b\b\b\b\b\b\b\b\b\b\b\b\b\b\b\b\b\b\b\b\b\b\b\b\b\b\b\b\b\b\b\b\b\b\b\b\b\b\b\b\b\b\b\b\b\b\b\b\b\b\b\b\b\b\b\b\b\b\b\b\b\b\b\b\b\b\b\b\b\b\b\b\b\r",
      "313/313 [==============================] - 22s 69ms/step - loss: 0.5797 - accuracy: 0.7907 - val_loss: 0.8720 - val_accuracy: 0.7122\n"
     ]
    },
    {
     "data": {
      "text/plain": [
       "<tensorflow.python.keras.callbacks.History at 0x24e71c40b38>"
      ]
     },
     "execution_count": 4,
     "metadata": {},
     "output_type": "execute_result"
    }
   ],
   "source": [
    "myCP = ModelCheckpoint(save_best_only=True,filepath='teacher.h5',monitor = 'val_acc')\n",
    "# epoch 할때마다 좋은 모델만 저장\n",
    "Teacher.fit(x_train,\n",
    "         y_train,\n",
    "         batch_size=128,\n",
    "         epochs=20,\n",
    "         validation_split = 0.2,\n",
    "         callbacks=[myCP])"
   ]
  },
  {
   "cell_type": "code",
   "execution_count": 6,
   "metadata": {
    "colab": {
     "base_uri": "https://localhost:8080/",
     "height": 176
    },
    "colab_type": "code",
    "id": "ivHJ880q7xhy",
    "outputId": "f3c17df4-7e3b-44e7-c19e-dad60bc255bb"
   },
   "outputs": [
    {
     "name": "stdout",
     "output_type": "stream",
     "text": [
      "313/313 [==============================] - 1s 5ms/step - loss: 0.8738 - accuracy: 0.7061\n"
     ]
    },
    {
     "data": {
      "text/plain": [
       "[0.8738300800323486, 0.7060999870300293]"
      ]
     },
     "execution_count": 6,
     "metadata": {},
     "output_type": "execute_result"
    }
   ],
   "source": [
    "# Retrieve best model from saved\n",
    "# Teacher = load_model('teacher.h5')\n",
    "\n",
    "# Evaluation with test set\n",
    "Teacher.evaluate(x_test,y_test)"
   ]
  },
  {
   "cell_type": "markdown",
   "metadata": {
    "colab_type": "text",
    "id": "ppnopnPM6DE1"
   },
   "source": [
    "# Understand temperature"
   ]
  },
  {
   "cell_type": "code",
   "execution_count": 9,
   "metadata": {
    "colab": {
     "base_uri": "https://localhost:8080/",
     "height": 729
    },
    "colab_type": "code",
    "id": "IgGxH0YOBGLm",
    "outputId": "58104de8-fe67-49e9-ef12-c2a5f76ad0a0"
   },
   "outputs": [
    {
     "name": "stderr",
     "output_type": "stream",
     "text": [
      "W1013 21:08:17.286367 31620 def_function.py:120] 5 out of the last 5 calls to <function Model.make_predict_function.<locals>.predict_function at 0x0000024E79A9A2F0> triggered tf.function retracing. Tracing is expensive and the excessive number of tracings could be due to (1) creating @tf.function repeatedly in a loop, (2) passing tensors with different shapes, (3) passing Python objects instead of tensors. For (1), please define your @tf.function outside of the loop. For (2), @tf.function has experimental_relax_shapes=True option that relaxes argument shapes that can avoid unnecessary retracing. For (3), please refer to https://www.tensorflow.org/tutorials/customization/performance#python_or_tensor_args and https://www.tensorflow.org/api_docs/python/tf/function for  more details.\n",
      "W1013 21:08:17.353188 31620 def_function.py:120] 6 out of the last 6 calls to <function Model.make_predict_function.<locals>.predict_function at 0x0000024E79AD4D08> triggered tf.function retracing. Tracing is expensive and the excessive number of tracings could be due to (1) creating @tf.function repeatedly in a loop, (2) passing tensors with different shapes, (3) passing Python objects instead of tensors. For (1), please define your @tf.function outside of the loop. For (2), @tf.function has experimental_relax_shapes=True option that relaxes argument shapes that can avoid unnecessary retracing. For (3), please refer to https://www.tensorflow.org/tutorials/customization/performance#python_or_tensor_args and https://www.tensorflow.org/api_docs/python/tf/function for  more details.\n",
      "C:\\Users\\Gyu\\Anaconda3\\envs\\py37\\lib\\site-packages\\seaborn\\_decorators.py:43: FutureWarning: Pass the following variables as keyword args: x, y. From version 0.12, the only valid positional argument will be `data`, and passing other arguments without an explicit keyword will result in an error or misinterpretation.\n",
      "  FutureWarning\n",
      "C:\\Users\\Gyu\\Anaconda3\\envs\\py37\\lib\\site-packages\\seaborn\\_decorators.py:43: FutureWarning: Pass the following variables as keyword args: x, y. From version 0.12, the only valid positional argument will be `data`, and passing other arguments without an explicit keyword will result in an error or misinterpretation.\n",
      "  FutureWarning\n",
      "C:\\Users\\Gyu\\Anaconda3\\envs\\py37\\lib\\site-packages\\seaborn\\_decorators.py:43: FutureWarning: Pass the following variables as keyword args: x, y. From version 0.12, the only valid positional argument will be `data`, and passing other arguments without an explicit keyword will result in an error or misinterpretation.\n",
      "  FutureWarning\n",
      "C:\\Users\\Gyu\\Anaconda3\\envs\\py37\\lib\\site-packages\\seaborn\\_decorators.py:43: FutureWarning: Pass the following variables as keyword args: x, y. From version 0.12, the only valid positional argument will be `data`, and passing other arguments without an explicit keyword will result in an error or misinterpretation.\n",
      "  FutureWarning\n",
      "C:\\Users\\Gyu\\Anaconda3\\envs\\py37\\lib\\site-packages\\seaborn\\_decorators.py:43: FutureWarning: Pass the following variables as keyword args: x, y. From version 0.12, the only valid positional argument will be `data`, and passing other arguments without an explicit keyword will result in an error or misinterpretation.\n",
      "  FutureWarning\n",
      "C:\\Users\\Gyu\\Anaconda3\\envs\\py37\\lib\\site-packages\\seaborn\\_decorators.py:43: FutureWarning: Pass the following variables as keyword args: x, y. From version 0.12, the only valid positional argument will be `data`, and passing other arguments without an explicit keyword will result in an error or misinterpretation.\n",
      "  FutureWarning\n"
     ]
    },
    {
     "data": {
      "image/png": "[encoded data removed]",
      "text/plain": [
       "<Figure size 432x288 with 1 Axes>"
      ]
     },
     "metadata": {
      "needs_background": "light"
     },
     "output_type": "display_data"
    },
    {
     "data": {
      "image/png": "[encoded data removed]",
      "text/plain": [
       "<Figure size 1008x432 with 1 Axes>"
      ]
     },
     "metadata": {
      "needs_background": "light"
     },
     "output_type": "display_data"
    }
   ],
   "source": [
    "Teacher_logits = Model(Teacher.input,Teacher.layers[-2].output)\n",
    "# 뒤에서 두번째 layer까지\n",
    "# 선생님 지식\n",
    "\n",
    "logits_plot = []\n",
    "\n",
    "class_names = [\"airplane\",\"automobile\",\"bird\",\"cat\",\"deer\",\"dog\",\"frog\",\"horse\",\"ship\",\"truck\"]\t\t\t\t\t\t\t\t\t\t\n",
    "\n",
    "\n",
    "# Choose the item to visualize temperature\n",
    "# 온도를 높여 증류하는 식\n",
    "item_idx = 7\n",
    "\n",
    "item_image = x_train[item_idx]\n",
    "\n",
    "plt.imshow(item_image)\n",
    "\n",
    "Temperatures = [1,5,10,20,35,50]\n",
    "\n",
    "\n",
    "for Temperature in Temperatures:\n",
    "  # Create temperature layer that produces logits with temperature\n",
    "    T_layer = Lambda(lambda x:x/Temperature)(Teacher_logits.output)\n",
    "    # Lambda : layer값을 함수로 계산해서 다음 layer로\n",
    "  \n",
    "  # Create a softmax layer\n",
    "    Softmax_layer = Softmax()(T_layer)\n",
    "  # Add the teacher T_layer to the whole model\n",
    "    Teacher_logits_soften = Model(Teacher.input,Softmax_layer)\n",
    "                             \n",
    "  # Append for plotting\n",
    "    logits_plot.append(Teacher_logits_soften.predict(np.array([item_image])))\n",
    "  \n",
    "plt.figure(figsize=(14, 6))\n",
    "\n",
    "for i in range(len(Temperatures)):\n",
    "    sns.lineplot(class_names,logits_plot[i][0],legend=\"full\")\n",
    "    plt.title('This is a '+ class_names[y_train[item_idx][0]])\n",
    "    plt.legend(Temperatures,title=\"Temperatures\")\n",
    "    \n",
    "#"
   ]
  },
  {
   "cell_type": "markdown",
   "metadata": {
    "colab_type": "text",
    "id": "VC7j3YBUWe_2"
   },
   "source": [
    "# Create a teacher model that create softened output\n",
    "As mentioned in **Hinton's paper**:  \"When the distilled net had 300 or more units in each of its two hidden layers, all temperatures above gave fairly similar results. But when this was radically reduced to 30 units per layer, temperatures in the range 2.5 to 4 worked significantly better than high or lower temperatures.\"  \n",
    "In this notebook, I'll use temperature **3.25**, feel free to change to the Temperature to any number of your interest.\n",
    "\n",
    "- 2.5에서 4까지가 나누기 좋다"
   ]
  },
  {
   "cell_type": "code",
   "execution_count": 10,
   "metadata": {
    "colab": {},
    "colab_type": "code",
    "id": "RG0cEG8GRZm0"
   },
   "outputs": [],
   "source": [
    "Temperature = 3.25\n",
    "T_layer = Lambda(lambda x:x/Temperature)(Teacher_logits.output)\n",
    "Softmax_layer = Activation('softmax')(T_layer)\n",
    "Teacher_soften = Model(Teacher.input,Softmax_layer)"
   ]
  },
  {
   "cell_type": "code",
   "execution_count": 11,
   "metadata": {
    "colab": {},
    "colab_type": "code",
    "id": "5eS3Z8rBWY3a"
   },
   "outputs": [
    {
     "name": "stderr",
     "output_type": "stream",
     "text": [
      "W1013 21:08:22.753547 31620 def_function.py:120] 7 out of the last 7 calls to <function Model.make_predict_function.<locals>.predict_function at 0x0000024E79DC1378> triggered tf.function retracing. Tracing is expensive and the excessive number of tracings could be due to (1) creating @tf.function repeatedly in a loop, (2) passing tensors with different shapes, (3) passing Python objects instead of tensors. For (1), please define your @tf.function outside of the loop. For (2), @tf.function has experimental_relax_shapes=True option that relaxes argument shapes that can avoid unnecessary retracing. For (3), please refer to https://www.tensorflow.org/tutorials/customization/performance#python_or_tensor_args and https://www.tensorflow.org/api_docs/python/tf/function for  more details.\n"
     ]
    }
   ],
   "source": [
    "# Predict and convert to sparse categorical matrix\n",
    "y_train_new = Teacher_soften.predict(x_train)\n",
    "y_test_new = Teacher_soften.predict(x_test)\n",
    "\n",
    "y_train_new = np.c_[to_categorical(y_train),y_train_new]\n",
    "y_test_new = np.c_[to_categorical(y_test),y_test_new]"
   ]
  },
  {
   "cell_type": "markdown",
   "metadata": {
    "colab_type": "text",
    "id": "C0wHj1lobBaa"
   },
   "source": [
    "# Create a student model that produces with and without soften output"
   ]
  },
  {
   "cell_type": "markdown",
   "metadata": {
    "colab_type": "text",
    "id": "sgDCsYaxC0Zv"
   },
   "source": [
    "The student model we'll in this notebook is a really shallow neural network with only 1 hidden layers with 64 units, followed by a 10 softmax unit for the output"
   ]
  },
  {
   "cell_type": "code",
   "execution_count": 12,
   "metadata": {
    "colab": {
     "base_uri": "https://localhost:8080/",
     "height": 260
    },
    "colab_type": "code",
    "id": "cCOh7PFP6fPV",
    "outputId": "d10b2c8e-13e9-4f0d-9815-37c08bff6429"
   },
   "outputs": [
    {
     "name": "stdout",
     "output_type": "stream",
     "text": [
      "Model: \"sequential_1\"\n",
      "_________________________________________________________________\n",
      "Layer (type)                 Output Shape              Param #   \n",
      "=================================================================\n",
      "flatten_1 (Flatten)          (None, 3072)              0         \n",
      "_________________________________________________________________\n",
      "dense_2 (Dense)              (None, 64)                196672    \n",
      "_________________________________________________________________\n",
      "dense_3 (Dense)              (None, 10)                650       \n",
      "=================================================================\n",
      "Total params: 197,322\n",
      "Trainable params: 197,322\n",
      "Non-trainable params: 0\n",
      "_________________________________________________________________\n"
     ]
    }
   ],
   "source": [
    "Student = Sequential() #a Must define the input shape in the first layer of the neural network\n",
    "Student.add(Flatten(input_shape=(32,32,3)))\n",
    "Student.add(Dense(64, activation='relu'))\n",
    "Student.add(Dense(10))\n",
    "Student.summary()"
   ]
  },
  {
   "cell_type": "code",
   "execution_count": 13,
   "metadata": {
    "colab": {},
    "colab_type": "code",
    "id": "2ic-g-z1ODuY"
   },
   "outputs": [],
   "source": [
    "student_logits = Student.layers[-1].output\n",
    "\n",
    "# Compute softmax\n",
    "probs = Activation(\"softmax\")(student_logits)\n",
    "\n",
    "# Compute softmax with softened logits\n",
    "logits_T = Lambda(lambda x:x/Temperature)(student_logits)\n",
    "probs_T = Activation(\"softmax\")(logits_T)\n",
    "\n",
    "CombinedLayers = concatenate([probs,probs_T])\n",
    "\n",
    "StudentModel = Model(Student.input,CombinedLayers)"
   ]
  },
  {
   "cell_type": "markdown",
   "metadata": {
    "colab_type": "text",
    "id": "Bs3G-pvGOOFE"
   },
   "source": [
    "<center><img src=\"https://nervanasystems.github.io/distiller/imgs/knowledge_distillation.png\" width=500></center>\n",
    "<center> "
   ]
  },
  {
   "cell_type": "markdown",
   "metadata": {
    "colab_type": "text",
    "id": "kpXESRefDGtb"
   },
   "source": [
    "$$ \\text{Let } a_{t}  \\text{ and } a_{s} \\text{ be the logits (the inputs to the final softmax) of the teacher and student network, respectively, with the ground-truth label } y_{r} .\\text{ We calculate the cross-entropy between the softmax} (a_{s},y_{r}) \\text{ and } y_{r} \\text{ as follow:}$$\n",
    "$$ \\mathcal{L}_{SL}=\\mathcal{H}(\\text{softmax}(a_{s},y_{r})) $$\n",
    "\n",
    "$$ \\text{In knowledge distillation (in all 3 papers), we tries to match the softened outputs of the student } y_{s} = \\text{softmax}(a_{s}/\\mathcal{T})   \\text{ and teacher's softened outputs }  y_{t}=\\text{softmax}(a_{t}/\\mathcal{T}) \\text{via a KL-divergence loss}$$\n",
    "$$\\mathcal{L}_{KD}=\\mathcal{T}^2\\text{KL}(y_{s},y_{t})$$ \n",
    "$$ \\text{The student model will then be trained on a \"combined\" loss between } \\mathcal{L}_{SL} \\text{ and } \\mathcal{L}_{KD} \\text{ with } \\lambda \\text{ representing the trade off of 2 losses }$$\n",
    "$$\\mathcal{L}_{\\text{student}} = \\lambda\\mathcal{L}_{SL} + (1-\\lambda)\\mathcal{L}_{KD}$$"
   ]
  },
  {
   "cell_type": "code",
   "execution_count": 15,
   "metadata": {
    "colab": {},
    "colab_type": "code",
    "id": "n2-QsDZ5jtA8"
   },
   "outputs": [],
   "source": [
    "def KD_loss(y_true,y_pred,lambd=0.5,T=10.0):\n",
    "  y_true,y_true_KD = y_true[:,:NUM_CLASSES],y_true[:,NUM_CLASSES:]\n",
    "  y_pred,y_pred_KD = y_pred[:,:NUM_CLASSES],y_pred[:,NUM_CLASSES:]\n",
    "  # Classic cross-entropy (without temperature)\n",
    "  CE_loss = logloss(y_true,y_pred)\n",
    "  # KL-Divergence loss for softened output (with temperature)\n",
    "  KL_loss = T**2*KLD_Loss(y_true_KD,y_pred_KD)\n",
    "  \n",
    "  return lambd*CE_loss + (1-lambd)*KL_loss\n",
    "\n",
    "def accuracy(y_true,y_pred):\n",
    "  return categorical_accuracy(y_true,y_pred)\n",
    "  "
   ]
  },
  {
   "cell_type": "code",
   "execution_count": 16,
   "metadata": {
    "colab": {},
    "colab_type": "code",
    "id": "0pbswIyRhYUG"
   },
   "outputs": [],
   "source": [
    "StudentModel.compile(optimizer='adam',loss=lambda y_true,y_pred: KD_loss(y_true, y_pred,lambd=0.5,T=Temperature),metrics=[accuracy])"
   ]
  },
  {
   "cell_type": "code",
   "execution_count": 17,
   "metadata": {
    "colab": {
     "base_uri": "https://localhost:8080/",
     "height": 1000
    },
    "colab_type": "code",
    "id": "am0Ufoz6jc3-",
    "outputId": "11ed429d-11db-4e79-a12e-99a9510dbb91"
   },
   "outputs": [
    {
     "name": "stdout",
     "output_type": "stream",
     "text": [
      "Epoch 1/50\n",
      "333/333 [==============================] - 1s 4ms/step - loss: 3.8932 - accuracy: 0.3107 - val_loss: 3.6282 - val_accuracy: 0.3135\n",
      "Epoch 2/50\n",
      "333/333 [==============================] - 1s 3ms/step - loss: 3.4850 - accuracy: 0.3613 - val_loss: 3.2834 - val_accuracy: 0.3691\n",
      "Epoch 3/50\n",
      "333/333 [==============================] - 1s 3ms/step - loss: 3.3096 - accuracy: 0.3826 - val_loss: 3.2623 - val_accuracy: 0.3548\n",
      "Epoch 4/50\n",
      "333/333 [==============================] - 1s 3ms/step - loss: 3.1935 - accuracy: 0.3936 - val_loss: 3.0670 - val_accuracy: 0.3896\n",
      "Epoch 5/50\n",
      "333/333 [==============================] - 1s 3ms/step - loss: 3.1023 - accuracy: 0.4053 - val_loss: 2.9803 - val_accuracy: 0.3995\n",
      "Epoch 6/50\n",
      "333/333 [==============================] - 1s 3ms/step - loss: 3.0318 - accuracy: 0.4109 - val_loss: 2.9798 - val_accuracy: 0.3905\n",
      "Epoch 7/50\n",
      "333/333 [==============================] - 1s 3ms/step - loss: 2.9779 - accuracy: 0.4157 - val_loss: 3.0144 - val_accuracy: 0.3895\n",
      "Epoch 8/50\n",
      "333/333 [==============================] - 1s 3ms/step - loss: 2.9293 - accuracy: 0.4204 - val_loss: 2.8542 - val_accuracy: 0.4035\n",
      "Epoch 9/50\n",
      "333/333 [==============================] - 1s 3ms/step - loss: 2.8870 - accuracy: 0.4268 - val_loss: 2.8902 - val_accuracy: 0.4028\n",
      "Epoch 10/50\n",
      "333/333 [==============================] - 1s 3ms/step - loss: 2.8557 - accuracy: 0.4280 - val_loss: 2.8697 - val_accuracy: 0.4056\n",
      "Epoch 11/50\n",
      "333/333 [==============================] - 1s 3ms/step - loss: 2.8266 - accuracy: 0.4319 - val_loss: 2.7367 - val_accuracy: 0.4249\n",
      "Epoch 12/50\n",
      "333/333 [==============================] - 1s 3ms/step - loss: 2.7951 - accuracy: 0.4364 - val_loss: 3.0790 - val_accuracy: 0.3767\n",
      "Epoch 13/50\n",
      "333/333 [==============================] - 1s 3ms/step - loss: 2.7886 - accuracy: 0.4367 - val_loss: 2.9531 - val_accuracy: 0.3937\n",
      "Epoch 14/50\n",
      "333/333 [==============================] - 1s 3ms/step - loss: 2.7698 - accuracy: 0.4396 - val_loss: 2.7339 - val_accuracy: 0.4179\n",
      "Epoch 15/50\n",
      "333/333 [==============================] - 1s 3ms/step - loss: 2.7314 - accuracy: 0.4420 - val_loss: 2.7114 - val_accuracy: 0.4253\n",
      "Epoch 16/50\n",
      "333/333 [==============================] - 1s 3ms/step - loss: 2.7154 - accuracy: 0.4445 - val_loss: 2.8963 - val_accuracy: 0.4092\n",
      "Epoch 17/50\n",
      "333/333 [==============================] - 1s 3ms/step - loss: 2.7120 - accuracy: 0.4468 - val_loss: 2.7821 - val_accuracy: 0.4127\n",
      "Epoch 18/50\n",
      "333/333 [==============================] - 1s 3ms/step - loss: 2.6838 - accuracy: 0.4467 - val_loss: 3.0428 - val_accuracy: 0.4017\n",
      "Epoch 19/50\n",
      "333/333 [==============================] - 1s 3ms/step - loss: 2.6888 - accuracy: 0.4491 - val_loss: 2.9991 - val_accuracy: 0.3961\n",
      "Epoch 20/50\n",
      "333/333 [==============================] - 1s 3ms/step - loss: 2.6762 - accuracy: 0.4480 - val_loss: 2.7834 - val_accuracy: 0.4101\n",
      "Epoch 21/50\n",
      "333/333 [==============================] - 1s 3ms/step - loss: 2.6591 - accuracy: 0.4508 - val_loss: 2.8108 - val_accuracy: 0.3993\n",
      "Epoch 22/50\n",
      "333/333 [==============================] - 1s 3ms/step - loss: 2.6489 - accuracy: 0.4528 - val_loss: 2.7467 - val_accuracy: 0.4144\n",
      "Epoch 23/50\n",
      "333/333 [==============================] - 1s 3ms/step - loss: 2.6388 - accuracy: 0.4537 - val_loss: 2.7132 - val_accuracy: 0.4081\n",
      "Epoch 24/50\n",
      "333/333 [==============================] - 1s 3ms/step - loss: 2.6192 - accuracy: 0.4578 - val_loss: 2.6926 - val_accuracy: 0.4205\n",
      "Epoch 25/50\n",
      "333/333 [==============================] - 1s 3ms/step - loss: 2.6168 - accuracy: 0.4574 - val_loss: 2.7026 - val_accuracy: 0.4233\n",
      "Epoch 26/50\n",
      "333/333 [==============================] - 1s 3ms/step - loss: 2.6051 - accuracy: 0.4585 - val_loss: 2.8045 - val_accuracy: 0.4152\n",
      "Epoch 27/50\n",
      "333/333 [==============================] - 1s 3ms/step - loss: 2.5947 - accuracy: 0.4613 - val_loss: 2.6793 - val_accuracy: 0.4209\n",
      "Epoch 28/50\n",
      "333/333 [==============================] - 1s 3ms/step - loss: 2.5951 - accuracy: 0.4586 - val_loss: 2.7521 - val_accuracy: 0.4201\n",
      "Epoch 29/50\n",
      "333/333 [==============================] - 1s 3ms/step - loss: 2.5722 - accuracy: 0.4622 - val_loss: 2.6615 - val_accuracy: 0.4201\n",
      "Epoch 30/50\n",
      "333/333 [==============================] - 1s 3ms/step - loss: 2.5804 - accuracy: 0.4617 - val_loss: 2.6251 - val_accuracy: 0.4328\n",
      "Epoch 31/50\n",
      "333/333 [==============================] - 1s 3ms/step - loss: 2.5701 - accuracy: 0.4620 - val_loss: 2.6367 - val_accuracy: 0.4248\n",
      "Epoch 32/50\n",
      "333/333 [==============================] - 1s 3ms/step - loss: 2.5528 - accuracy: 0.4634 - val_loss: 2.5912 - val_accuracy: 0.4353\n",
      "Epoch 33/50\n",
      "333/333 [==============================] - 1s 3ms/step - loss: 2.5505 - accuracy: 0.4643 - val_loss: 2.7348 - val_accuracy: 0.4085\n",
      "Epoch 34/50\n",
      "333/333 [==============================] - 1s 3ms/step - loss: 2.5446 - accuracy: 0.4667 - val_loss: 2.6336 - val_accuracy: 0.4240\n",
      "Epoch 35/50\n",
      "333/333 [==============================] - 1s 3ms/step - loss: 2.5401 - accuracy: 0.4640 - val_loss: 2.6292 - val_accuracy: 0.4308\n",
      "Epoch 36/50\n",
      "333/333 [==============================] - 1s 3ms/step - loss: 2.5309 - accuracy: 0.4669 - val_loss: 2.5911 - val_accuracy: 0.4315\n",
      "Epoch 37/50\n",
      "333/333 [==============================] - 1s 3ms/step - loss: 2.5396 - accuracy: 0.4666 - val_loss: 2.6037 - val_accuracy: 0.4332\n",
      "Epoch 38/50\n",
      "333/333 [==============================] - 1s 3ms/step - loss: 2.5318 - accuracy: 0.4670 - val_loss: 2.6276 - val_accuracy: 0.4300\n",
      "Epoch 39/50\n",
      "333/333 [==============================] - 1s 3ms/step - loss: 2.5286 - accuracy: 0.4670 - val_loss: 2.6230 - val_accuracy: 0.4304\n",
      "Epoch 40/50\n",
      "333/333 [==============================] - 1s 3ms/step - loss: 2.5186 - accuracy: 0.4683 - val_loss: 2.5451 - val_accuracy: 0.4356\n",
      "Epoch 41/50\n",
      "333/333 [==============================] - 1s 3ms/step - loss: 2.5040 - accuracy: 0.4703 - val_loss: 2.6019 - val_accuracy: 0.4271\n",
      "Epoch 42/50\n",
      "333/333 [==============================] - 1s 3ms/step - loss: 2.5128 - accuracy: 0.4690 - val_loss: 2.6428 - val_accuracy: 0.4244\n",
      "Epoch 43/50\n",
      "333/333 [==============================] - 1s 3ms/step - loss: 2.5028 - accuracy: 0.4706 - val_loss: 2.6082 - val_accuracy: 0.4312\n",
      "Epoch 44/50\n",
      "333/333 [==============================] - 1s 3ms/step - loss: 2.4986 - accuracy: 0.4716 - val_loss: 2.6270 - val_accuracy: 0.4264\n",
      "Epoch 45/50\n",
      "333/333 [==============================] - 1s 3ms/step - loss: 2.4995 - accuracy: 0.4722 - val_loss: 2.6839 - val_accuracy: 0.4231\n",
      "Epoch 46/50\n",
      "333/333 [==============================] - 1s 3ms/step - loss: 2.4949 - accuracy: 0.4734 - val_loss: 2.5663 - val_accuracy: 0.4377\n",
      "Epoch 47/50\n",
      "333/333 [==============================] - 1s 3ms/step - loss: 2.4791 - accuracy: 0.4742 - val_loss: 2.6216 - val_accuracy: 0.4317\n",
      "Epoch 48/50\n",
      "333/333 [==============================] - 1s 3ms/step - loss: 2.4867 - accuracy: 0.4733 - val_loss: 2.6390 - val_accuracy: 0.4340\n",
      "Epoch 49/50\n",
      "333/333 [==============================] - 1s 3ms/step - loss: 2.4688 - accuracy: 0.4736 - val_loss: 2.6573 - val_accuracy: 0.4213\n",
      "Epoch 50/50\n",
      "333/333 [==============================] - 1s 3ms/step - loss: 2.4910 - accuracy: 0.4738 - val_loss: 2.5965 - val_accuracy: 0.4303\n"
     ]
    },
    {
     "data": {
      "text/plain": [
       "<tensorflow.python.keras.callbacks.History at 0x24e79c77630>"
      ]
     },
     "execution_count": 17,
     "metadata": {},
     "output_type": "execute_result"
    }
   ],
   "source": [
    "myCP = ModelCheckpoint(save_best_only=True,filepath='student.h5',monitor = 'val_accuracy')\n",
    "\n",
    "StudentModel.fit(x_train,y_train_new,epochs=50,validation_split=0.15,batch_size=128,callbacks=[myCP])"
   ]
  },
  {
   "cell_type": "code",
   "execution_count": 18,
   "metadata": {
    "colab": {
     "base_uri": "https://localhost:8080/",
     "height": 52
    },
    "colab_type": "code",
    "id": "-QujVzs7rRxN",
    "outputId": "f6fd2c26-101c-4e18-9e16-73af89d0a024"
   },
   "outputs": [
    {
     "name": "stdout",
     "output_type": "stream",
     "text": [
      "1563/1563 [==============================] - 1s 813us/step - loss: 2.4969 - accuracy: 0.4625\n"
     ]
    },
    {
     "data": {
      "text/plain": [
       "[2.4969213008880615, 0.46248000860214233]"
      ]
     },
     "execution_count": 18,
     "metadata": {},
     "output_type": "execute_result"
    }
   ],
   "source": [
    "StudentModel.load_weights('student.h5')\n",
    "StudentModel.evaluate(x_train,y_train_new)\n"
   ]
  },
  {
   "cell_type": "markdown",
   "metadata": {
    "colab_type": "text",
    "id": "1k5LsqTWzh56"
   },
   "source": [
    "# Create a standalone student"
   ]
  },
  {
   "cell_type": "code",
   "execution_count": 0,
   "metadata": {
    "colab": {
     "base_uri": "https://localhost:8080/",
     "height": 260
    },
    "colab_type": "code",
    "id": "vfInFTnqr6Yg",
    "outputId": "0871bbcb-d3e7-4946-bee7-acfe901c7648"
   },
   "outputs": [
    {
     "name": "stdout",
     "output_type": "stream",
     "text": [
      "Model: \"sequential_6\"\n",
      "_________________________________________________________________\n",
      "Layer (type)                 Output Shape              Param #   \n",
      "=================================================================\n",
      "flatten_6 (Flatten)          (None, 3072)              0         \n",
      "_________________________________________________________________\n",
      "dense_12 (Dense)             (None, 64)                196672    \n",
      "_________________________________________________________________\n",
      "dense_13 (Dense)             (None, 10)                650       \n",
      "=================================================================\n",
      "Total params: 197,322\n",
      "Trainable params: 197,322\n",
      "Non-trainable params: 0\n",
      "_________________________________________________________________\n"
     ]
    }
   ],
   "source": [
    "AloneModel = Sequential() #a Must define the input shape in the first layer of the neural netAloneStudent = Sequential() #a Must define the input shape in the first layer of the neural network\n",
    "AloneModel.add(Flatten(input_shape=(32,32,3)))\n",
    "AloneModel.add(Dense(64, activation='relu'))\n",
    "AloneModel.add(Dense(10,activation=\"softmax\"))\n",
    "AloneModel.summary()"
   ]
  },
  {
   "cell_type": "code",
   "execution_count": 0,
   "metadata": {
    "colab": {
     "base_uri": "https://localhost:8080/",
     "height": 1000
    },
    "colab_type": "code",
    "id": "N9rxNJ9AzkVj",
    "outputId": "ade89b2c-cb7a-4a39-c9f4-715b4329cb87"
   },
   "outputs": [
    {
     "name": "stdout",
     "output_type": "stream",
     "text": [
      "Train on 42500 samples, validate on 7500 samples\n",
      "Epoch 1/50\n",
      "42500/42500 [==============================] - 2s 52us/sample - loss: 2.0431 - acc: 0.2463 - val_loss: 1.9507 - val_acc: 0.2873\n",
      "Epoch 2/50\n",
      "42500/42500 [==============================] - 1s 34us/sample - loss: 1.8805 - acc: 0.3196 - val_loss: 1.9021 - val_acc: 0.3144\n",
      "Epoch 3/50\n",
      "42500/42500 [==============================] - 1s 34us/sample - loss: 1.8343 - acc: 0.3402 - val_loss: 1.8557 - val_acc: 0.3289\n",
      "Epoch 4/50\n",
      "42500/42500 [==============================] - 1s 34us/sample - loss: 1.8064 - acc: 0.3496 - val_loss: 1.8348 - val_acc: 0.3376\n",
      "Epoch 5/50\n",
      "42500/42500 [==============================] - 1s 35us/sample - loss: 1.7856 - acc: 0.3571 - val_loss: 1.8426 - val_acc: 0.3353\n",
      "Epoch 6/50\n",
      "42500/42500 [==============================] - 1s 33us/sample - loss: 1.7756 - acc: 0.3619 - val_loss: 1.8208 - val_acc: 0.3356\n",
      "Epoch 7/50\n",
      "42500/42500 [==============================] - 1s 33us/sample - loss: 1.7637 - acc: 0.3663 - val_loss: 1.8080 - val_acc: 0.3509\n",
      "Epoch 8/50\n",
      "42500/42500 [==============================] - 1s 33us/sample - loss: 1.7516 - acc: 0.3723 - val_loss: 1.7973 - val_acc: 0.3532\n",
      "Epoch 9/50\n",
      "42500/42500 [==============================] - 1s 33us/sample - loss: 1.7472 - acc: 0.3756 - val_loss: 1.8044 - val_acc: 0.3535\n",
      "Epoch 10/50\n",
      "42500/42500 [==============================] - 1s 34us/sample - loss: 1.7410 - acc: 0.3787 - val_loss: 1.7833 - val_acc: 0.3597\n",
      "Epoch 11/50\n",
      "42500/42500 [==============================] - 1s 33us/sample - loss: 1.7312 - acc: 0.3825 - val_loss: 1.7926 - val_acc: 0.3563\n",
      "Epoch 12/50\n",
      "42500/42500 [==============================] - 1s 34us/sample - loss: 1.7306 - acc: 0.3851 - val_loss: 1.7787 - val_acc: 0.3624\n",
      "Epoch 13/50\n",
      "42500/42500 [==============================] - 1s 34us/sample - loss: 1.7238 - acc: 0.3859 - val_loss: 1.7630 - val_acc: 0.3735\n",
      "Epoch 14/50\n",
      "42500/42500 [==============================] - 1s 33us/sample - loss: 1.7201 - acc: 0.3864 - val_loss: 1.7799 - val_acc: 0.3568\n",
      "Epoch 15/50\n",
      "42500/42500 [==============================] - 1s 34us/sample - loss: 1.7190 - acc: 0.3861 - val_loss: 1.7817 - val_acc: 0.3676\n",
      "Epoch 16/50\n",
      "42500/42500 [==============================] - 1s 34us/sample - loss: 1.7170 - acc: 0.3862 - val_loss: 1.7568 - val_acc: 0.3709\n",
      "Epoch 17/50\n",
      "42500/42500 [==============================] - 1s 33us/sample - loss: 1.7112 - acc: 0.3870 - val_loss: 1.8002 - val_acc: 0.3616\n",
      "Epoch 18/50\n",
      "42500/42500 [==============================] - 1s 33us/sample - loss: 1.7094 - acc: 0.3871 - val_loss: 1.7986 - val_acc: 0.3584\n",
      "Epoch 19/50\n",
      "42500/42500 [==============================] - 1s 33us/sample - loss: 1.6979 - acc: 0.3937 - val_loss: 1.7436 - val_acc: 0.3721\n",
      "Epoch 20/50\n",
      "42500/42500 [==============================] - 1s 34us/sample - loss: 1.6918 - acc: 0.3941 - val_loss: 1.7915 - val_acc: 0.3605\n",
      "Epoch 21/50\n",
      "42500/42500 [==============================] - 1s 34us/sample - loss: 1.6883 - acc: 0.3942 - val_loss: 1.7701 - val_acc: 0.3733\n",
      "Epoch 22/50\n",
      "42500/42500 [==============================] - 1s 34us/sample - loss: 1.6829 - acc: 0.3968 - val_loss: 1.7264 - val_acc: 0.3803\n",
      "Epoch 23/50\n",
      "42500/42500 [==============================] - 1s 34us/sample - loss: 1.6792 - acc: 0.3965 - val_loss: 1.7635 - val_acc: 0.3691\n",
      "Epoch 24/50\n",
      "42500/42500 [==============================] - 1s 34us/sample - loss: 1.6798 - acc: 0.3956 - val_loss: 1.8555 - val_acc: 0.3349\n",
      "Epoch 25/50\n",
      "42500/42500 [==============================] - 1s 34us/sample - loss: 1.6823 - acc: 0.3966 - val_loss: 1.8043 - val_acc: 0.3607\n",
      "Epoch 26/50\n",
      "42500/42500 [==============================] - 1s 33us/sample - loss: 1.6770 - acc: 0.3979 - val_loss: 1.7220 - val_acc: 0.3836\n",
      "Epoch 27/50\n",
      "42500/42500 [==============================] - 1s 34us/sample - loss: 1.6743 - acc: 0.3976 - val_loss: 1.7976 - val_acc: 0.3645\n",
      "Epoch 28/50\n",
      "42500/42500 [==============================] - 1s 34us/sample - loss: 1.6698 - acc: 0.3988 - val_loss: 1.8179 - val_acc: 0.3485\n",
      "Epoch 29/50\n",
      "42500/42500 [==============================] - 1s 33us/sample - loss: 1.6746 - acc: 0.3990 - val_loss: 1.7522 - val_acc: 0.3716\n",
      "Epoch 30/50\n",
      "42500/42500 [==============================] - 1s 33us/sample - loss: 1.6651 - acc: 0.4006 - val_loss: 1.7548 - val_acc: 0.3677\n",
      "Epoch 31/50\n",
      "42500/42500 [==============================] - 1s 33us/sample - loss: 1.6635 - acc: 0.4024 - val_loss: 1.7113 - val_acc: 0.3860\n",
      "Epoch 32/50\n",
      "42500/42500 [==============================] - 1s 34us/sample - loss: 1.6613 - acc: 0.3998 - val_loss: 1.7345 - val_acc: 0.3788\n",
      "Epoch 33/50\n",
      "42500/42500 [==============================] - 1s 33us/sample - loss: 1.6597 - acc: 0.4031 - val_loss: 1.7426 - val_acc: 0.3795\n",
      "Epoch 34/50\n",
      "42500/42500 [==============================] - 1s 33us/sample - loss: 1.6580 - acc: 0.4058 - val_loss: 1.7356 - val_acc: 0.3823\n",
      "Epoch 35/50\n",
      "42500/42500 [==============================] - 1s 33us/sample - loss: 1.6550 - acc: 0.4043 - val_loss: 1.7134 - val_acc: 0.3867\n",
      "Epoch 36/50\n",
      "42500/42500 [==============================] - 1s 34us/sample - loss: 1.6578 - acc: 0.4053 - val_loss: 1.7192 - val_acc: 0.3809\n",
      "Epoch 37/50\n",
      "42500/42500 [==============================] - 1s 33us/sample - loss: 1.6550 - acc: 0.4052 - val_loss: 1.9328 - val_acc: 0.3287\n",
      "Epoch 38/50\n",
      "42500/42500 [==============================] - 1s 33us/sample - loss: 1.6604 - acc: 0.4012 - val_loss: 1.7676 - val_acc: 0.3791\n",
      "Epoch 39/50\n",
      "42500/42500 [==============================] - 1s 33us/sample - loss: 1.6515 - acc: 0.4052 - val_loss: 1.7316 - val_acc: 0.3755\n",
      "Epoch 40/50\n",
      "42500/42500 [==============================] - 1s 33us/sample - loss: 1.6510 - acc: 0.4057 - val_loss: 1.7286 - val_acc: 0.3839\n",
      "Epoch 41/50\n",
      "42500/42500 [==============================] - 1s 34us/sample - loss: 1.6482 - acc: 0.4075 - val_loss: 1.7213 - val_acc: 0.3777\n",
      "Epoch 42/50\n",
      "42500/42500 [==============================] - 1s 33us/sample - loss: 1.6445 - acc: 0.4069 - val_loss: 1.7184 - val_acc: 0.3831\n",
      "Epoch 43/50\n",
      "42500/42500 [==============================] - 1s 33us/sample - loss: 1.6459 - acc: 0.4080 - val_loss: 1.7021 - val_acc: 0.3923\n",
      "Epoch 44/50\n",
      "42500/42500 [==============================] - 1s 33us/sample - loss: 1.6477 - acc: 0.4076 - val_loss: 1.7214 - val_acc: 0.3856\n",
      "Epoch 45/50\n",
      "42500/42500 [==============================] - 1s 33us/sample - loss: 1.6452 - acc: 0.4076 - val_loss: 1.7032 - val_acc: 0.3889\n",
      "Epoch 46/50\n",
      "42500/42500 [==============================] - 1s 33us/sample - loss: 1.6442 - acc: 0.4077 - val_loss: 1.7519 - val_acc: 0.3761\n",
      "Epoch 47/50\n",
      "42500/42500 [==============================] - 1s 34us/sample - loss: 1.6410 - acc: 0.4113 - val_loss: 1.7117 - val_acc: 0.3800\n",
      "Epoch 48/50\n",
      "42500/42500 [==============================] - 1s 34us/sample - loss: 1.6419 - acc: 0.4088 - val_loss: 1.7050 - val_acc: 0.3877\n",
      "Epoch 49/50\n",
      "42500/42500 [==============================] - 1s 34us/sample - loss: 1.6402 - acc: 0.4084 - val_loss: 1.7063 - val_acc: 0.3841\n",
      "Epoch 50/50\n",
      "42500/42500 [==============================] - 1s 34us/sample - loss: 1.6370 - acc: 0.4110 - val_loss: 1.7126 - val_acc: 0.3867\n"
     ]
    },
    {
     "data": {
      "text/plain": [
       "<tensorflow.python.keras.callbacks.History at 0x7f194edf6c50>"
      ]
     },
     "execution_count": 45,
     "metadata": {
      "tags": []
     },
     "output_type": "execute_result"
    }
   ],
   "source": [
    "AloneModel.compile(optimizer='adam',loss='sparse_categorical_crossentropy',metrics=['accuracy'])\n",
    "\n",
    "myCP = ModelCheckpoint(_best_only=True,filepath='alone.h5',monitor = 'val_acc')\n",
    "\n",
    "AloneModel.fit(x_train,y_train,epochs=50,validation_split=0.15,batch_size=128,callbacks=[myCP])\n"
   ]
  },
  {
   "cell_type": "code",
   "execution_count": 0,
   "metadata": {
    "colab": {
     "base_uri": "https://localhost:8080/",
     "height": 52
    },
    "colab_type": "code",
    "id": "14Fju4pe0Ln2",
    "outputId": "d96423bb-7c7f-4dd6-ad0d-22f5480eda7a"
   },
   "outputs": [
    {
     "name": "stdout",
     "output_type": "stream",
     "text": [
      "10000/10000 [==============================] - 1s 66us/sample - loss: 1.6973 - acc: 0.3934\n"
     ]
    },
    {
     "data": {
      "text/plain": [
       "[1.6973005071640015, 0.3934]"
      ]
     },
     "execution_count": 46,
     "metadata": {
      "tags": []
     },
     "output_type": "execute_result"
    }
   ],
   "source": [
    "AloneModel = load_model(\"alone.h5\")\n",
    "AloneModel.evaluate(x_test,y_test)"
   ]
  },
  {
   "cell_type": "code",
   "execution_count": 0,
   "metadata": {
    "colab": {},
    "colab_type": "code",
    "id": "P91kVQ-ORtzh"
   },
   "outputs": [],
   "source": []
  },
  {
   "cell_type": "markdown",
   "metadata": {
    "colab_type": "text",
    "id": "EW1IbWlkRvQv"
   },
   "source": [
    "# References\n",
    "[Nervanasystem github's\n",
    "](https://nervanasystems.github.io/distiller/knowledge_distillation.html)\n",
    "\n",
    "[Hinton et. al. - \n",
    "Distilling the Knowledge in a Neural Network](https://arxiv.org/abs/1503.02531)\n",
    "\n",
    "[Seyed-Iman Mirzadeh et. al. - Improved Knowledge Distillation via Teacher Assistant:Bridging the Gap Between Student and Teacher](https://arxiv.org/abs/1902.03393)"
   ]
  },
  {
   "cell_type": "code",
   "execution_count": 0,
   "metadata": {
    "colab": {},
    "colab_type": "code",
    "id": "uDQb_wAfRwat"
   },
   "outputs": [],
   "source": []
  }
 ],
 "metadata": {
  "accelerator": "GPU",
  "colab": {
   "collapsed_sections": [],
   "include_colab_link": true,
   "name": "Knowledge-Distillation-Notebook",
   "provenance": [],
   "version": "0.3.2"
  },
  "kernelspec": {
   "display_name": "Python [conda env:py37] *",
   "language": "python",
   "name": "conda-env-py37-py"
  },
  "language_info": {
   "codemirror_mode": {
    "name": "ipython",
    "version": 3
   },
   "file_extension": ".py",
   "mimetype": "text/x-python",
   "name": "python",
   "nbconvert_exporter": "python",
   "pygments_lexer": "ipython3",
   "version": "3.6.9"
  }
 },
 "nbformat": 4,
 "nbformat_minor": 1
}
