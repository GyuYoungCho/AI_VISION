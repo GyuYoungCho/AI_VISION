{
 "cells": [
  {
   "cell_type": "markdown",
   "metadata": {},
   "source": [
    "## LSTM\n",
    "- layer 4개\n",
    "\n",
    "</br>\n",
    "An Empirical exploration of recurrent\n",
    "- RNN 구조 탐험\n",
    "\n",
    "lstm odysey\n",
    "\n",
    "\n",
    "## LRCN\n",
    "- 이미지 순차적인 내용 분석 (video)\n",
    "- 여기서 many to many\n",
    "    - timed distribute 2번 써야된다.\n",
    "    \n",
    "Long-term Recurrent Convolutional Networks for Visual Recognition and Description\n",
    "\n",
    "- frame 별로 나누어 CNN feature map을 LSTM에 입력\n",
    "\n",
    "1. video input 구성\n",
    "    - input shape : 4 dim( Seq , h ,w ,c)\n",
    "    - many-to-many : TimeDistributed , return_squences=True\n",
    "    - output shape :5 dim( batch, Seq h ,w ,c)\n",
    "    \n",
    "2. ConvNet : InceptionV3 Transfer Learning\n",
    "    - option1. tf.keras.applications\n",
    "    - option2. tensorflow_hub A. feature extraction/headless model/ feature vector B. Fine-tuning\n"
   ]
  },
  {
   "cell_type": "code",
   "execution_count": 1,
   "metadata": {
    "scrolled": true
   },
   "outputs": [
    {
     "name": "stderr",
     "output_type": "stream",
     "text": [
      "C:\\Users\\Gyu\\Anaconda3\\envs\\py37\\lib\\site-packages\\numpy\\_distributor_init.py:32: UserWarning: loaded more than 1 DLL from .libs:\n",
      "C:\\Users\\Gyu\\Anaconda3\\envs\\py37\\lib\\site-packages\\numpy\\.libs\\libopenblas.PYQHXLVVQ7VESDPUVUADXEVJOBGHJPAY.gfortran-win_amd64.dll\n",
      "C:\\Users\\Gyu\\Anaconda3\\envs\\py37\\lib\\site-packages\\numpy\\.libs\\libopenblas.TXA6YQSD3GCQQC22GEQ54J2UDCXDXHWN.gfortran-win_amd64.dll\n",
      "  stacklevel=1)\n"
     ]
    }
   ],
   "source": [
    "import tensorflow as tf"
   ]
  },
  {
   "cell_type": "code",
   "execution_count": 13,
   "metadata": {},
   "outputs": [],
   "source": [
    "inputs = tf.keras.Input((None,224,224,3))\n",
    "cnn = tf.keras.applications.inception_v3.InceptionV3(include_top=False\n",
    "                                                    , pooling='avg')"
   ]
  },
  {
   "cell_type": "code",
   "execution_count": 14,
   "metadata": {},
   "outputs": [
    {
     "name": "stdout",
     "output_type": "stream",
     "text": [
      "('Failed to import pydot. You must `pip install pydot` and install graphviz (https://graphviz.gitlab.io/download/), ', 'for `pydotprint` to work.')\n"
     ]
    }
   ],
   "source": [
    "tf.keras.utils.plot_model(cnn)"
   ]
  },
  {
   "cell_type": "markdown",
   "metadata": {},
   "source": [
    "### Lambda layer \n",
    "- functional paradigm을 이용해 layer에서 변경\n",
    "\n",
    "https://www.tensorflow.org/api_docs/python/tf/keras/layers/Lambda\n",
    "\n",
    "- multi input, multi output\n",
    "- layer에서 각각 적용, 모델에서는 한 번에 하기 위해 lambda사용"
   ]
  },
  {
   "cell_type": "code",
   "execution_count": 15,
   "metadata": {},
   "outputs": [
    {
     "name": "stderr",
     "output_type": "stream",
     "text": [
      "W1016 20:30:49.140893 13488 core.py:952] \n",
      "The following Variables were used a Lambda layer's call (lambda_4), but\n",
      "are not present in its tracked objects:\n",
      "  <tf.Variable 'conv2d_188/kernel:0' shape=(3, 3, 3, 32) dtype=float32>\n",
      "  <tf.Variable 'batch_normalization_188/beta:0' shape=(32,) dtype=float32>\n",
      "  <tf.Variable 'conv2d_189/kernel:0' shape=(3, 3, 32, 32) dtype=float32>\n",
      "  <tf.Variable 'batch_normalization_189/beta:0' shape=(32,) dtype=float32>\n",
      "  <tf.Variable 'conv2d_190/kernel:0' shape=(3, 3, 32, 64) dtype=float32>\n",
      "  <tf.Variable 'batch_normalization_190/beta:0' shape=(64,) dtype=float32>\n",
      "  <tf.Variable 'conv2d_191/kernel:0' shape=(1, 1, 64, 80) dtype=float32>\n",
      "  <tf.Variable 'batch_normalization_191/beta:0' shape=(80,) dtype=float32>\n",
      "  <tf.Variable 'conv2d_192/kernel:0' shape=(3, 3, 80, 192) dtype=float32>\n",
      "  <tf.Variable 'batch_normalization_192/beta:0' shape=(192,) dtype=float32>\n",
      "  <tf.Variable 'conv2d_193/kernel:0' shape=(1, 1, 192, 64) dtype=float32>\n",
      "  <tf.Variable 'batch_normalization_193/beta:0' shape=(64,) dtype=float32>\n",
      "  <tf.Variable 'conv2d_194/kernel:0' shape=(1, 1, 192, 48) dtype=float32>\n",
      "  <tf.Variable 'batch_normalization_194/beta:0' shape=(48,) dtype=float32>\n",
      "  <tf.Variable 'conv2d_195/kernel:0' shape=(5, 5, 48, 64) dtype=float32>\n",
      "  <tf.Variable 'batch_normalization_195/beta:0' shape=(64,) dtype=float32>\n",
      "  <tf.Variable 'conv2d_196/kernel:0' shape=(1, 1, 192, 64) dtype=float32>\n",
      "  <tf.Variable 'batch_normalization_196/beta:0' shape=(64,) dtype=float32>\n",
      "  <tf.Variable 'conv2d_197/kernel:0' shape=(3, 3, 64, 96) dtype=float32>\n",
      "  <tf.Variable 'batch_normalization_197/beta:0' shape=(96,) dtype=float32>\n",
      "  <tf.Variable 'conv2d_198/kernel:0' shape=(3, 3, 96, 96) dtype=float32>\n",
      "  <tf.Variable 'batch_normalization_198/beta:0' shape=(96,) dtype=float32>\n",
      "  <tf.Variable 'conv2d_199/kernel:0' shape=(1, 1, 192, 32) dtype=float32>\n",
      "  <tf.Variable 'batch_normalization_199/beta:0' shape=(32,) dtype=float32>\n",
      "  <tf.Variable 'conv2d_200/kernel:0' shape=(1, 1, 256, 64) dtype=float32>\n",
      "  <tf.Variable 'batch_normalization_200/beta:0' shape=(64,) dtype=float32>\n",
      "  <tf.Variable 'conv2d_201/kernel:0' shape=(1, 1, 256, 48) dtype=float32>\n",
      "  <tf.Variable 'batch_normalization_201/beta:0' shape=(48,) dtype=float32>\n",
      "  <tf.Variable 'conv2d_202/kernel:0' shape=(5, 5, 48, 64) dtype=float32>\n",
      "  <tf.Variable 'batch_normalization_202/beta:0' shape=(64,) dtype=float32>\n",
      "  <tf.Variable 'conv2d_203/kernel:0' shape=(1, 1, 256, 64) dtype=float32>\n",
      "  <tf.Variable 'batch_normalization_203/beta:0' shape=(64,) dtype=float32>\n",
      "  <tf.Variable 'conv2d_204/kernel:0' shape=(3, 3, 64, 96) dtype=float32>\n",
      "  <tf.Variable 'batch_normalization_204/beta:0' shape=(96,) dtype=float32>\n",
      "  <tf.Variable 'conv2d_205/kernel:0' shape=(3, 3, 96, 96) dtype=float32>\n",
      "  <tf.Variable 'batch_normalization_205/beta:0' shape=(96,) dtype=float32>\n",
      "  <tf.Variable 'conv2d_206/kernel:0' shape=(1, 1, 256, 64) dtype=float32>\n",
      "  <tf.Variable 'batch_normalization_206/beta:0' shape=(64,) dtype=float32>\n",
      "  <tf.Variable 'conv2d_207/kernel:0' shape=(1, 1, 288, 64) dtype=float32>\n",
      "  <tf.Variable 'batch_normalization_207/beta:0' shape=(64,) dtype=float32>\n",
      "  <tf.Variable 'conv2d_208/kernel:0' shape=(1, 1, 288, 48) dtype=float32>\n",
      "  <tf.Variable 'batch_normalization_208/beta:0' shape=(48,) dtype=float32>\n",
      "  <tf.Variable 'conv2d_209/kernel:0' shape=(5, 5, 48, 64) dtype=float32>\n",
      "  <tf.Variable 'batch_normalization_209/beta:0' shape=(64,) dtype=float32>\n",
      "  <tf.Variable 'conv2d_210/kernel:0' shape=(1, 1, 288, 64) dtype=float32>\n",
      "  <tf.Variable 'batch_normalization_210/beta:0' shape=(64,) dtype=float32>\n",
      "  <tf.Variable 'conv2d_211/kernel:0' shape=(3, 3, 64, 96) dtype=float32>\n",
      "  <tf.Variable 'batch_normalization_211/beta:0' shape=(96,) dtype=float32>\n",
      "  <tf.Variable 'conv2d_212/kernel:0' shape=(3, 3, 96, 96) dtype=float32>\n",
      "  <tf.Variable 'batch_normalization_212/beta:0' shape=(96,) dtype=float32>\n",
      "  <tf.Variable 'conv2d_213/kernel:0' shape=(1, 1, 288, 64) dtype=float32>\n",
      "  <tf.Variable 'batch_normalization_213/beta:0' shape=(64,) dtype=float32>\n",
      "  <tf.Variable 'conv2d_214/kernel:0' shape=(3, 3, 288, 384) dtype=float32>\n",
      "  <tf.Variable 'batch_normalization_214/beta:0' shape=(384,) dtype=float32>\n",
      "  <tf.Variable 'conv2d_215/kernel:0' shape=(1, 1, 288, 64) dtype=float32>\n",
      "  <tf.Variable 'batch_normalization_215/beta:0' shape=(64,) dtype=float32>\n",
      "  <tf.Variable 'conv2d_216/kernel:0' shape=(3, 3, 64, 96) dtype=float32>\n",
      "  <tf.Variable 'batch_normalization_216/beta:0' shape=(96,) dtype=float32>\n",
      "  <tf.Variable 'conv2d_217/kernel:0' shape=(3, 3, 96, 96) dtype=float32>\n",
      "  <tf.Variable 'batch_normalization_217/beta:0' shape=(96,) dtype=float32>\n",
      "  <tf.Variable 'conv2d_218/kernel:0' shape=(1, 1, 768, 192) dtype=float32>\n",
      "  <tf.Variable 'batch_normalization_218/beta:0' shape=(192,) dtype=float32>\n",
      "  <tf.Variable 'conv2d_219/kernel:0' shape=(1, 1, 768, 128) dtype=float32>\n",
      "  <tf.Variable 'batch_normalization_219/beta:0' shape=(128,) dtype=float32>\n",
      "  <tf.Variable 'conv2d_220/kernel:0' shape=(1, 7, 128, 128) dtype=float32>\n",
      "  <tf.Variable 'batch_normalization_220/beta:0' shape=(128,) dtype=float32>\n",
      "  <tf.Variable 'conv2d_221/kernel:0' shape=(7, 1, 128, 192) dtype=float32>\n",
      "  <tf.Variable 'batch_normalization_221/beta:0' shape=(192,) dtype=float32>\n",
      "  <tf.Variable 'conv2d_222/kernel:0' shape=(1, 1, 768, 128) dtype=float32>\n",
      "  <tf.Variable 'batch_normalization_222/beta:0' shape=(128,) dtype=float32>\n",
      "  <tf.Variable 'conv2d_223/kernel:0' shape=(7, 1, 128, 128) dtype=float32>\n",
      "  <tf.Variable 'batch_normalization_223/beta:0' shape=(128,) dtype=float32>\n",
      "  <tf.Variable 'conv2d_224/kernel:0' shape=(1, 7, 128, 128) dtype=float32>\n",
      "  <tf.Variable 'batch_normalization_224/beta:0' shape=(128,) dtype=float32>\n",
      "  <tf.Variable 'conv2d_225/kernel:0' shape=(7, 1, 128, 128) dtype=float32>\n",
      "  <tf.Variable 'batch_normalization_225/beta:0' shape=(128,) dtype=float32>\n",
      "  <tf.Variable 'conv2d_226/kernel:0' shape=(1, 7, 128, 192) dtype=float32>\n",
      "  <tf.Variable 'batch_normalization_226/beta:0' shape=(192,) dtype=float32>\n",
      "  <tf.Variable 'conv2d_227/kernel:0' shape=(1, 1, 768, 192) dtype=float32>\n",
      "  <tf.Variable 'batch_normalization_227/beta:0' shape=(192,) dtype=float32>\n",
      "  <tf.Variable 'conv2d_228/kernel:0' shape=(1, 1, 768, 192) dtype=float32>\n",
      "  <tf.Variable 'batch_normalization_228/beta:0' shape=(192,) dtype=float32>\n",
      "  <tf.Variable 'conv2d_229/kernel:0' shape=(1, 1, 768, 160) dtype=float32>\n",
      "  <tf.Variable 'batch_normalization_229/beta:0' shape=(160,) dtype=float32>\n",
      "  <tf.Variable 'conv2d_230/kernel:0' shape=(1, 7, 160, 160) dtype=float32>\n",
      "  <tf.Variable 'batch_normalization_230/beta:0' shape=(160,) dtype=float32>\n",
      "  <tf.Variable 'conv2d_231/kernel:0' shape=(7, 1, 160, 192) dtype=float32>\n",
      "  <tf.Variable 'batch_normalization_231/beta:0' shape=(192,) dtype=float32>\n",
      "  <tf.Variable 'conv2d_232/kernel:0' shape=(1, 1, 768, 160) dtype=float32>\n",
      "  <tf.Variable 'batch_normalization_232/beta:0' shape=(160,) dtype=float32>\n",
      "  <tf.Variable 'conv2d_233/kernel:0' shape=(7, 1, 160, 160) dtype=float32>\n",
      "  <tf.Variable 'batch_normalization_233/beta:0' shape=(160,) dtype=float32>\n",
      "  <tf.Variable 'conv2d_234/kernel:0' shape=(1, 7, 160, 160) dtype=float32>\n",
      "  <tf.Variable 'batch_normalization_234/beta:0' shape=(160,) dtype=float32>\n",
      "  <tf.Variable 'conv2d_235/kernel:0' shape=(7, 1, 160, 160) dtype=float32>\n",
      "  <tf.Variable 'batch_normalization_235/beta:0' shape=(160,) dtype=float32>\n",
      "  <tf.Variable 'conv2d_236/kernel:0' shape=(1, 7, 160, 192) dtype=float32>\n",
      "  <tf.Variable 'batch_normalization_236/beta:0' shape=(192,) dtype=float32>\n",
      "  <tf.Variable 'conv2d_237/kernel:0' shape=(1, 1, 768, 192) dtype=float32>\n",
      "  <tf.Variable 'batch_normalization_237/beta:0' shape=(192,) dtype=float32>\n",
      "  <tf.Variable 'conv2d_238/kernel:0' shape=(1, 1, 768, 192) dtype=float32>\n",
      "  <tf.Variable 'batch_normalization_238/beta:0' shape=(192,) dtype=float32>\n",
      "  <tf.Variable 'conv2d_239/kernel:0' shape=(1, 1, 768, 160) dtype=float32>\n",
      "  <tf.Variable 'batch_normalization_239/beta:0' shape=(160,) dtype=float32>\n",
      "  <tf.Variable 'conv2d_240/kernel:0' shape=(1, 7, 160, 160) dtype=float32>\n",
      "  <tf.Variable 'batch_normalization_240/beta:0' shape=(160,) dtype=float32>\n",
      "  <tf.Variable 'conv2d_241/kernel:0' shape=(7, 1, 160, 192) dtype=float32>\n",
      "  <tf.Variable 'batch_normalization_241/beta:0' shape=(192,) dtype=float32>\n",
      "  <tf.Variable 'conv2d_242/kernel:0' shape=(1, 1, 768, 160) dtype=float32>\n",
      "  <tf.Variable 'batch_normalization_242/beta:0' shape=(160,) dtype=float32>\n",
      "  <tf.Variable 'conv2d_243/kernel:0' shape=(7, 1, 160, 160) dtype=float32>\n",
      "  <tf.Variable 'batch_normalization_243/beta:0' shape=(160,) dtype=float32>\n",
      "  <tf.Variable 'conv2d_244/kernel:0' shape=(1, 7, 160, 160) dtype=float32>\n",
      "  <tf.Variable 'batch_normalization_244/beta:0' shape=(160,) dtype=float32>\n",
      "  <tf.Variable 'conv2d_245/kernel:0' shape=(7, 1, 160, 160) dtype=float32>\n",
      "  <tf.Variable 'batch_normalization_245/beta:0' shape=(160,) dtype=float32>\n",
      "  <tf.Variable 'conv2d_246/kernel:0' shape=(1, 7, 160, 192) dtype=float32>\n",
      "  <tf.Variable 'batch_normalization_246/beta:0' shape=(192,) dtype=float32>\n",
      "  <tf.Variable 'conv2d_247/kernel:0' shape=(1, 1, 768, 192) dtype=float32>\n",
      "  <tf.Variable 'batch_normalization_247/beta:0' shape=(192,) dtype=float32>\n",
      "  <tf.Variable 'conv2d_248/kernel:0' shape=(1, 1, 768, 192) dtype=float32>\n",
      "  <tf.Variable 'batch_normalization_248/beta:0' shape=(192,) dtype=float32>\n",
      "  <tf.Variable 'conv2d_249/kernel:0' shape=(1, 1, 768, 192) dtype=float32>\n",
      "  <tf.Variable 'batch_normalization_249/beta:0' shape=(192,) dtype=float32>\n",
      "  <tf.Variable 'conv2d_250/kernel:0' shape=(1, 7, 192, 192) dtype=float32>\n",
      "  <tf.Variable 'batch_normalization_250/beta:0' shape=(192,) dtype=float32>\n",
      "  <tf.Variable 'conv2d_251/kernel:0' shape=(7, 1, 192, 192) dtype=float32>\n",
      "  <tf.Variable 'batch_normalization_251/beta:0' shape=(192,) dtype=float32>\n",
      "  <tf.Variable 'conv2d_252/kernel:0' shape=(1, 1, 768, 192) dtype=float32>\n",
      "  <tf.Variable 'batch_normalization_252/beta:0' shape=(192,) dtype=float32>\n",
      "  <tf.Variable 'conv2d_253/kernel:0' shape=(7, 1, 192, 192) dtype=float32>\n",
      "  <tf.Variable 'batch_normalization_253/beta:0' shape=(192,) dtype=float32>\n",
      "  <tf.Variable 'conv2d_254/kernel:0' shape=(1, 7, 192, 192) dtype=float32>\n",
      "  <tf.Variable 'batch_normalization_254/beta:0' shape=(192,) dtype=float32>\n",
      "  <tf.Variable 'conv2d_255/kernel:0' shape=(7, 1, 192, 192) dtype=float32>\n",
      "  <tf.Variable 'batch_normalization_255/beta:0' shape=(192,) dtype=float32>\n",
      "  <tf.Variable 'conv2d_256/kernel:0' shape=(1, 7, 192, 192) dtype=float32>\n",
      "  <tf.Variable 'batch_normalization_256/beta:0' shape=(192,) dtype=float32>\n",
      "  <tf.Variable 'conv2d_257/kernel:0' shape=(1, 1, 768, 192) dtype=float32>\n",
      "  <tf.Variable 'batch_normalization_257/beta:0' shape=(192,) dtype=float32>\n",
      "  <tf.Variable 'conv2d_258/kernel:0' shape=(1, 1, 768, 192) dtype=float32>\n",
      "  <tf.Variable 'batch_normalization_258/beta:0' shape=(192,) dtype=float32>\n",
      "  <tf.Variable 'conv2d_259/kernel:0' shape=(3, 3, 192, 320) dtype=float32>\n",
      "  <tf.Variable 'batch_normalization_259/beta:0' shape=(320,) dtype=float32>\n",
      "  <tf.Variable 'conv2d_260/kernel:0' shape=(1, 1, 768, 192) dtype=float32>\n",
      "  <tf.Variable 'batch_normalization_260/beta:0' shape=(192,) dtype=float32>\n",
      "  <tf.Variable 'conv2d_261/kernel:0' shape=(1, 7, 192, 192) dtype=float32>\n",
      "  <tf.Variable 'batch_normalization_261/beta:0' shape=(192,) dtype=float32>\n",
      "  <tf.Variable 'conv2d_262/kernel:0' shape=(7, 1, 192, 192) dtype=float32>\n",
      "  <tf.Variable 'batch_normalization_262/beta:0' shape=(192,) dtype=float32>\n",
      "  <tf.Variable 'conv2d_263/kernel:0' shape=(3, 3, 192, 192) dtype=float32>\n",
      "  <tf.Variable 'batch_normalization_263/beta:0' shape=(192,) dtype=float32>\n",
      "  <tf.Variable 'conv2d_264/kernel:0' shape=(1, 1, 1280, 320) dtype=float32>\n",
      "  <tf.Variable 'batch_normalization_264/beta:0' shape=(320,) dtype=float32>\n",
      "  <tf.Variable 'conv2d_265/kernel:0' shape=(1, 1, 1280, 384) dtype=float32>\n",
      "  <tf.Variable 'batch_normalization_265/beta:0' shape=(384,) dtype=float32>\n",
      "  <tf.Variable 'conv2d_266/kernel:0' shape=(1, 3, 384, 384) dtype=float32>\n",
      "  <tf.Variable 'batch_normalization_266/beta:0' shape=(384,) dtype=float32>\n",
      "  <tf.Variable 'conv2d_267/kernel:0' shape=(3, 1, 384, 384) dtype=float32>\n",
      "  <tf.Variable 'batch_normalization_267/beta:0' shape=(384,) dtype=float32>\n",
      "  <tf.Variable 'conv2d_268/kernel:0' shape=(1, 1, 1280, 448) dtype=float32>\n",
      "  <tf.Variable 'batch_normalization_268/beta:0' shape=(448,) dtype=float32>\n",
      "  <tf.Variable 'conv2d_269/kernel:0' shape=(3, 3, 448, 384) dtype=float32>\n",
      "  <tf.Variable 'batch_normalization_269/beta:0' shape=(384,) dtype=float32>\n",
      "  <tf.Variable 'conv2d_270/kernel:0' shape=(1, 3, 384, 384) dtype=float32>\n",
      "  <tf.Variable 'batch_normalization_270/beta:0' shape=(384,) dtype=float32>\n",
      "  <tf.Variable 'conv2d_271/kernel:0' shape=(3, 1, 384, 384) dtype=float32>\n",
      "  <tf.Variable 'batch_normalization_271/beta:0' shape=(384,) dtype=float32>\n",
      "  <tf.Variable 'conv2d_272/kernel:0' shape=(1, 1, 1280, 192) dtype=float32>\n",
      "  <tf.Variable 'batch_normalization_272/beta:0' shape=(192,) dtype=float32>\n",
      "  <tf.Variable 'conv2d_273/kernel:0' shape=(1, 1, 2048, 320) dtype=float32>\n",
      "  <tf.Variable 'batch_normalization_273/beta:0' shape=(320,) dtype=float32>\n",
      "  <tf.Variable 'conv2d_274/kernel:0' shape=(1, 1, 2048, 384) dtype=float32>\n",
      "  <tf.Variable 'batch_normalization_274/beta:0' shape=(384,) dtype=float32>\n",
      "  <tf.Variable 'conv2d_275/kernel:0' shape=(1, 3, 384, 384) dtype=float32>\n",
      "  <tf.Variable 'batch_normalization_275/beta:0' shape=(384,) dtype=float32>\n",
      "  <tf.Variable 'conv2d_276/kernel:0' shape=(3, 1, 384, 384) dtype=float32>\n",
      "  <tf.Variable 'batch_normalization_276/beta:0' shape=(384,) dtype=float32>\n",
      "  <tf.Variable 'conv2d_277/kernel:0' shape=(1, 1, 2048, 448) dtype=float32>\n",
      "  <tf.Variable 'batch_normalization_277/beta:0' shape=(448,) dtype=float32>\n",
      "  <tf.Variable 'conv2d_278/kernel:0' shape=(3, 3, 448, 384) dtype=float32>\n",
      "  <tf.Variable 'batch_normalization_278/beta:0' shape=(384,) dtype=float32>\n",
      "  <tf.Variable 'conv2d_279/kernel:0' shape=(1, 3, 384, 384) dtype=float32>\n",
      "  <tf.Variable 'batch_normalization_279/beta:0' shape=(384,) dtype=float32>\n",
      "  <tf.Variable 'conv2d_280/kernel:0' shape=(3, 1, 384, 384) dtype=float32>\n",
      "  <tf.Variable 'batch_normalization_280/beta:0' shape=(384,) dtype=float32>\n",
      "  <tf.Variable 'conv2d_281/kernel:0' shape=(1, 1, 2048, 192) dtype=float32>\n",
      "  <tf.Variable 'batch_normalization_281/beta:0' shape=(192,) dtype=float32>\n",
      "It is possible that this is intended behavior, but it is more likely\n",
      "an omission. This is a strong indication that this layer should be\n",
      "formulated as a subclassed Layer rather than a Lambda layer.\n"
     ]
    }
   ],
   "source": [
    "cnn_values = tf.keras.layers.TimeDistributed(tf.keras.layers.Lambda(lambda x:cnn(x)))(inputs)\n",
    "lstm = tf.keras.layers.LSTM(256)(cnn_values)\n",
    "outputs = tf.keras.layers.Dense(5)(lstm)"
   ]
  },
  {
   "cell_type": "code",
   "execution_count": 16,
   "metadata": {},
   "outputs": [],
   "source": [
    "model = tf.keras.models.Model(inputs, outputs)\n",
    "model.compile(loss='categorical_crossentropy', optimizer='adam')"
   ]
  },
  {
   "cell_type": "code",
   "execution_count": 17,
   "metadata": {},
   "outputs": [
    {
     "name": "stdout",
     "output_type": "stream",
     "text": [
      "Model: \"functional_1\"\n",
      "_________________________________________________________________\n",
      "Layer (type)                 Output Shape              Param #   \n",
      "=================================================================\n",
      "input_5 (InputLayer)         [(None, None, 224, 224, 3 0         \n",
      "_________________________________________________________________\n",
      "time_distributed_4 (TimeDist (None, None, 2048)        0         \n",
      "_________________________________________________________________\n",
      "lstm_2 (LSTM)                (None, 256)               2360320   \n",
      "_________________________________________________________________\n",
      "dense (Dense)                (None, 5)                 1285      \n",
      "=================================================================\n",
      "Total params: 2,361,605\n",
      "Trainable params: 2,361,605\n",
      "Non-trainable params: 0\n",
      "_________________________________________________________________\n"
     ]
    }
   ],
   "source": [
    "model.summary()"
   ]
  },
  {
   "cell_type": "code",
   "execution_count": 19,
   "metadata": {},
   "outputs": [],
   "source": [
    "import numpy as np\n",
    "y = np.random.random(5)\n",
    "# y.reshape()"
   ]
  },
  {
   "cell_type": "code",
   "execution_count": 20,
   "metadata": {},
   "outputs": [],
   "source": [
    "x = np.random.random((1,20,224,224,3))"
   ]
  },
  {
   "cell_type": "code",
   "execution_count": 23,
   "metadata": {},
   "outputs": [
    {
     "name": "stdout",
     "output_type": "stream",
     "text": [
      "1/1 [==============================] - 0s 7ms/step - loss: 3.6451\n"
     ]
    },
    {
     "data": {
      "text/plain": [
       "<tensorflow.python.keras.callbacks.History at 0x1f663335da0>"
      ]
     },
     "execution_count": 23,
     "metadata": {},
     "output_type": "execute_result"
    }
   ],
   "source": [
    "model.fit(x,y.reshape(1,5),epochs=1)"
   ]
  },
  {
   "cell_type": "markdown",
   "metadata": {},
   "source": [
    "CONVOLUTIONAL, LONG SHORT-TERM MEMORY, FULLY CONNECTED DEEP NEURAL NETWORKS(2016)\n",
    "\n",
    "---\n",
    "## CRNN\n",
    "- input 이미지 -> time distributed 불필요\n",
    "- lstm 과 모양 맞추기 -> flatten, gap, reshape\n",
    "\n",
    "ReNet: A Recurrent Neural Network Based Alternative to Convolutional Networks\n",
    "     - CNN대신 RNN -> 성능 좋진 않고 가능성만\n",
    "\n",
    "An End-to-End Trainable Neural Network for Image-based Sequence Recognition and Its Application to Scene Text Recognition\n",
    "\n",
    "#### peephole\n",
    "- 각 gate layer에 엿보기 구멍 추가해서 cell state 확인할수 있도록 함\n",
    "\n",
    "### GRU\n",
    "- forget gate, input gate를 하나로 합쳐서 update gate만듬\n",
    "- cell state와 hidden 합침\n",
    "- LSTM 간단하게\n",
    "\n",
    "http://colah.github.io/posts/2015-08-Understanding-LSTMs/\n",
    "\n",
    "---\n",
    "\n",
    "## ConvLSTM\n",
    "- LSTM자체에서 Convolution을 집어넣음.\n",
    "\n",
    "example : https://keras.io/examples/vision/conv_lstm/\n",
    "\n",
    "Convolutional LSTM Network: A Machine Learning Approach for Precipitation Nowcasting"
   ]
  },
  {
   "cell_type": "code",
   "execution_count": 24,
   "metadata": {},
   "outputs": [],
   "source": [
    "from tensorflow import keras\n",
    "from tensorflow.keras import layers\n",
    "import numpy as np\n",
    "import pylab as plt"
   ]
  },
  {
   "cell_type": "code",
   "execution_count": 25,
   "metadata": {},
   "outputs": [],
   "source": [
    "seq = tf.keras.Sequential(\n",
    "    [\n",
    "        keras.Input(\n",
    "            shape=(None, 40, 40, 1)\n",
    "        ),  # Variable-length sequence of 40x40x1 frames\n",
    "        layers.ConvLSTM2D(\n",
    "            filters=40, kernel_size=(3, 3), padding=\"same\", return_sequences=True\n",
    "        ),\n",
    "        layers.BatchNormalization(),\n",
    "        layers.ConvLSTM2D(\n",
    "            filters=40, kernel_size=(3, 3), padding=\"same\", return_sequences=True\n",
    "        ),\n",
    "        layers.BatchNormalization(),\n",
    "        layers.ConvLSTM2D(\n",
    "            filters=40, kernel_size=(3, 3), padding=\"same\", return_sequences=True\n",
    "        ),\n",
    "        layers.BatchNormalization(),\n",
    "        layers.ConvLSTM2D(\n",
    "            filters=40, kernel_size=(3, 3), padding=\"same\", return_sequences=True\n",
    "        ),\n",
    "        layers.BatchNormalization(),\n",
    "        layers.Conv3D(\n",
    "            filters=1, kernel_size=(3, 3, 3), activation=\"sigmoid\", padding=\"same\"\n",
    "        ),\n",
    "    ]\n",
    ")"
   ]
  },
  {
   "cell_type": "code",
   "execution_count": 26,
   "metadata": {},
   "outputs": [
    {
     "name": "stdout",
     "output_type": "stream",
     "text": [
      "Model: \"sequential\"\n",
      "_________________________________________________________________\n",
      "Layer (type)                 Output Shape              Param #   \n",
      "=================================================================\n",
      "conv_lst_m2d (ConvLSTM2D)    (None, None, 40, 40, 40)  59200     \n",
      "_________________________________________________________________\n",
      "batch_normalization_282 (Bat (None, None, 40, 40, 40)  160       \n",
      "_________________________________________________________________\n",
      "conv_lst_m2d_1 (ConvLSTM2D)  (None, None, 40, 40, 40)  115360    \n",
      "_________________________________________________________________\n",
      "batch_normalization_283 (Bat (None, None, 40, 40, 40)  160       \n",
      "_________________________________________________________________\n",
      "conv_lst_m2d_2 (ConvLSTM2D)  (None, None, 40, 40, 40)  115360    \n",
      "_________________________________________________________________\n",
      "batch_normalization_284 (Bat (None, None, 40, 40, 40)  160       \n",
      "_________________________________________________________________\n",
      "conv_lst_m2d_3 (ConvLSTM2D)  (None, None, 40, 40, 40)  115360    \n",
      "_________________________________________________________________\n",
      "batch_normalization_285 (Bat (None, None, 40, 40, 40)  160       \n",
      "_________________________________________________________________\n",
      "conv3d (Conv3D)              (None, None, 40, 40, 1)   1081      \n",
      "=================================================================\n",
      "Total params: 407,001\n",
      "Trainable params: 406,681\n",
      "Non-trainable params: 320\n",
      "_________________________________________________________________\n"
     ]
    }
   ],
   "source": [
    "seq.summary()"
   ]
  },
  {
   "cell_type": "markdown",
   "metadata": {},
   "source": [
    "action recognition.ipynb -> 동영상 행동 예측"
   ]
  }
 ],
 "metadata": {
  "kernelspec": {
   "display_name": "Python [conda env:py37] *",
   "language": "python",
   "name": "conda-env-py37-py"
  },
  "language_info": {
   "codemirror_mode": {
    "name": "ipython",
    "version": 3
   },
   "file_extension": ".py",
   "mimetype": "text/x-python",
   "name": "python",
   "nbconvert_exporter": "python",
   "pygments_lexer": "ipython3",
   "version": "3.6.9"
  }
 },
 "nbformat": 4,
 "nbformat_minor": 2
}
