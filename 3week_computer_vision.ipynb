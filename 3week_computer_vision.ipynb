{
 "cells": [
  {
   "cell_type": "markdown",
   "metadata": {},
   "source": [
    "# Computer vision\n",
    "\n",
    "### Input data -> pre-processing -> feature extraction -> Classifier\n",
    "\n",
    "</br>\n",
    "\n",
    "## Image = function ? \n",
    "\n",
    "- image는 좌표값(xy)이 parameter인 function이다.\n",
    "- x,y에 따라 값을 가짐 f(x,y) = 255\n",
    "- 단순한 matrix연산으로 표현됨\n",
    "- 사람은 알지만 컴퓨터는 모른다. -> 의미를 알려줘야 됨.\n",
    "    - f(x,y) = [11,23,55] - 어떤게 R? 인지 모름\n",
    "    \n",
    "</br>\n",
    "\n",
    "## No free lunch(NFL)\n",
    "- machine learning의 중요한 원칙\n",
    "\n",
    "- model은 현실을 다 반영할 수 없다. \n",
    "    -> 현실의 축소판이라는 가정 -> bias가 따름.(특별한 경우만 됨)\n",
    "- loss function을 최소화하도록 parameter를 찾는 것 -> Optimizations\n",
    "\n",
    "**model selection 중요**\n",
    "\n",
    "\n",
    "**마스터 알고리즘**\n",
    "- NFL과 반대, 모든 상황에서 잘되는 것\n",
    "\n",
    "\n",
    "</br>\n",
    "\n",
    "## Image pre-processing\n",
    "\n",
    "- 필수 : image size\n",
    "- 성능 : augmentation, normalized, dimensionality reduction(칼라를 흑백으로 만드는 것도 포함)\n",
    "- augmentation은 성능이라기보다 과적합 방지\n",
    "\n",
    "</br>\n",
    "\n",
    "## Feature\n",
    "- global : 전체이미지, local : 특정 영역\n",
    "- **feature data** : 가공 데이터, 전처리 잘 된거면 성능 확보\n",
    "    - computation, 메모리 면에서 효율적  \n",
    "    - 데이터의 이해가 중요\n",
    "    - 현실에서는 noise많아서 가공한 게 좋긴 하지만 가공에서도 정보의 손실이 일어날 수 있음\n",
    "    \n",
    "- 데이터 적을 때 : transfer learning, one-shot learning, zero-shot learning\n",
    "\n",
    "### 좋은 feature?\n",
    "- 구분가능\n",
    "- 불변성\n",
    "- 간단한거 -> 오캄의 면도날\n",
    "- noise 있어도 구분 가능하도록\n",
    "\n",
    "## CNN\n",
    "- 학습을 통해서 특징 찾기\n",
    "\n",
    "**feature crosses(교차특성)**\n",
    "- 특징들이 곱해져서 새로운 특징으로 변함, 2개 이상써서 복잡하게 사용\n",
    "\n",
    "### convolution vs correlation\n",
    "**convolution**\n",
    "- flip해서 변화할 때 값 보전(선형결합 유지)\n",
    "- 선형결합하지 않으면 특성대로 안나오고 분할된다.\n",
    "- kernel 통해서 새롭게 표현된 특성이 생긴다\n",
    "\n",
    "**correlation**\n",
    "- 학습된 kernel(filter) 찾는게 목적임\n",
    "- 공간 변화, 이동 관점\n",
    "\n",
    "</br>\n",
    "\n",
    "- kernel을 잘 바꾸면 **서로의 특징들을 학습을 통해 찾음**\n",
    "- translational invariance : 변형의 불변\n",
    "- locality : filter 크기만큼의 이미지의 부분을 본다.\n",
    "\n",
    "\n",
    "## 왜 Deep learning이 선호?\n",
    "\n",
    "- 일반적으로 model이 deep하면 not-linear한 activation-layer로 인해 새로운 data space를 생성, 최종목적에 맞게 -> 깊을수록 성능이 좋다.\n",
    "- 머신러닝은 고원현상(데이터 많아도 일정 구간에서 성능이 좋아지지 않음)\n",
    "- data가 많아야 하는 것은 필수!, machine은 특정 수의 데이터가 있으면 성능이 크게 늘어나진 않음\n",
    "- **end to end model** : feature extract, classifier 한번에\n",
    "\n",
    "- Conv2D가 feature extraction이고 Dense가 추론과정"
   ]
  },
  {
   "cell_type": "code",
   "execution_count": 1,
   "metadata": {},
   "outputs": [],
   "source": [
    "import tensorflow as tf\n",
    "# tf.debugging.set_log_device_placement(True)"
   ]
  },
  {
   "cell_type": "code",
   "execution_count": 2,
   "metadata": {},
   "outputs": [
    {
     "data": {
      "text/plain": [
       "<tf.Tensor: shape=(3,), dtype=int32, numpy=array([2, 4, 6])>"
      ]
     },
     "execution_count": 2,
     "metadata": {},
     "output_type": "execute_result"
    }
   ],
   "source": [
    "a = tf.constant([1,2,3])\n",
    "a+a"
   ]
  },
  {
   "cell_type": "markdown",
   "metadata": {},
   "source": [
    "## 성능 안 좋을 때\n",
    "1. 더 많은 데이터 수집\n",
    "2. 모델 변경\n",
    "    - 머신러닝에서 더 좋은 것이 존재\n",
    "- 머신러닝을 사용하지 않는 방법 검토\n",
    "\n",
    "### application\n",
    "- classification\n",
    "    -  컨볼루션 신경망, 이미지 분류, 전이학습\n",
    "- generation\n",
    "    - style transfer, DCGAN, autoencoder, u-net, FCN\n",
    "- 이미지 캡션\n",
    "\n",
    "</br>\n",
    "\n",
    "## 딥러닝 model 만드는 5가지 \n",
    "\n",
    "**keras**\n",
    "    1. sequential\n",
    "    2. model\n",
    "    3. subclass model\n",
    "\n",
    "**tensorflow**\n",
    "    4. tensorflow\n",
    "    5. estimator(scikit-learn)"
   ]
  }
 ],
 "metadata": {
  "kernelspec": {
   "display_name": "Python [conda env:py37] *",
   "language": "python",
   "name": "conda-env-py37-py"
  },
  "language_info": {
   "codemirror_mode": {
    "name": "ipython",
    "version": 3
   },
   "file_extension": ".py",
   "mimetype": "text/x-python",
   "name": "python",
   "nbconvert_exporter": "python",
   "pygments_lexer": "ipython3",
   "version": "3.6.9"
  }
 },
 "nbformat": 4,
 "nbformat_minor": 2
}
