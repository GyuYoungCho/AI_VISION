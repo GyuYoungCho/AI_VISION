{
 "cells": [
  {
   "cell_type": "markdown",
   "metadata": {},
   "source": [
    "## GAN\n",
    "\n",
    "|Discriminant|Generative|\n",
    "|-|-|\n",
    "|linear|non-linear|\n",
    "|porbabilistic|stochastic|\n",
    "|parametric|non-parametric|\n",
    "|black box|whtie box|\n",
    "\n",
    "- feedback을 받아가면서 실제 물체와 비슷하게 만듬\n",
    "    - 실제 특성이 거절당할 때마다 배움\n",
    "- **적대적 관계에서 숨어 있는 분포를 찾아 이것을 기반으로 생성**\n",
    "    < - > autoencoder : 비교를 하면서\n",
    "    \n",
    "- 실제로 사람이 배우는 방식과 비슷\n",
    "\n",
    "**Network**\n",
    "- 순수한 머신러닝을 기법을 쓴다는 것을 암시 ( 옛날에 model이 아닌 network라 부름)\n",
    "\n",
    "</br>\n",
    "\n",
    "- 생성은 할 수 있지만 학습이 잘 안됨\n",
    "\n",
    "\n",
    "---\n",
    "\n",
    "## 학습 테크닉\n",
    "\n",
    "**overfitting**\n",
    "- 데이터 확보\n",
    "    - noisy 생성\n",
    "- 데이터 전처리\n",
    "- 모델 단순화\n",
    "    - feature 줄이기(filer, wrapper, embeded)\n",
    "    - 차원 축소(feature를 변형)\n",
    "- 앙상블\n",
    "    - dropout\n",
    "- regularizer : 모델 복잡하지 않게\n",
    "- early stopping\n",
    "\n",
    "\n",
    "**underfitting**\n",
    "- relu, leaky relu\n",
    "- normalization\n",
    "    - BN\n",
    "    - layer\n",
    "    - instance\n",
    "    - weight\n",
    "- initializer\n",
    "- optimizer\n",
    "- gradient clipping\n",
    "- learning rate decay\n",
    "\n",
    "\n",
    "DCGAN(Deep Convolution GAN)\n",
    "\n",
    "GAN은 간단한 예시 외에 fit을 쓰지 않음!\n",
    "\n",
    "https://www.tensorflow.org/tutorials/generative/dcgan\n",
    "\n",
    "미술관에 간 GAN 프로젝트\n",
    "\n",
    "http://introtodeeplearning.com/  : MIT 강의"
   ]
  },
  {
   "cell_type": "code",
   "execution_count": 1,
   "metadata": {},
   "outputs": [
    {
     "name": "stderr",
     "output_type": "stream",
     "text": [
      "C:\\Users\\Gyu\\Anaconda3\\envs\\py37\\lib\\site-packages\\numpy\\_distributor_init.py:32: UserWarning: loaded more than 1 DLL from .libs:\n",
      "C:\\Users\\Gyu\\Anaconda3\\envs\\py37\\lib\\site-packages\\numpy\\.libs\\libopenblas.PYQHXLVVQ7VESDPUVUADXEVJOBGHJPAY.gfortran-win_amd64.dll\n",
      "C:\\Users\\Gyu\\Anaconda3\\envs\\py37\\lib\\site-packages\\numpy\\.libs\\libopenblas.TXA6YQSD3GCQQC22GEQ54J2UDCXDXHWN.gfortran-win_amd64.dll\n",
      "  stacklevel=1)\n"
     ]
    }
   ],
   "source": [
    "import tensorflow as tf\n",
    "import matplotlib.pyplot as plt\n",
    "import numpy as np"
   ]
  },
  {
   "cell_type": "code",
   "execution_count": 2,
   "metadata": {},
   "outputs": [],
   "source": [
    "(x_train,y_train),(_,_) = tf.keras.datasets.fashion_mnist.load_data()"
   ]
  },
  {
   "cell_type": "code",
   "execution_count": 3,
   "metadata": {},
   "outputs": [],
   "source": [
    "x_train = x_train.reshape(-1, 28, 28, 1)\n",
    "x_train = (x_train - 127.5)/127.5\n",
    "# [-1, 1]로 정규화 -> 값이 양수, 음수 -> zero centered"
   ]
  },
  {
   "cell_type": "code",
   "execution_count": 4,
   "metadata": {},
   "outputs": [],
   "source": [
    "BATCH_SIZE = 256\n",
    "\n",
    "train = tf.data.Dataset.from_tensor_slices(x_train).shuffle(60000).batch(BATCH_SIZE)"
   ]
  },
  {
   "cell_type": "markdown",
   "metadata": {},
   "source": [
    "### Generative\n",
    "\n",
    "- 숨어 있는 분포 찾기\n",
    "- 분포를 받아서 Convolution해서 생성\n",
    "\n",
    "### Leaky relu\n",
    "- 음수에서 0에 가까운 기울기를 만들어 0값을 안 가지도록 하는 것\n",
    "\n",
    "### 학습전략\n",
    "- BN\n",
    "- Conv2DTranspose\n",
    "- fiter size : vgg 3,5\n",
    "- stride로 pooling 대신 씀\n",
    "- padding same"
   ]
  },
  {
   "cell_type": "code",
   "execution_count": 5,
   "metadata": {},
   "outputs": [],
   "source": [
    "NOISY_DIM = 100\n",
    "\n",
    "def make_generative_model():\n",
    "    generative_model = tf.keras.models.Sequential([\n",
    "        # bias 굳이 필요없음\n",
    "        tf.keras.layers.Dense(7*7*256, use_bias=False, input_shape=(NOISY_DIM ,)),\n",
    "        tf.keras.layers.BatchNormalization(),\n",
    "        tf.keras.layers.LeakyReLU(),\n",
    "\n",
    "        tf.keras.layers.Reshape((7, 7, 256)),\n",
    "        tf.keras.layers.Conv2DTranspose(128, (5, 5), strides=(1, 1), padding='same', use_bias=False),\n",
    "        tf.keras.layers.BatchNormalization(),\n",
    "        tf.keras.layers.LeakyReLU(),\n",
    "\n",
    "        tf.keras.layers.Conv2DTranspose(128, (5, 5), strides=2, padding='same', use_bias=False),\n",
    "        tf.keras.layers.BatchNormalization(),\n",
    "        tf.keras.layers.LeakyReLU(),\n",
    "\n",
    "        # 출력 하나로\n",
    "        tf.keras.layers.Conv2DTranspose(1, (5, 5), strides=2, padding='same', use_bias=False),\n",
    "        tf.keras.layers.BatchNormalization(),\n",
    "        tf.keras.layers.LeakyReLU(),\n",
    "    ])\n",
    "    return generative_model\n",
    "\n",
    "# 예시에서는 assert를 하기 위해 add하는 식으로 만듬"
   ]
  },
  {
   "cell_type": "code",
   "execution_count": 6,
   "metadata": {},
   "outputs": [
    {
     "data": {
      "text/plain": [
       "TensorShape([1, 28, 28, 1])"
      ]
     },
     "execution_count": 6,
     "metadata": {},
     "output_type": "execute_result"
    }
   ],
   "source": [
    "generative = make_generative_model()\n",
    "generative(tf.random.normal([1,100])).shape"
   ]
  },
  {
   "cell_type": "code",
   "execution_count": 7,
   "metadata": {},
   "outputs": [
    {
     "data": {
      "text/plain": [
       "<matplotlib.image.AxesImage at 0x204cc14eb70>"
      ]
     },
     "execution_count": 7,
     "metadata": {},
     "output_type": "execute_result"
    },
    {
     "data": {
      "image/png": "[encoded data removed]",
      "text/plain": [
       "<Figure size 432x288 with 1 Axes>"
      ]
     },
     "metadata": {
      "needs_background": "light"
     },
     "output_type": "display_data"
    }
   ],
   "source": [
    "# 학습 안된 결과\n",
    "img = generative(tf.random.normal([1,100]))\n",
    "img = img.numpy().reshape(28,28)\n",
    "\n",
    "plt.imshow(img)"
   ]
  },
  {
   "cell_type": "code",
   "execution_count": 8,
   "metadata": {},
   "outputs": [],
   "source": [
    "def make_discriminator_model():\n",
    "    discriminator = tf.keras.models.Sequential([\n",
    "        # 모델이 단순화 됨\n",
    "        tf.keras.layers.Conv2D(64, (5, 5), input_shape=(28,28,1)),\n",
    "        tf.keras.layers.LeakyReLU(),\n",
    "        tf.keras.layers.Dropout(0.3),\n",
    "# activation 다음 dropout\n",
    "        \n",
    "        tf.keras.layers.Conv2D(128, (5, 5), strides=2),\n",
    "        tf.keras.layers.LeakyReLU(),\n",
    "        tf.keras.layers.Dropout(0.3),\n",
    "        \n",
    "        tf.keras.layers.Flatten(),\n",
    "        tf.keras.layers.Dense(1),\n",
    "    ])\n",
    "    return discriminator"
   ]
  },
  {
   "cell_type": "code",
   "execution_count": 9,
   "metadata": {},
   "outputs": [
    {
     "name": "stdout",
     "output_type": "stream",
     "text": [
      "Model: \"sequential_1\"\n",
      "_________________________________________________________________\n",
      "Layer (type)                 Output Shape              Param #   \n",
      "=================================================================\n",
      "conv2d (Conv2D)              (None, 24, 24, 64)        1664      \n",
      "_________________________________________________________________\n",
      "leaky_re_lu_4 (LeakyReLU)    (None, 24, 24, 64)        0         \n",
      "_________________________________________________________________\n",
      "dropout (Dropout)            (None, 24, 24, 64)        0         \n",
      "_________________________________________________________________\n",
      "conv2d_1 (Conv2D)            (None, 10, 10, 128)       204928    \n",
      "_________________________________________________________________\n",
      "leaky_re_lu_5 (LeakyReLU)    (None, 10, 10, 128)       0         \n",
      "_________________________________________________________________\n",
      "dropout_1 (Dropout)          (None, 10, 10, 128)       0         \n",
      "_________________________________________________________________\n",
      "flatten (Flatten)            (None, 12800)             0         \n",
      "_________________________________________________________________\n",
      "dense_1 (Dense)              (None, 1)                 12801     \n",
      "=================================================================\n",
      "Total params: 219,393\n",
      "Trainable params: 219,393\n",
      "Non-trainable params: 0\n",
      "_________________________________________________________________\n"
     ]
    }
   ],
   "source": [
    "discriminator = make_discriminator_model()\n",
    "discriminator.summary()"
   ]
  },
  {
   "cell_type": "markdown",
   "metadata": {},
   "source": [
    "### loss\n",
    "- 위에서 sigmoid를 하지 않았음 -> from_logits\n",
    "\n",
    "from_logit : numerically stable (학습 안 될 때)\n",
    "\n",
    "진짜와 가짜 데이터 판별하는 능력 둘 다 기르기 -> loss 두 개 (**multi task loss**)\n",
    "\n",
    "\n",
    "#### compile에서 loss\n",
    "- 문자열\n",
    "- 소문자(객체) : 상속 재활용, callable(함수)\n",
    "- 대문자"
   ]
  },
  {
   "cell_type": "code",
   "execution_count": 10,
   "metadata": {},
   "outputs": [],
   "source": [
    "loss = tf.keras.losses.BinaryCrossentropy(from_logits=True)"
   ]
  },
  {
   "cell_type": "code",
   "execution_count": 11,
   "metadata": {},
   "outputs": [],
   "source": [
    "def discriminator_loss(real, fake):\n",
    "    real_loss = loss(tf.ones_like(real),real)\n",
    "    fake_loss = loss(tf.ones_like(fake),fake)\n",
    "    losss = real_loss + fake_loss\n",
    "    return losss"
   ]
  },
  {
   "cell_type": "code",
   "execution_count": 12,
   "metadata": {},
   "outputs": [],
   "source": [
    "def generative_loss(fake):\n",
    "    return loss(tf.ones_like(fake),fake)"
   ]
  },
  {
   "cell_type": "code",
   "execution_count": 27,
   "metadata": {},
   "outputs": [
    {
     "name": "stdout",
     "output_type": "stream",
     "text": [
      "  def __call__(self, *args, **kwargs):\n",
      "    \"\"\"Wraps `call`, applying pre- and post-processing steps.\n",
      "\n",
      "    Arguments:\n",
      "      *args: Positional arguments to be passed to `self.call`.\n",
      "      **kwargs: Keyword arguments to be passed to `self.call`.\n",
      "\n",
      "    Returns:\n",
      "      Output tensor(s).\n",
      "\n",
      "    Note:\n",
      "      - The following optional keyword arguments are reserved for specific uses:\n",
      "        * `training`: Boolean scalar tensor of Python boolean indicating\n",
      "          whether the `call` is meant for training or inference.\n",
      "        * `mask`: Boolean input mask.\n",
      "      - If the layer's `call` method takes a `mask` argument (as some Keras\n",
      "        layers do), its default value will be set to the mask generated\n",
      "        for `inputs` by the previous layer (if `input` did come from\n",
      "        a layer that generated a corresponding mask, i.e. if it came from\n",
      "        a Keras layer with masking support.\n",
      "\n",
      "    Raises:\n",
      "      ValueError: if the layer's `call` method returns None (an invalid value).\n",
      "      RuntimeError: if `super().__init__()` was not called in the constructor.\n",
      "    \"\"\"\n",
      "    if not hasattr(self, '_thread_local'):\n",
      "      raise RuntimeError(\n",
      "          'You must call `super().__init__()` in the layer constructor.')\n",
      "\n",
      "    # `inputs` (the first arg in the method spec) is special cased in\n",
      "    # layer call due to historical reasons.\n",
      "    # This special casing currently takes the form of:\n",
      "    # - 'inputs' must be explicitly passed. A layer cannot have zero arguments,\n",
      "    #   and inputs cannot have been provided via the default value of a kwarg.\n",
      "    # - numpy/scalar values in `inputs` get converted to tensors\n",
      "    # - implicit masks / mask metadata are only collected from 'inputs`\n",
      "    # - Layers are built using shape info from 'inputs' only\n",
      "    # - input_spec compatibility is only checked against `inputs`\n",
      "    # - mixed precision casting (autocast) is only applied to `inputs`,\n",
      "    #   not to any other argument.\n",
      "    # - setting the SavedModel saving spec.\n",
      "    inputs, args, kwargs = self._split_out_first_arg(args, kwargs)\n",
      "    input_list = nest.flatten(inputs)\n",
      "\n",
      "    # Functional Model construction mode is invoked when `Layer`s are called on\n",
      "    # symbolic `KerasTensor`s, i.e.:\n",
      "    # >> inputs = tf.keras.Input(10)\n",
      "    # >> outputs = MyLayer()(inputs)  # Functional construction mode.\n",
      "    # >> model = tf.keras.Model(inputs, outputs)\n",
      "    if _in_functional_construction_mode(self, inputs, args, kwargs, input_list):\n",
      "      return self._functional_construction_call(inputs, args, kwargs,\n",
      "                                                input_list)\n",
      "\n",
      "    # Maintains info about the `Layer.call` stack.\n",
      "    call_context = base_layer_utils.call_context()\n",
      "\n",
      "    # Accept NumPy and scalar inputs by converting to Tensors.\n",
      "    if any(isinstance(x, (np.ndarray, float, int)) for x in input_list):\n",
      "      inputs = nest.map_structure(_convert_numpy_or_python_types, inputs)\n",
      "      input_list = nest.flatten(inputs)\n",
      "\n",
      "    # Handle `mask` propagation from previous layer to current layer. Masks can\n",
      "    # be propagated explicitly via the `mask` argument, or implicitly via\n",
      "    # setting the `_keras_mask` attribute on the inputs to a Layer. Masks passed\n",
      "    # explicitly take priority.\n",
      "    input_masks, mask_is_implicit = self._get_input_masks(\n",
      "        inputs, input_list, args, kwargs)\n",
      "    if self._expects_mask_arg and mask_is_implicit:\n",
      "      kwargs['mask'] = input_masks\n",
      "\n",
      "    # Training mode for `Layer.call` is set via (in order of priority):\n",
      "    # (1) The `training` argument passed to this `Layer.call`, if it is not None\n",
      "    # (2) The training mode of an outer `Layer.call`.\n",
      "    # (3) The default mode set by `tf.keras.backend.set_learning_phase` (if set)\n",
      "    # (4) Any non-None default value for `training` specified in the call\n",
      "    #  signature\n",
      "    # (5) False (treating the layer as if it's in inference)\n",
      "    args, kwargs, training_mode = self._set_training_mode(\n",
      "        args, kwargs, call_context)\n",
      "\n",
      "    # Losses are cleared for all sublayers on the outermost `Layer.call`.\n",
      "    # Losses are not cleared on inner `Layer.call`s, because sublayers can be\n",
      "    # called multiple times.\n",
      "    if not call_context.in_call:\n",
      "      self._clear_losses()\n",
      "\n",
      "    eager = context.executing_eagerly()\n",
      "    with call_context.enter(\n",
      "        layer=self,\n",
      "        inputs=inputs,\n",
      "        build_graph=not eager,\n",
      "        training=training_mode):\n",
      "\n",
      "      if self._autocast:\n",
      "        inputs = self._maybe_cast_inputs(inputs, input_list)\n",
      "\n",
      "      if eager:\n",
      "        call_fn = self.call\n",
      "        name_scope = self._name\n",
      "      else:\n",
      "        input_spec.assert_input_compatibility(self.input_spec, inputs,\n",
      "                                              self.name)\n",
      "        name_scope = self._name_scope()  # Avoid autoincrementing.\n",
      "        call_fn = self._autographed_call()\n",
      "\n",
      "      with ops.name_scope_v2(name_scope):\n",
      "        if not self.built:\n",
      "          self._maybe_build(inputs)\n",
      "\n",
      "        with ops.enable_auto_cast_variables(self._compute_dtype_object):\n",
      "          outputs = call_fn(inputs, *args, **kwargs)\n",
      "\n",
      "        if self._activity_regularizer:\n",
      "          self._handle_activity_regularization(inputs, outputs)\n",
      "        if self._supports_masking:\n",
      "          self._set_mask_metadata(inputs, outputs, input_masks, not eager)\n",
      "        if self._saved_model_inputs_spec is None:\n",
      "          self._set_save_spec(inputs)\n",
      "\n",
      "        return outputs\n",
      "\n"
     ]
    }
   ],
   "source": [
    "import inspect\n",
    "print(inspect.getsource(discriminator.__call__))\n",
    "\n",
    "# training option : False로 주면 학습을 안함."
   ]
  },
  {
   "cell_type": "code",
   "execution_count": 13,
   "metadata": {},
   "outputs": [],
   "source": [
    "optimizer_g = tf.keras.optimizers.Adam(1e-4)\n",
    "optimizer_d = tf.keras.optimizers.Adam(1e-4)"
   ]
  },
  {
   "cell_type": "code",
   "execution_count": 15,
   "metadata": {},
   "outputs": [],
   "source": [
    "# 동시에 학습\n",
    "@tf.function\n",
    "def train_step(real):\n",
    "    \n",
    "    with tf.GradientTape() as ge, tf.GradientTape() as d:\n",
    "        imgs = generative(noise,training=True)\n",
    "        real_img = discriminator(real,training = True)\n",
    "        fake_img = discriminator(imgs,training = True)\n",
    "        # 어제는 gene가 false, dis가 true 였음\n",
    "\n",
    "        # loss 정의 후 graienttape 학습\n",
    "        gen_loss = generative_loss(fake_img)\n",
    "        dis_loss = discriminator_loss(real_img, fake_img)\n",
    "\n",
    "    # loss를 variables에 관해 미분\n",
    "    gd = ge.gradient(gen_loss, generative.trainable_variables)\n",
    "    dd = d.gradient(dis_loss, discriminator.trainable_variables)\n",
    "\n",
    "    optimizer_g.apply_gradients(zip(gd, generative.trainable_variables))\n",
    "    optimizer_d.apply_gradients(zip(dd, discriminator.trainable_variables))"
   ]
  },
  {
   "cell_type": "code",
   "execution_count": 14,
   "metadata": {},
   "outputs": [],
   "source": [
    "noise = tf.random.normal([BATCH_SIZE, NOISY_DIM])\n",
    "real = x_train"
   ]
  },
  {
   "cell_type": "markdown",
   "metadata": {},
   "source": [
    "- fit:epoch 별\n",
    "- train_on_batch :batch만큼\n",
    "- GradientTape: for 이용해서 epoch별 batch size만큼\n",
    "\n",
    "<br>\n",
    "\n",
    "training : 번갈아 학습 가능하도록(True,False)\n",
    "\n",
    "autoencoder : 실제 분포가 있지만 노이즈 있으면 가짜 데이터, 학습을 통해서 노이즈 제거해서 실제분포 찾음\n",
    "- 노이즈 데이터와 실제데이터 비교해서 노이즈 제거\n",
    "- 노이즈 데이터로 실제값을 받으면 생성 학습을 통해서 노이즈 제거해서 실제 분포 찾아서 값 정확하게 예측 가능"
   ]
  },
  {
   "cell_type": "code",
   "execution_count": 16,
   "metadata": {},
   "outputs": [],
   "source": [
    "for k in range(5):\n",
    "    for i in train:\n",
    "        train_step(i)\n",
    "        \n",
    "# generative가 공부"
   ]
  },
  {
   "cell_type": "code",
   "execution_count": 17,
   "metadata": {},
   "outputs": [
    {
     "data": {
      "text/plain": [
       "<matplotlib.image.AxesImage at 0x204cc3facc0>"
      ]
     },
     "execution_count": 17,
     "metadata": {},
     "output_type": "execute_result"
    },
    {
     "data": {
      "image/png": "[encoded data removed]",
      "text/plain": [
       "<Figure size 432x288 with 1 Axes>"
      ]
     },
     "metadata": {
      "needs_background": "light"
     },
     "output_type": "display_data"
    }
   ],
   "source": [
    "img = generative(tf.random.normal([1,100]))\n",
    "img = img.numpy().reshape(28,28)\n",
    "\n",
    "plt.imshow(img)"
   ]
  },
  {
   "cell_type": "markdown",
   "metadata": {},
   "source": [
    "예시처럼 trainable을 바꿔주는 작업 필요\n",
    "50번은 해야된다 함...."
   ]
  }
 ],
 "metadata": {
  "kernelspec": {
   "display_name": "Python [conda env:py37] *",
   "language": "python",
   "name": "conda-env-py37-py"
  },
  "language_info": {
   "codemirror_mode": {
    "name": "ipython",
    "version": 3
   },
   "file_extension": ".py",
   "mimetype": "text/x-python",
   "name": "python",
   "nbconvert_exporter": "python",
   "pygments_lexer": "ipython3",
   "version": "3.6.9"
  }
 },
 "nbformat": 4,
 "nbformat_minor": 2
}
