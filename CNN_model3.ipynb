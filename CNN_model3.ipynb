{
 "cells": [
  {
   "cell_type": "markdown",
   "metadata": {},
   "source": [
    "CNN = Convnet = Convolution Neural Network\n",
    "\n",
    "## CNN 구성\n",
    "\n",
    "- convolution : 위치와 상관없이 특성 파악\n",
    "    - local, shared\n",
    "     -locally connected : 위치에 상관있음 -> data augmentation 필수\n",
    "- pooling : 특정 영역을 하나의 값으로 표현\n",
    "    - network는 줄어들면서 특징은 살림.\n",
    "- fully connected\n",
    "    - global average pooling\n",
    "- activation function\n",
    "    - nonlinearity : 데이터의 분포가 바뀌면서 새로운 분포 생성\n",
    "- normalization\n",
    "    - input\n",
    "    - batch normalization\n",
    "    \n",
    "<br></br>\n",
    "\n",
    "---\n",
    "\n",
    "논문 : Identity Mappings in Deep Residual Networks\n",
    "\n",
    "- 논문에서 layer깊게 쌓은 것과 비교했을 때 test error뿐만 아니라 train error도 같이 올라가는 문제가 생김\n",
    "    > overfitting문제가 아닐 수도! underfitting문제일 수도 있다.\n",
    "\n",
    "<br></br>\n",
    "\n",
    "\n",
    "\n",
    "## Resnet\n",
    "\n",
    "- **short cut connection** : 입력값과 결과값을 합쳐서 다음 layer의 input으로 집어넣음(residual block)\n",
    "- batch normalization\n",
    "- googlenet 영향으로 1 * 1 conv씀\n",
    "- layer를 152개 만듬 -> 잘됨\n",
    "- PRelu : intialize를 gaussian -> xaiver -> he\n",
    "\n",
    "\n",
    "SOTA(State of the art) : 현존 최고의 기술"
   ]
  },
  {
   "cell_type": "code",
   "execution_count": 1,
   "metadata": {},
   "outputs": [
    {
     "name": "stderr",
     "output_type": "stream",
     "text": [
      "C:\\Users\\Gyu\\Anaconda3\\envs\\py37\\lib\\site-packages\\numpy\\_distributor_init.py:32: UserWarning: loaded more than 1 DLL from .libs:\n",
      "C:\\Users\\Gyu\\Anaconda3\\envs\\py37\\lib\\site-packages\\numpy\\.libs\\libopenblas.PYQHXLVVQ7VESDPUVUADXEVJOBGHJPAY.gfortran-win_amd64.dll\n",
      "C:\\Users\\Gyu\\Anaconda3\\envs\\py37\\lib\\site-packages\\numpy\\.libs\\libopenblas.TXA6YQSD3GCQQC22GEQ54J2UDCXDXHWN.gfortran-win_amd64.dll\n",
      "  stacklevel=1)\n"
     ]
    }
   ],
   "source": [
    "import tensorflow as tf\n",
    "\n",
    "# tf.keras.layers.LocallyConnected2D : 위치에 상관이 있음."
   ]
  },
  {
   "cell_type": "markdown",
   "metadata": {},
   "source": [
    "## Transfer learning\n",
    "\n",
    "- 만들어 놓은 model 사용\n",
    "\n",
    "1. tf.keras.application"
   ]
  },
  {
   "cell_type": "code",
   "execution_count": 5,
   "metadata": {},
   "outputs": [
    {
     "name": "stdout",
     "output_type": "stream",
     "text": [
      "Model: \"vgg16\"\n",
      "_________________________________________________________________\n",
      "Layer (type)                 Output Shape              Param #   \n",
      "=================================================================\n",
      "input_1 (InputLayer)         [(None, 224, 224, 3)]     0         \n",
      "_________________________________________________________________\n",
      "block1_conv1 (Conv2D)        (None, 224, 224, 64)      1792      \n",
      "_________________________________________________________________\n",
      "block1_conv2 (Conv2D)        (None, 224, 224, 64)      36928     \n",
      "_________________________________________________________________\n",
      "block1_pool (MaxPooling2D)   (None, 112, 112, 64)      0         \n",
      "_________________________________________________________________\n",
      "block2_conv1 (Conv2D)        (None, 112, 112, 128)     73856     \n",
      "_________________________________________________________________\n",
      "block2_conv2 (Conv2D)        (None, 112, 112, 128)     147584    \n",
      "_________________________________________________________________\n",
      "block2_pool (MaxPooling2D)   (None, 56, 56, 128)       0         \n",
      "_________________________________________________________________\n",
      "block3_conv1 (Conv2D)        (None, 56, 56, 256)       295168    \n",
      "_________________________________________________________________\n",
      "block3_conv2 (Conv2D)        (None, 56, 56, 256)       590080    \n",
      "_________________________________________________________________\n",
      "block3_conv3 (Conv2D)        (None, 56, 56, 256)       590080    \n",
      "_________________________________________________________________\n",
      "block3_pool (MaxPooling2D)   (None, 28, 28, 256)       0         \n",
      "_________________________________________________________________\n",
      "block4_conv1 (Conv2D)        (None, 28, 28, 512)       1180160   \n",
      "_________________________________________________________________\n",
      "block4_conv2 (Conv2D)        (None, 28, 28, 512)       2359808   \n",
      "_________________________________________________________________\n",
      "block4_conv3 (Conv2D)        (None, 28, 28, 512)       2359808   \n",
      "_________________________________________________________________\n",
      "block4_pool (MaxPooling2D)   (None, 14, 14, 512)       0         \n",
      "_________________________________________________________________\n",
      "block5_conv1 (Conv2D)        (None, 14, 14, 512)       2359808   \n",
      "_________________________________________________________________\n",
      "block5_conv2 (Conv2D)        (None, 14, 14, 512)       2359808   \n",
      "_________________________________________________________________\n",
      "block5_conv3 (Conv2D)        (None, 14, 14, 512)       2359808   \n",
      "_________________________________________________________________\n",
      "block5_pool (MaxPooling2D)   (None, 7, 7, 512)         0         \n",
      "_________________________________________________________________\n",
      "flatten (Flatten)            (None, 25088)             0         \n",
      "_________________________________________________________________\n",
      "fc1 (Dense)                  (None, 4096)              102764544 \n",
      "_________________________________________________________________\n",
      "fc2 (Dense)                  (None, 4096)              16781312  \n",
      "_________________________________________________________________\n",
      "predictions (Dense)          (None, 1000)              4097000   \n",
      "=================================================================\n",
      "Total params: 138,357,544\n",
      "Trainable params: 138,357,544\n",
      "Non-trainable params: 0\n",
      "_________________________________________________________________\n"
     ]
    }
   ],
   "source": [
    "vgg = tf.keras.applications.VGG16()\n",
    "vgg.summary()"
   ]
  },
  {
   "cell_type": "code",
   "execution_count": 29,
   "metadata": {},
   "outputs": [],
   "source": [
    "resnet = tf.keras.applications.ResNet50()"
   ]
  },
  {
   "cell_type": "code",
   "execution_count": 21,
   "metadata": {},
   "outputs": [],
   "source": [
    "# resnet.summary()\n",
    "    # connection"
   ]
  },
  {
   "cell_type": "code",
   "execution_count": 30,
   "metadata": {},
   "outputs": [
    {
     "name": "stdout",
     "output_type": "stream",
     "text": [
      "('Failed to import pydot. You must `pip install pydot` and install graphviz (https://graphviz.gitlab.io/download/), ', 'for `pydotprint` to work.')\n"
     ]
    }
   ],
   "source": [
    "tf.keras.utils.plot_model(resnet)"
   ]
  },
  {
   "cell_type": "code",
   "execution_count": 34,
   "metadata": {},
   "outputs": [
    {
     "data": {
      "text/plain": [
       "<tensorflow.python.keras.layers.convolutional.Conv2D at 0x1e17b6b1668>"
      ]
     },
     "execution_count": 34,
     "metadata": {},
     "output_type": "execute_result"
    }
   ],
   "source": [
    "resnet.get_layer('conv5_block1_3_conv')"
   ]
  },
  {
   "cell_type": "code",
   "execution_count": 32,
   "metadata": {},
   "outputs": [
    {
     "data": {
      "text/plain": [
       "4"
      ]
     },
     "execution_count": 32,
     "metadata": {},
     "output_type": "execute_result"
    }
   ],
   "source": [
    "len(resnet.get_layer('conv5_block3_3_bn').weights)"
   ]
  },
  {
   "cell_type": "code",
   "execution_count": 31,
   "metadata": {},
   "outputs": [
    {
     "data": {
      "text/plain": [
       "<tf.Tensor 'conv5_block3_3_bn/cond_2/Identity:0' shape=(None, 7, 7, 2048) dtype=float32>"
      ]
     },
     "execution_count": 31,
     "metadata": {},
     "output_type": "execute_result"
    }
   ],
   "source": [
    "resnet.get_layer('conv5_block3_3_bn').output"
   ]
  },
  {
   "cell_type": "markdown",
   "metadata": {},
   "source": [
    "- tensorflow deeplearning 모델 만들기\n",
    "    - tf.nn\n",
    "    - estimator\n",
    "    - keras(sequential, model, model 상속)\n",
    "    \n",
    "- 모델을 상속받아 사용가능\n",
    "\n",
    "<br>\n",
    "\n",
    "- efficient : resnet과 성능 비슷하지만 간단\n",
    "- mobilenet\n",
    "- 복잡한 모델이 나온 이후로 성능이 비슷한 간단한 모델 구축"
   ]
  },
  {
   "cell_type": "code",
   "execution_count": 22,
   "metadata": {},
   "outputs": [],
   "source": [
    "inputs = tf.keras.Input(shape=(28,28))\n",
    "layer1 = tf.keras.layers.Dense(64)(inputs)\n",
    "layer2 = tf.keras.layers.Dense(64)(inputs)"
   ]
  },
  {
   "cell_type": "code",
   "execution_count": 23,
   "metadata": {},
   "outputs": [],
   "source": [
    "layer3 = tf.keras.layers.Dense(64)(layer1)\n",
    "layer4 = tf.keras.layers.Add()([layer1, layer3])\n",
    "# 설명보면 값을 list로 받는다고 나와있음."
   ]
  },
  {
   "cell_type": "code",
   "execution_count": 24,
   "metadata": {},
   "outputs": [],
   "source": [
    "model = tf.keras.models.Model(inputs=inputs, outputs=layer4 )"
   ]
  },
  {
   "cell_type": "code",
   "execution_count": 25,
   "metadata": {},
   "outputs": [
    {
     "name": "stdout",
     "output_type": "stream",
     "text": [
      "Model: \"functional_1\"\n",
      "__________________________________________________________________________________________________\n",
      "Layer (type)                    Output Shape         Param #     Connected to                     \n",
      "==================================================================================================\n",
      "input_4 (InputLayer)            [(None, 28, 28)]     0                                            \n",
      "__________________________________________________________________________________________________\n",
      "dense (Dense)                   (None, 28, 64)       1856        input_4[0][0]                    \n",
      "__________________________________________________________________________________________________\n",
      "dense_2 (Dense)                 (None, 28, 64)       4160        dense[0][0]                      \n",
      "__________________________________________________________________________________________________\n",
      "add (Add)                       (None, 28, 64)       0           dense[0][0]                      \n",
      "                                                                 dense_2[0][0]                    \n",
      "==================================================================================================\n",
      "Total params: 6,016\n",
      "Trainable params: 6,016\n",
      "Non-trainable params: 0\n",
      "__________________________________________________________________________________________________\n"
     ]
    }
   ],
   "source": [
    "model.summary()\n",
    "# skip connection이 이루어졌음"
   ]
  },
  {
   "cell_type": "code",
   "execution_count": 26,
   "metadata": {},
   "outputs": [
    {
     "name": "stdout",
     "output_type": "stream",
     "text": [
      "('Failed to import pydot. You must `pip install pydot` and install graphviz (https://graphviz.gitlab.io/download/), ', 'for `pydotprint` to work.')\n"
     ]
    }
   ],
   "source": [
    "tf.keras.utils.plot_model(model)"
   ]
  },
  {
   "cell_type": "markdown",
   "metadata": {},
   "source": [
    "#### 여러 layer에서 온 결과값 연산\n",
    "    - tf.keras.layers.Add\n",
    "    - tf.keras.layers.Average\n",
    "    - tf.keras.layers.Concatenate\n",
    "    - tf.keras.layers.Lambda\n",
    "    - tf.keras.layers.Multiply\n",
    "    - tf.keras.layers.Subtract \n",
    "\n",
    "<br>\n",
    "\n",
    "---\n",
    "\n",
    "## Batch Normalization\n",
    "\n",
    "- 기본적으로 relu와 adam쓰면 학습할 수 있다.\n",
    "    \n",
    "    > but layer가 깊어지면 안됨!\n",
    "    \n",
    "- weight bias가 다양하게 바뀜\n",
    "    -> forward 방향으로 진행되면서 앞의 잘못으로 뒤의 layer에서 더 큰 잘못으로 잘못된 분포를 나오게 함\n",
    "        -> 학습이 안되는 경우가 생김!\n",
    "        \n",
    "- minmaxscaling\n",
    "- SGD -> mini-batch\n",
    "- 학습되어서 나오는 결과를 normalization -> 분포가 달라지지 않을 것임\n",
    "    -> batch를 normalize하여 학습이 안정적, 성능도 좋음\n",
    "    - learning rate도 크게 잡을 수 있다.\n",
    "    - regularization -> dropout효과\n",
    "\n",
    "<br></br>\n",
    "\n",
    "- batch normalization은 가장 범용적인 기법이라 할 수 있음!\n",
    "- 특성을 유지한 채로 값 범위를 공통 스케일로 변경\n",
    "    - 스케일이 다르면 고려할 것이 많아짐 -> 학습이 잘 안됨.\n",
    "    - 공통 스케일로 맞춰주면 고려할 것이 적어짐  \n",
    "- 초기값이 잘못되어도 괜찮은 편\n",
    "- dropout효과\n",
    "- test할 때는 overhead가 없어 실제에 좋음.\n",
    "- 그렇지만 이론적으로 증명이 잘 안됨.\n",
    "\n",
    "\n",
    "### Normalization, Regularization, Standardization\n",
    "- Regularization : overfitting 줄여 일반화된 모델을 만들기 위함.\n",
    "- Standardization : z-score\n",
    "\n",
    "<br>\n",
    "\n",
    "#### Internal Covariance shift\n",
    "- input의 distribution이 달라지는 현상\n",
    "- network는 계층적 구조 -> 어느 시점에서 잘못되면 뒤로도 계속 잘못됨.\n",
    "- 어떤 범위에서 범위 이상 넘어가지 않게 막음 -> 리피츠 연속함수\n",
    "- 많이 deep하면 gradient vanishing\n",
    "     - variance가 커져 값이 제대로 전달되지 못할 수도 있다.\n",
    "\n",
    "**Whitening**\n",
    "- 평균0, 분산 1로 만들고 uncorrelated하게 만들어줌.\n",
    "- 그렇지만 whitening해서 0에 가까우면 영향력을 못 가지는 문제가 생김(bias가 없어지는 문제)\n",
    "\n",
    "-> mini-batch 학습 : batch size 별로 사용\n",
    "    - ex) 256개 평균 내서 분산 계산 후 표준화(앱실론으로 stability높임)\n",
    "        - 최종적으로 **shift(다른 factor를 곱함)**\n",
    "- batchsize에서 나온 것으로 대표값을 취하는 식\n",
    "    -> batch size가 크면 클수록 batch normalization이 잘 됨.\n",
    "    \n",
    "- 학습을 통해 shift parameter 정의\n",
    "\n",
    "</br>\n",
    "test 할 때는....?\n",
    "- 분산을 예측하는 방식을 씀\n",
    "    - 이동 평균 개념을 통해 학습할 때 썼던 평균 분산을 가져옴\n",
    "    - 실제는 학습하지 않으므로 layer를 갖다 붙이는 등\n",
    "    \n",
    "**Activation 전에 넣어서**\n",
    "\n",
    "tf.keras.layers.Dense(64,activation='relu')\n",
    "\n",
    "    > tf.keras.layers.Dense(64)\n",
    "    > tf.keras.layers.BatchNormalization()\n",
    "    > tf.keras.layers.Activation('relu')"
   ]
  },
  {
   "cell_type": "code",
   "execution_count": 27,
   "metadata": {},
   "outputs": [
    {
     "name": "stderr",
     "output_type": "stream",
     "text": [
      "'brew'은(는) 내부 또는 외부 명령, 실행할 수 있는 프로그램, 또는\n",
      "배치 파일이 아닙니다.\n"
     ]
    }
   ],
   "source": [
    "tf.keras.layers.BatchNormalization()\n",
    "\n",
    "tf.keras.layers.Activation('relu')"
   ]
  }
 ],
 "metadata": {
  "kernelspec": {
   "display_name": "Python [conda env:py37] *",
   "language": "python",
   "name": "conda-env-py37-py"
  },
  "language_info": {
   "codemirror_mode": {
    "name": "ipython",
    "version": 3
   },
   "file_extension": ".py",
   "mimetype": "text/x-python",
   "name": "python",
   "nbconvert_exporter": "python",
   "pygments_lexer": "ipython3",
   "version": "3.6.9"
  }
 },
 "nbformat": 4,
 "nbformat_minor": 2
}
