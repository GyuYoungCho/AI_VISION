{
 "cells": [
  {
   "cell_type": "markdown",
   "metadata": {},
   "source": [
    "- selective select 문제 : 크기가 다른 문제\n",
    "\n",
    "intersection of Union(IOU) : 이미지에서 실제 부분과 예측 부분 교집합/전체집합\n",
    "- localization을 높이기 위함.\n",
    "\n",
    "### history\n",
    "\n",
    "2012\n",
    "    - CL : AlexNet, Selective Search(CTSF)\n",
    "    - DE : R-CNN\n",
    "2013\n",
    "    - CL : ZFNet\n",
    "2014\n",
    "    - CL : Googlenet, VGG\n",
    "    - DE : SPPNet\n",
    "2015\n",
    "    - CL : Resnet\n",
    "    - DE : Fast R-CNN\n",
    "\n",
    "- Bags of words\n",
    "    - histogram(어떤 특징이 얼마나 있는지)\n",
    "    - Spatial pyramid 구조에서 영역별 histogram구함\n",
    "    \n",
    "- Sppnet\n",
    "    - 처음에는 svm 나중에는 fully connected 사용\n",
    "    \n",
    "    \n",
    "---\n",
    "\n",
    "## Fast R-CNN\n",
    "- **ROI Layer**\n",
    "    - 학습가능하도록 다른 사이즈를 같은 정사각형으로 만듬 -> pooling 기법\n",
    "    - pyramid 방법이 아닌 layer 하나로 pooling\n",
    "- input size를 hierarchy하게 만듬\n",
    "- VGG 사용(기존 Alexnet)\n",
    "- localization, prediction model 하나로 만듬 -> end to end\n",
    "\n",
    "\n",
    "### multi-task loss\n",
    "- softmax classifier + b-box regressors 합쳐서 동시에 loss 최소화\n",
    "- end-to-end model\n",
    "- one network traind in one stage\n",
    "- Log loss + smooth L1 loss 최소화\n",
    "\n",
    "<br>\n",
    "\n",
    "- conclusion\n",
    "![fast_rcnn.PNG](fast_rcnn.PNG)\n",
    "\n",
    "### ROI Pooling\n",
    "- selective search 에서 하나가 roi라고 할 수 있음.\n",
    "\n",
    "https://github.com/yhenon/keras-spp/blob/master/spp/RoiPooling.py\n",
    "\n",
    "- 위 기반 구현\n",
    "\n",
    "### Layer customizing\n",
    "- build : 초기화 값 실행 이후에는 안 불림, 초기화 체크\n",
    "- call 만들어져 있으면 어떻게 해야하는지 알려줌"
   ]
  },
  {
   "cell_type": "code",
   "execution_count": 1,
   "metadata": {},
   "outputs": [
    {
     "name": "stderr",
     "output_type": "stream",
     "text": [
      "C:\\Users\\Gyu\\Anaconda3\\envs\\py37\\lib\\site-packages\\numpy\\_distributor_init.py:32: UserWarning: loaded more than 1 DLL from .libs:\n",
      "C:\\Users\\Gyu\\Anaconda3\\envs\\py37\\lib\\site-packages\\numpy\\.libs\\libopenblas.PYQHXLVVQ7VESDPUVUADXEVJOBGHJPAY.gfortran-win_amd64.dll\n",
      "C:\\Users\\Gyu\\Anaconda3\\envs\\py37\\lib\\site-packages\\numpy\\.libs\\libopenblas.TXA6YQSD3GCQQC22GEQ54J2UDCXDXHWN.gfortran-win_amd64.dll\n",
      "  stacklevel=1)\n"
     ]
    }
   ],
   "source": [
    "import tensorflow as tf"
   ]
  },
  {
   "cell_type": "code",
   "execution_count": 7,
   "metadata": {},
   "outputs": [],
   "source": [
    "from tensorflow.keras import backend as K"
   ]
  },
  {
   "cell_type": "code",
   "execution_count": 4,
   "metadata": {},
   "outputs": [],
   "source": [
    "class ROILayer(tf.keras.layers.Layer):\n",
    "    def __init__(self, pool_list, num_rois,**kwags): # 기본적인 시작\n",
    "        super().__init__(**kwags)\n",
    "        self.poolist = pool_list # pooling regions 갯수 리스트\n",
    "        self.num_rois = num_rois  # 채널 당 output수\n",
    "        self.num_outputs_per_channer = sum(i*i for i in pool_list)\n",
    "        # 2개 -> output 4개\n",
    "        \n",
    "    def build(self, input_shape): # input 받았을 때 모양\n",
    "  #  Channel Last\n",
    "  # 채널수 초기화(리턴 없음)  : 데이터 구조  (0HWC) \n",
    "\n",
    "        self.nb_channels = input_shape[0][3]  # (0,h,w,c)\n",
    "    def call(self, x): # 여기가 중요\n",
    "        # 어떻게 쪼갤 것인가\n",
    "        # image 당 selective 몇개인지\n",
    "        # convolution 나온 것을 ROI Layer에 넣어 (7,7)로 나누기\n",
    "        # pyramid 기법 안써서 빠른 속도\n",
    "        \n",
    "        img = x[0]\n",
    "        rois = x[1]\n",
    "        for i in range(self.num_rois): #\n",
    "            x = rois[0,i,0]\n",
    "            y = rois[0,i,1]\n",
    "            w = rois[0,i,2]\n",
    "            h = rois[0,i,3]\n",
    "            \n",
    "            # pool_list 기반 분할\n",
    "            row_leng = [h/j for j in self.pool_list]\n",
    "            cow_leng = [w/j for j in self.pool_list]\n",
    "            \n",
    "            # max pooling\n",
    "            # layer 덮어쓰면 작은 kernel로도 성능 어느 정도 낼 수 있음.\n",
    "            # VGGNet kernel size 3x3 여러개 하면 더 큰 커널사용한것과 동일한 효과냄 \n",
    "            # 한번에 7x7 pooling -> 속도 빠르다\n",
    "            \n",
    "            for i in poll_region:\n",
    "                for j in i :\n",
    "                    \n",
    "                    x1 = x + ix * col_length[pool_num]\n",
    "                    x2 = x1 + col_length[pool_num]\n",
    "                    y1 = y + jy * row_length[pool_num]\n",
    "                    y2 = y1 + row_length[pool_num]\n",
    "\n",
    "                    x1 = K.cast(K.round(x1), 'int32')\n",
    "                    x2 = K.cast(K.round(x2), 'int32')\n",
    "                    y1 = K.cast(K.round(y1), 'int32')\n",
    "                    y2 = K.cast(K.round(y2), 'int32')\n",
    "\n",
    "                    new_shape = [input_shape[0], y2 - y1,\n",
    "                                         x2 - x1, input_shape[3]]\n",
    "                    x_crop = img[:, y1:y2, x1:x2, :]\n",
    "                    xm = K.reshape(x_crop, new_shape)\n",
    "                            \n",
    "                    pool_val = K.max()\n",
    "                    self.output.append(pool_val)\n",
    "                    \n",
    "            \n",
    "#         print(x)  x가 뭔지 debugging\n",
    "    \n",
    "    def compute_output_shape(self, input_shape): # output을 어떻게 내주는가\n",
    "        # 확인; (None,num_rois, 총 output 갯수 )\n",
    "        return None, self.num_rois,self.nb_channels*self.num_output_per_channel\n",
    "    \n",
    "    def get_config(self): # 구성 확인\n",
    "        original = super().get_config()\n",
    "        my_config = {'pool_list': self.pool_list, 'num_rois' : self.num_rois}\n",
    "        original.update(my_config)\n",
    "        return original"
   ]
  },
  {
   "cell_type": "code",
   "execution_count": null,
   "metadata": {},
   "outputs": [],
   "source": [
    "vgg=tf.keras.applications.VGG16()\n",
    "vgg.get_config()"
   ]
  },
  {
   "cell_type": "code",
   "execution_count": 5,
   "metadata": {},
   "outputs": [],
   "source": [
    "r1 = ROILayer([1,2,4],3)\n",
    "r1.get_config()"
   ]
  },
  {
   "cell_type": "code",
   "execution_count": 6,
   "metadata": {},
   "outputs": [
    {
     "data": {
      "text/plain": [
       "{'a': 1, 'b': 2, 'c': 3}"
      ]
     },
     "execution_count": 6,
     "metadata": {},
     "output_type": "execute_result"
    }
   ],
   "source": [
    "# dict 추가 , mutable 방식\n",
    "x = {'a':1,'b':2}\n",
    "y = {'c':3}\n",
    "x.update(y) # return none\n",
    "x"
   ]
  },
  {
   "cell_type": "markdown",
   "metadata": {},
   "source": [
    "2016\n",
    "    - DE : Faster R-CNN\n",
    "    \n",
    "#### Fast R-CNN problen\n",
    "- 4가지 요소 이외 모르는 영역을 묶는 것이 있을 거란 생각을 하게 됨\n",
    "- selective search자체가 속도가 느림.\n",
    "- end to end도 아님\n",
    "    \n",
    "## Faster R-CNN\n",
    "- selective search algorithm 포기 -> 학습을 통한 것이 아니었고 학습\n",
    "- 정확도는 어느정도 왔고 속도를 높이는데에 초점\n",
    "- feature maps - SPP/ RoI pooling layers 로 크기 맞춤"
   ]
  },
  {
   "cell_type": "code",
   "execution_count": null,
   "metadata": {},
   "outputs": [],
   "source": []
  }
 ],
 "metadata": {
  "kernelspec": {
   "display_name": "Python [conda env:py37] *",
   "language": "python",
   "name": "conda-env-py37-py"
  },
  "language_info": {
   "codemirror_mode": {
    "name": "ipython",
    "version": 3
   },
   "file_extension": ".py",
   "mimetype": "text/x-python",
   "name": "python",
   "nbconvert_exporter": "python",
   "pygments_lexer": "ipython3",
   "version": "3.6.9"
  }
 },
 "nbformat": 4,
 "nbformat_minor": 2
}
