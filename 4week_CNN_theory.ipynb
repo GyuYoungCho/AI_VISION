{
 "cells": [
  {
   "cell_type": "markdown",
   "metadata": {},
   "source": [
    "## end-to-end model\n",
    "\n",
    "- 종단 간 학습\n",
    "- 학습을 통해 뽑힌 feature로 분류 등을 한다.\n",
    "- 많은 데이터가 필요함.\n",
    "\n",
    "</br>\n",
    "\n",
    "## convolution과 전통적 nn\n",
    "- flatten해도 부분적인 특성은 살아남긴 함\n",
    "- feasibility testing : 내 아이디어 될지 안될지  -> 중요하지 않다(이미 옛날에 논문 증명)\n",
    "- transitional imvariant : 특징이 사진 내부에 어디 있을지 모름\n",
    "    - cor-realation 연산을 하면 2차원 특성을 뽑아낸다.\n",
    "    - kernel이 다르면 특성을 못 뽑아낸다.\n",
    "    - locally-connected\n",
    "        - shared weight(특징 영역 추출) : sliding window하고 연산하면 위치와 관계없이 feature를 뽑을 수 있다\n",
    "    - kernel을 여러 개  -> 정확도 상승\n",
    "\n",
    "</br>\n",
    "    \n",
    "- 흰 바탕이면 색깔 반전해야!\n",
    "- 학습을 통하면 filter를 통해 특징이 나오는데 이해는 못함 -> black-box model\n",
    "\n",
    "---\n",
    "\n",
    "#### locally-connected\n",
    "- 가까운 pixel은 연관성이 있고 거리가 먼 pixel은 연관성이 없는 것으로 생각 \n",
    "\n",
    "### Convolutional filter\n",
    "- locally-conntected한 이미지 데이터 가정\n",
    "    - 현재 pixel과 가로 세로 크기만큼 주변 pixel의 연관관계를 계산 \n",
    "    - Kernel Filter를 sliding 하면서 연산\n",
    "    - input의 위치와 관계없이, shared weight(특정 영역 추출)를 sliding window하고 그것을 연산하여, 똑같은 feature라면 위치와 상관없이 해당 feature를 뽑아낼 수 있음\n",
    "\n",
    "\n",
    "- **Feature map**은 합성곱 계산으로 만들어진 행렬\n",
    "- **Activation map** : Feature map 행렬에 활성 함수를 적용한 결과 , convolution 레이어의 최종 출력 결과\n",
    "    \n",
    "- Convolutional Layer:여러개의 Convolution Filter를 묶어놓은 것\n",
    "    - 하나의 filter당 하나의 feature -> 여러개의 filter 사용\n",
    "    - 기본적으로 weight처럼 convolutional filter는 서로 다른 랜덤 초기화 필터\n",
    "    - 각 convolutional filter는 각각 연산해서 각각 6개의 output을 만들고 그 output은 새로운 feature로 쌓이는데 output feature임.\n",
    "    - input_filter_size == convolutional filter의 filter_size\n",
    "    - output_filter_size == convolutional layer의 filter개수\n",
    "       \n",
    "</br>\n",
    "\n",
    "---\n",
    "\n",
    "### Padding \n",
    "- sub sampling, conv 레이어의 출력 데이터의 사이즈를 조절\n",
    "    - **zero-padding** :“0”값으로 둘러싸는 특징으로 부터 인공 신경망이 이미지의 외각을 인식\n",
    "    - 특징 유실 막음\n",
    "    - overfitting 방지 효과\n",
    "    \n",
    "---\n",
    "\n",
    "\n",
    "### Pooling\n",
    "- 데이터의 사이즈를 강제로 줄이는 개념 \n",
    "- maxPooling은 Max한 값 챙기고 작은 값을 버림\n",
    "    - 특징을 나타내는 픽셀은 많지 않아 중요한 pixel만 뽑기\n",
    "    - 필요없는 feature를 버린다. ->  남은 메모리는 다음 Conv Layer를 쌓는데 쓰는, 연산\n",
    "- 전체 데이타의 사이즈가 줄어들기 때문에 연산에 들어가는 컴퓨팅 리소스가 적음\n",
    "- 데이타의 크기를 줄이면서 소실이 발생하기 때문에, 오버피팅을 방지\n",
    "- 학습대상 파라미터가 없음\n",
    "- Pooling 레이어를 통과하면 행렬의 크기 감소 & 채널 수 무변\n",
    "\n",
    "\n",
    "#### Max Pooling\n",
    "\n",
    "- **실용적으로 많이 안쓰려고 하는 추세**\n",
    "- CNN의 Layer는 앞쪽일수록 저차원의 linear한 feature를 뽑아내고, 뒤로 갈수록 고차원의 feature를 뽑아냄 (hierarchy 특성)\n",
    "    \n",
    "    \n",
    "\n",
    "<br>\n",
    "\n",
    "> cherry picking\n",
    "     - ML의 분류 강화학습은 체리, 비지도학습은 빵\n",
    "     - NFL 임에 불구하고 모델 돌리고 나서 좋은 결과만 보여주는 것\n",
    "\n",
    "### 최적의 모델 \n",
    "- 하이퍼파라미터 튜징 GridSearchCV, keras-tuner로 자동으로 찾음\n",
    "- 기준 모델만들고 Learning curve 보고 결정\n",
    "\n",
    "</br>\n",
    "\n",
    "---\n",
    "\n",
    "- numpy는 gpu x, mutable\n",
    "- tensor는\n",
    "    - gpu 지원, immutable, functional api, autograd(자동 미분)"
   ]
  },
  {
   "cell_type": "code",
   "execution_count": 1,
   "metadata": {},
   "outputs": [],
   "source": [
    "import tensorflow as tf"
   ]
  },
  {
   "cell_type": "code",
   "execution_count": 2,
   "metadata": {},
   "outputs": [],
   "source": [
    "(x_train, y_train), (x_test, y_test) = tf.keras.datasets.mnist.load_data() \n",
    "\n",
    "x_train = x_train.reshape((-1, 28, 28, 1))  \n",
    "x_test = x_test.reshape((-1, 28, 28, 1))\n",
    "\n",
    "x_train, x_test = x_train / 255.0, x_test/ 255.0"
   ]
  },
  {
   "cell_type": "code",
   "execution_count": 3,
   "metadata": {},
   "outputs": [
    {
     "data": {
      "text/plain": [
       "True"
      ]
     },
     "execution_count": 3,
     "metadata": {},
     "output_type": "execute_result"
    }
   ],
   "source": [
    "tf.keras.layers.Conv2D is tf.keras.layers.Convolution2D"
   ]
  },
  {
   "cell_type": "markdown",
   "metadata": {},
   "source": [
    "#### Convolution1D\n",
    "- 자연어처리, 신호처리\n",
    "\n",
    "### Convolution2D\n",
    "\n",
    "- input (세로, 가로, 채널) tensor\n",
    "- arg : filter, kernel size, strides, padding(valid,same), activation, use_bias, kernel initializer, regularizer, constraint(값 범위)\n",
    "- Conv : feature extraction\n",
    "    - Dense : classification\n",
    "    \n",
    "#### Maxpool2D\n",
    "- 피라미드 형태로 노드 늘리기 -> 특징 추출 좋음"
   ]
  },
  {
   "cell_type": "code",
   "execution_count": 5,
   "metadata": {},
   "outputs": [
    {
     "name": "stdout",
     "output_type": "stream",
     "text": [
      "Model: \"sequential_1\"\n",
      "_________________________________________________________________\n",
      "Layer (type)                 Output Shape              Param #   \n",
      "=================================================================\n",
      "conv2d_2 (Conv2D)            (None, 26, 26, 32)        320       \n",
      "_________________________________________________________________\n",
      "max_pooling2d_2 (MaxPooling2 (None, 13, 13, 32)        0         \n",
      "_________________________________________________________________\n",
      "conv2d_3 (Conv2D)            (None, 11, 11, 64)        18496     \n",
      "_________________________________________________________________\n",
      "max_pooling2d_3 (MaxPooling2 (None, 5, 5, 64)          0         \n",
      "_________________________________________________________________\n",
      "flatten_1 (Flatten)          (None, 1600)              0         \n",
      "_________________________________________________________________\n",
      "dense_2 (Dense)              (None, 64)                102464    \n",
      "_________________________________________________________________\n",
      "dense_3 (Dense)              (None, 10)                650       \n",
      "=================================================================\n",
      "Total params: 121,930\n",
      "Trainable params: 121,930\n",
      "Non-trainable params: 0\n",
      "_________________________________________________________________\n"
     ]
    }
   ],
   "source": [
    "model=tf.keras.models.Sequential([\n",
    "    tf.keras.Input(shape=(28,28,1)),\n",
    "    tf.keras.layers.Conv2D(32,(3,3), activation='relu'),\n",
    "    tf.keras.layers.MaxPool2D((2, 2)),\n",
    "    tf.keras.layers.Conv2D(64,(3,3), activation='relu'),\n",
    "    tf.keras.layers.MaxPool2D((2, 2)),    \n",
    "    tf.keras.layers.Flatten(),\n",
    "    tf.keras.layers.Dense(64, activation ='relu'),\n",
    "    tf.keras.layers.Dense(10, activation ='softmax')\n",
    "])\n",
    "model.summary()"
   ]
  },
  {
   "cell_type": "code",
   "execution_count": 6,
   "metadata": {},
   "outputs": [
    {
     "name": "stdout",
     "output_type": "stream",
     "text": [
      "Epoch 1/5\n",
      "1875/1875 [==============================] - 17s 9ms/step - loss: 0.1459 - accuracy: 0.9558\n",
      "Epoch 2/5\n",
      "1875/1875 [==============================] - 18s 10ms/step - loss: 0.0461 - accuracy: 0.9859\n",
      "Epoch 3/5\n",
      "1875/1875 [==============================] - 19s 10ms/step - loss: 0.0314 - accuracy: 0.9901\n",
      "Epoch 4/5\n",
      "1875/1875 [==============================] - 19s 10ms/step - loss: 0.0234 - accuracy: 0.9927\n",
      "Epoch 5/5\n",
      "1875/1875 [==============================] - 18s 10ms/step - loss: 0.0175 - accuracy: 0.9947\n"
     ]
    },
    {
     "data": {
      "text/plain": [
       "<tensorflow.python.keras.callbacks.History at 0x1779c7e5828>"
      ]
     },
     "execution_count": 6,
     "metadata": {},
     "output_type": "execute_result"
    }
   ],
   "source": [
    "model.compile(loss='sparse_categorical_crossentropy',\n",
    "              optimizer='adam',\n",
    "              metrics=['accuracy'])\n",
    "\n",
    "model.fit(x_train, y_train, epochs=5)\n",
    "\n",
    "# 전처리 잘 되어있어 정확도 높은 편"
   ]
  },
  {
   "cell_type": "markdown",
   "metadata": {},
   "source": [
    "## color image(cifar10)\n",
    "\n",
    "- 3 channels\n",
    "- mnist와 개수 비슷\n",
    "\n",
    "https://www.tensorflow.org/tutorials/images/cnn"
   ]
  },
  {
   "cell_type": "code",
   "execution_count": 7,
   "metadata": {},
   "outputs": [
    {
     "name": "stdout",
     "output_type": "stream",
     "text": [
      "Downloading data from https://www.cs.toronto.edu/~kriz/cifar-10-python.tar.gz\n",
      "170500096/170498071 [==============================] - 87s 1us/step\n"
     ]
    }
   ],
   "source": [
    "(x_train, y_train), (x_test, y_test) = tf.keras.datasets.cifar10.load_data() #holdout\n",
    "\n",
    "#  0~1 사이로 정규화\n",
    "x_train, x_test = x_train / 255.0, x_test/ 255.0"
   ]
  },
  {
   "cell_type": "code",
   "execution_count": 8,
   "metadata": {},
   "outputs": [
    {
     "data": {
      "text/plain": [
       "(50000, 32, 32, 3)"
      ]
     },
     "execution_count": 8,
     "metadata": {},
     "output_type": "execute_result"
    }
   ],
   "source": [
    "x_train.shape"
   ]
  },
  {
   "cell_type": "code",
   "execution_count": 9,
   "metadata": {},
   "outputs": [
    {
     "data": {
      "text/plain": [
       "<matplotlib.image.AxesImage at 0x177b38dda90>"
      ]
     },
     "execution_count": 9,
     "metadata": {},
     "output_type": "execute_result"
    },
    {
     "data": {
      "image/png": "[encoded data removed]",
      "text/plain": [
       "<Figure size 432x288 with 1 Axes>"
      ]
     },
     "metadata": {
      "needs_background": "light"
     },
     "output_type": "display_data"
    }
   ],
   "source": [
    "import matplotlib.pyplot as plt\n",
    "plt.imshow(x_train[1]) "
   ]
  },
  {
   "cell_type": "code",
   "execution_count": 10,
   "metadata": {},
   "outputs": [
    {
     "data": {
      "image/png": "[encoded data removed]",
      "text/plain": [
       "<Figure size 720x720 with 9 Axes>"
      ]
     },
     "metadata": {
      "needs_background": "light"
     },
     "output_type": "display_data"
    }
   ],
   "source": [
    "plt.figure(figsize=(10, 10))\n",
    "for i in range(9):\n",
    "    ax = plt.subplot(3, 3, i + 1)\n",
    "    plt.imshow(x_train[i])\n",
    "    plt.axis(\"off\")"
   ]
  },
  {
   "cell_type": "code",
   "execution_count": 11,
   "metadata": {},
   "outputs": [
    {
     "name": "stdout",
     "output_type": "stream",
     "text": [
      "Model: \"sequential_2\"\n",
      "_________________________________________________________________\n",
      "Layer (type)                 Output Shape              Param #   \n",
      "=================================================================\n",
      "conv2d_4 (Conv2D)            (None, 30, 30, 32)        896       \n",
      "_________________________________________________________________\n",
      "max_pooling2d_4 (MaxPooling2 (None, 15, 15, 32)        0         \n",
      "_________________________________________________________________\n",
      "conv2d_5 (Conv2D)            (None, 13, 13, 64)        18496     \n",
      "_________________________________________________________________\n",
      "max_pooling2d_5 (MaxPooling2 (None, 6, 6, 64)          0         \n",
      "_________________________________________________________________\n",
      "flatten_2 (Flatten)          (None, 2304)              0         \n",
      "_________________________________________________________________\n",
      "dense_4 (Dense)              (None, 64)                147520    \n",
      "_________________________________________________________________\n",
      "dense_5 (Dense)              (None, 10)                650       \n",
      "=================================================================\n",
      "Total params: 167,562\n",
      "Trainable params: 167,562\n",
      "Non-trainable params: 0\n",
      "_________________________________________________________________\n"
     ]
    }
   ],
   "source": [
    "model=tf.keras.models.Sequential([\n",
    "    tf.keras.Input(shape=(32,32,3)),\n",
    "    tf.keras.layers.Conv2D(32,(3,3), activation='relu'),\n",
    "    tf.keras.layers.MaxPool2D((2, 2)),\n",
    "    tf.keras.layers.Conv2D(64,(3,3), activation='relu'),\n",
    "    tf.keras.layers.MaxPool2D((2, 2)),     \n",
    "    tf.keras.layers.Flatten(),\n",
    "    tf.keras.layers.Dense(64, activation ='relu'),\n",
    "    tf.keras.layers.Dense(10, activation ='softmax')\n",
    "])\n",
    "\n",
    "model.summary()"
   ]
  },
  {
   "cell_type": "code",
   "execution_count": 12,
   "metadata": {},
   "outputs": [
    {
     "name": "stdout",
     "output_type": "stream",
     "text": [
      "Epoch 1/5\n",
      "1563/1563 [==============================] - 20s 13ms/step - loss: 1.4653 - accuracy: 0.4723\n",
      "Epoch 2/5\n",
      "1563/1563 [==============================] - 22s 14ms/step - loss: 1.1247 - accuracy: 0.6043\n",
      "Epoch 3/5\n",
      "1563/1563 [==============================] - 22s 14ms/step - loss: 0.9944 - accuracy: 0.6528\n",
      "Epoch 4/5\n",
      "1563/1563 [==============================] - 21s 14ms/step - loss: 0.9101 - accuracy: 0.6838\n",
      "Epoch 5/5\n",
      "1563/1563 [==============================] - 21s 14ms/step - loss: 0.8468 - accuracy: 0.7064\n"
     ]
    },
    {
     "data": {
      "text/plain": [
       "<tensorflow.python.keras.callbacks.History at 0x177b5c9b160>"
      ]
     },
     "execution_count": 12,
     "metadata": {},
     "output_type": "execute_result"
    }
   ],
   "source": [
    "model.compile(optimizer='adam',\n",
    "              loss='sparse_categorical_crossentropy',\n",
    "              metrics=['accuracy'])\n",
    "model.fit(x_train, y_train, epochs=5)"
   ]
  },
  {
   "cell_type": "markdown",
   "metadata": {},
   "source": [
    "### 성능 향상\n",
    "1. convolution layer 늘리기\n",
    "2. epoch 늘리기\n",
    "3. validation 나누고 결과 보기"
   ]
  },
  {
   "cell_type": "code",
   "execution_count": 13,
   "metadata": {},
   "outputs": [],
   "source": [
    "model=tf.keras.models.Sequential([\n",
    "    tf.keras.Input(shape=(32,32,3)),\n",
    "    tf.keras.layers.Conv2D(32,(3,3), activation='relu'),\n",
    "    tf.keras.layers.MaxPool2D((2, 2)),\n",
    "    tf.keras.layers.Conv2D(64,(3,3), activation='relu'),\n",
    "    tf.keras.layers.MaxPool2D((2, 2)),    \n",
    "    tf.keras.layers.Conv2D(64,(3,3), activation='relu'),\n",
    "    tf.keras.layers.MaxPool2D((2, 2)), \n",
    "    tf.keras.layers.Flatten(),\n",
    "    tf.keras.layers.Dense(64, activation ='relu'),\n",
    "    tf.keras.layers.Dense(10, activation ='softmax')\n",
    "])\n",
    "\n",
    "model.compile(optimizer='adam',\n",
    "              loss='sparse_categorical_crossentropy',\n",
    "              metrics=['accuracy'])\n",
    "\n"
   ]
  },
  {
   "cell_type": "code",
   "execution_count": 14,
   "metadata": {},
   "outputs": [
    {
     "name": "stdout",
     "output_type": "stream",
     "text": [
      "Epoch 1/15\n",
      "1250/1250 [==============================] - 22s 17ms/step - loss: 1.6444 - accuracy: 0.3965 - val_loss: 1.3929 - val_accuracy: 0.5001\n",
      "Epoch 2/15\n",
      "1250/1250 [==============================] - 21s 17ms/step - loss: 1.2707 - accuracy: 0.5438 - val_loss: 1.2564 - val_accuracy: 0.5568\n",
      "Epoch 3/15\n",
      "1250/1250 [==============================] - 21s 17ms/step - loss: 1.1240 - accuracy: 0.5990 - val_loss: 1.1144 - val_accuracy: 0.6121\n",
      "Epoch 4/15\n",
      "1250/1250 [==============================] - 21s 17ms/step - loss: 1.0373 - accuracy: 0.6349 - val_loss: 1.1284 - val_accuracy: 0.6102\n",
      "Epoch 5/15\n",
      "1250/1250 [==============================] - 21s 17ms/step - loss: 0.9611 - accuracy: 0.6619 - val_loss: 0.9782 - val_accuracy: 0.6603\n",
      "Epoch 6/15\n",
      "1250/1250 [==============================] - 22s 17ms/step - loss: 0.9023 - accuracy: 0.6825 - val_loss: 1.0013 - val_accuracy: 0.6570\n",
      "Epoch 7/15\n",
      "1250/1250 [==============================] - 22s 17ms/step - loss: 0.8484 - accuracy: 0.7031 - val_loss: 0.9380 - val_accuracy: 0.6740\n",
      "Epoch 8/15\n",
      "1250/1250 [==============================] - 21s 17ms/step - loss: 0.8046 - accuracy: 0.7176 - val_loss: 0.9275 - val_accuracy: 0.6800\n",
      "Epoch 9/15\n",
      "1250/1250 [==============================] - 21s 17ms/step - loss: 0.7661 - accuracy: 0.7314 - val_loss: 0.9004 - val_accuracy: 0.6932\n",
      "Epoch 10/15\n",
      "1250/1250 [==============================] - 21s 17ms/step - loss: 0.7317 - accuracy: 0.7424 - val_loss: 0.8964 - val_accuracy: 0.6964\n",
      "Epoch 11/15\n",
      "1250/1250 [==============================] - 21s 17ms/step - loss: 0.7033 - accuracy: 0.7520 - val_loss: 0.9089 - val_accuracy: 0.6970\n",
      "Epoch 12/15\n",
      "1250/1250 [==============================] - 20s 16ms/step - loss: 0.6717 - accuracy: 0.7625 - val_loss: 0.8815 - val_accuracy: 0.7064\n",
      "Epoch 13/15\n",
      "1250/1250 [==============================] - 20s 16ms/step - loss: 0.6522 - accuracy: 0.7696 - val_loss: 0.8667 - val_accuracy: 0.7070\n",
      "Epoch 14/15\n",
      "1250/1250 [==============================] - 20s 16ms/step - loss: 0.6229 - accuracy: 0.7831 - val_loss: 0.9412 - val_accuracy: 0.6907\n",
      "Epoch 15/15\n",
      "1250/1250 [==============================] - 21s 17ms/step - loss: 0.5981 - accuracy: 0.7890 - val_loss: 0.8845 - val_accuracy: 0.7112\n"
     ]
    }
   ],
   "source": [
    "history=model.fit(x_train, y_train, epochs=15, validation_split=0.2) "
   ]
  },
  {
   "cell_type": "code",
   "execution_count": 16,
   "metadata": {},
   "outputs": [
    {
     "name": "stdout",
     "output_type": "stream",
     "text": [
      "313/313 [==============================] - 1s 4ms/step - loss: 0.9142 - accuracy: 0.7046\n"
     ]
    },
    {
     "data": {
      "text/plain": [
       "[0.9141885042190552, 0.7045999765396118]"
      ]
     },
     "execution_count": 16,
     "metadata": {},
     "output_type": "execute_result"
    }
   ],
   "source": [
    "history.model.evaluate(x_test,y_test)"
   ]
  },
  {
   "cell_type": "code",
   "execution_count": 17,
   "metadata": {},
   "outputs": [
    {
     "data": {
      "text/plain": [
       "{'loss': [1.6444116830825806,\n",
       "  1.270653247833252,\n",
       "  1.1239935159683228,\n",
       "  1.0372514724731445,\n",
       "  0.9610756635665894,\n",
       "  0.9023014903068542,\n",
       "  0.8484243154525757,\n",
       "  0.8046466112136841,\n",
       "  0.7660514116287231,\n",
       "  0.7316813468933105,\n",
       "  0.7032983899116516,\n",
       "  0.6716746687889099,\n",
       "  0.6522400379180908,\n",
       "  0.6228605508804321,\n",
       "  0.5981391668319702],\n",
       " 'accuracy': [0.3964749872684479,\n",
       "  0.5438249707221985,\n",
       "  0.599049985408783,\n",
       "  0.6348749995231628,\n",
       "  0.6619499921798706,\n",
       "  0.6824749708175659,\n",
       "  0.7030749917030334,\n",
       "  0.7175750136375427,\n",
       "  0.731374979019165,\n",
       "  0.7424250245094299,\n",
       "  0.75204998254776,\n",
       "  0.7625250220298767,\n",
       "  0.7695749998092651,\n",
       "  0.7831249833106995,\n",
       "  0.7889999747276306],\n",
       " 'val_loss': [1.3929451704025269,\n",
       "  1.2564146518707275,\n",
       "  1.114414095878601,\n",
       "  1.1284350156784058,\n",
       "  0.978245198726654,\n",
       "  1.001278281211853,\n",
       "  0.9380078315734863,\n",
       "  0.927544355392456,\n",
       "  0.9003543257713318,\n",
       "  0.8964080214500427,\n",
       "  0.9089181423187256,\n",
       "  0.8814799785614014,\n",
       "  0.8667082190513611,\n",
       "  0.9411881566047668,\n",
       "  0.8845222592353821],\n",
       " 'val_accuracy': [0.5001000165939331,\n",
       "  0.5568000078201294,\n",
       "  0.6121000051498413,\n",
       "  0.6101999878883362,\n",
       "  0.6603000164031982,\n",
       "  0.6570000052452087,\n",
       "  0.6740000247955322,\n",
       "  0.6800000071525574,\n",
       "  0.6931999921798706,\n",
       "  0.696399986743927,\n",
       "  0.6970000267028809,\n",
       "  0.7063999772071838,\n",
       "  0.7070000171661377,\n",
       "  0.6906999945640564,\n",
       "  0.7111999988555908]}"
      ]
     },
     "execution_count": 17,
     "metadata": {},
     "output_type": "execute_result"
    }
   ],
   "source": [
    "history.history"
   ]
  },
  {
   "cell_type": "markdown",
   "metadata": {},
   "source": [
    "- loss, accuray 좋아졌지만 val loss는 과적합\n",
    "    -> 일정 지점에서 자르고 다른 방법 찾기"
   ]
  },
  {
   "cell_type": "code",
   "execution_count": 18,
   "metadata": {},
   "outputs": [
    {
     "data": {
      "text/plain": [
       "<AxesSubplot:>"
      ]
     },
     "execution_count": 18,
     "metadata": {},
     "output_type": "execute_result"
    },
    {
     "data": {
      "image/png": "[encoded data removed]",
      "text/plain": [
       "<Figure size 432x288 with 1 Axes>"
      ]
     },
     "metadata": {
      "needs_background": "light"
     },
     "output_type": "display_data"
    }
   ],
   "source": [
    "import pandas as pd\n",
    "pd.DataFrame(history.history).plot.line()\n",
    "\n",
    "# 한번에 학습해야 된다."
   ]
  },
  {
   "cell_type": "code",
   "execution_count": 19,
   "metadata": {},
   "outputs": [],
   "source": [
    "model=tf.keras.models.Sequential([\n",
    "    tf.keras.Input(shape=(32,32,3)),\n",
    "    tf.keras.layers.Conv2D(32,(3,3), activation='relu'),\n",
    "    tf.keras.layers.MaxPool2D((2, 2)),\n",
    "    tf.keras.layers.Conv2D(64,(3,3), activation='relu'),\n",
    "    tf.keras.layers.MaxPool2D((2, 2)),    \n",
    "    tf.keras.layers.Conv2D(64,(3,3), activation='relu'),\n",
    "    tf.keras.layers.MaxPool2D((2, 2)), \n",
    "    tf.keras.layers.Flatten(),\n",
    "    tf.keras.layers.Dense(64, activation ='relu'),\n",
    "    tf.keras.layers.Dense(10, activation ='softmax')\n",
    "])\n",
    "model.compile(optimizer='adam',\n",
    "              loss='sparse_categorical_crossentropy',\n",
    "              metrics=['accuracy'])"
   ]
  },
  {
   "cell_type": "code",
   "execution_count": 21,
   "metadata": {},
   "outputs": [
    {
     "name": "stdout",
     "output_type": "stream",
     "text": [
      "Epoch 1/5\n",
      "1563/1563 [==============================] - 23s 15ms/step - loss: 1.5778 - accuracy: 0.42170s - loss: 1.583\n",
      "Epoch 2/5\n",
      "1563/1563 [==============================] - 25s 16ms/step - loss: 1.2141 - accuracy: 0.5688\n",
      "Epoch 3/5\n",
      "1563/1563 [==============================] - 24s 16ms/step - loss: 1.0643 - accuracy: 0.6265\n",
      "Epoch 4/5\n",
      "1563/1563 [==============================] - 23s 15ms/step - loss: 0.9575 - accuracy: 0.6627\n",
      "Epoch 5/5\n",
      "1563/1563 [==============================] - 23s 15ms/step - loss: 0.8838 - accuracy: 0.6906\n"
     ]
    }
   ],
   "source": [
    "hist=model.fit(x_train, y_train, epochs=5)"
   ]
  },
  {
   "cell_type": "code",
   "execution_count": 22,
   "metadata": {},
   "outputs": [
    {
     "name": "stdout",
     "output_type": "stream",
     "text": [
      "Epoch 1/3\n",
      "1563/1563 [==============================] - 24s 15ms/step - loss: 0.8246 - accuracy: 0.7114\n",
      "Epoch 2/3\n",
      "1563/1563 [==============================] - 24s 15ms/step - loss: 0.7765 - accuracy: 0.7291\n",
      "Epoch 3/3\n",
      "1563/1563 [==============================] - 23s 15ms/step - loss: 0.7346 - accuracy: 0.7428\n"
     ]
    }
   ],
   "source": [
    "hist=model.fit(x_train, y_train, epochs=3)"
   ]
  },
  {
   "cell_type": "code",
   "execution_count": 24,
   "metadata": {},
   "outputs": [
    {
     "data": {
      "text/html": [
       "<div>\n",
       "<style scoped>\n",
       "    .dataframe tbody tr th:only-of-type {\n",
       "        vertical-align: middle;\n",
       "    }\n",
       "\n",
       "    .dataframe tbody tr th {\n",
       "        vertical-align: top;\n",
       "    }\n",
       "\n",
       "    .dataframe thead th {\n",
       "        text-align: right;\n",
       "    }\n",
       "</style>\n",
       "<table border=\"1\" class=\"dataframe\">\n",
       "  <thead>\n",
       "    <tr style=\"text-align: right;\">\n",
       "      <th></th>\n",
       "      <th>loss</th>\n",
       "      <th>accuracy</th>\n",
       "    </tr>\n",
       "  </thead>\n",
       "  <tbody>\n",
       "    <tr>\n",
       "      <th>0</th>\n",
       "      <td>0.824625</td>\n",
       "      <td>0.71144</td>\n",
       "    </tr>\n",
       "    <tr>\n",
       "      <th>1</th>\n",
       "      <td>0.776483</td>\n",
       "      <td>0.72910</td>\n",
       "    </tr>\n",
       "    <tr>\n",
       "      <th>2</th>\n",
       "      <td>0.734606</td>\n",
       "      <td>0.74278</td>\n",
       "    </tr>\n",
       "  </tbody>\n",
       "</table>\n",
       "</div>"
      ],
      "text/plain": [
       "       loss  accuracy\n",
       "0  0.824625   0.71144\n",
       "1  0.776483   0.72910\n",
       "2  0.734606   0.74278"
      ]
     },
     "execution_count": 24,
     "metadata": {},
     "output_type": "execute_result"
    }
   ],
   "source": [
    "pd.DataFrame(hist.history)\n",
    "# 최근 학습한 거만 나옴"
   ]
  }
 ],
 "metadata": {
  "kernelspec": {
   "display_name": "Python [conda env:py37] *",
   "language": "python",
   "name": "conda-env-py37-py"
  },
  "language_info": {
   "codemirror_mode": {
    "name": "ipython",
    "version": 3
   },
   "file_extension": ".py",
   "mimetype": "text/x-python",
   "name": "python",
   "nbconvert_exporter": "python",
   "pygments_lexer": "ipython3",
   "version": "3.6.9"
  }
 },
 "nbformat": 4,
 "nbformat_minor": 2
}
