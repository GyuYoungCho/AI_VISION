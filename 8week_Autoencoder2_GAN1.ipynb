{
 "cells": [
  {
   "cell_type": "markdown",
   "metadata": {},
   "source": [
    "## Autoencoder\n",
    "- 특징을 압축시킨 것\n",
    "- noise는 패턴이 없는 형태 -> **autoencoder로 제거**\n",
    "- 이상 탐지\n",
    "\n",
    "https://www.tensorflow.org/tutorials/generative/autoencoder\n",
    "\n",
    "- 잠재표현(latent)\n",
    "\n",
    "https://www.deeplearningbook.org/\n",
    "\n"
   ]
  },
  {
   "cell_type": "code",
   "execution_count": 1,
   "metadata": {},
   "outputs": [
    {
     "name": "stderr",
     "output_type": "stream",
     "text": [
      "C:\\Users\\Gyu\\Anaconda3\\envs\\py37\\lib\\site-packages\\numpy\\_distributor_init.py:32: UserWarning: loaded more than 1 DLL from .libs:\n",
      "C:\\Users\\Gyu\\Anaconda3\\envs\\py37\\lib\\site-packages\\numpy\\.libs\\libopenblas.PYQHXLVVQ7VESDPUVUADXEVJOBGHJPAY.gfortran-win_amd64.dll\n",
      "C:\\Users\\Gyu\\Anaconda3\\envs\\py37\\lib\\site-packages\\numpy\\.libs\\libopenblas.TXA6YQSD3GCQQC22GEQ54J2UDCXDXHWN.gfortran-win_amd64.dll\n",
      "  stacklevel=1)\n"
     ]
    }
   ],
   "source": [
    "import matplotlib.pyplot as plt\n",
    "import numpy as np\n",
    "import pandas as pd\n",
    "import tensorflow as tf\n",
    "\n",
    "from sklearn.metrics import accuracy_score, precision_score, recall_score\n",
    "from sklearn.model_selection import train_test_split\n",
    "from tensorflow.keras import layers, losses\n",
    "from tensorflow.keras.datasets import fashion_mnist\n",
    "from tensorflow.keras.models import Model\n"
   ]
  },
  {
   "cell_type": "code",
   "execution_count": 2,
   "metadata": {},
   "outputs": [
    {
     "name": "stdout",
     "output_type": "stream",
     "text": [
      "(60000, 28, 28)\n",
      "(10000, 28, 28)\n"
     ]
    }
   ],
   "source": [
    "(x_train, _), (x_test, _) = fashion_mnist.load_data()\n",
    "\n",
    "x_train = x_train.astype('float32') / 255.\n",
    "x_test = x_test.astype('float32') / 255.\n",
    "\n",
    "print (x_train.shape)\n",
    "print (x_test.shape)"
   ]
  },
  {
   "cell_type": "code",
   "execution_count": 3,
   "metadata": {},
   "outputs": [],
   "source": [
    "## 재사용, 재활용 가능!\n",
    "## closure\n",
    "\n",
    "latent_dim = 64 \n",
    "\n",
    "class Autoencoder(Model):\n",
    "  def __init__(self, latent_dim):\n",
    "    super(Autoencoder, self).__init__()\n",
    "    self.latent_dim = latent_dim   \n",
    "    self.encoder = tf.keras.Sequential([\n",
    "      layers.Flatten(),\n",
    "      layers.Dense(latent_dim, activation='relu'),\n",
    "    ])\n",
    "    self.decoder = tf.keras.Sequential([\n",
    "      layers.Dense(784, activation='sigmoid'),\n",
    "      layers.Reshape((28, 28))\n",
    "    ])\n",
    "\n",
    "  def call(self, x):\n",
    "    encoded = self.encoder(x)\n",
    "    decoded = self.decoder(encoded)\n",
    "    return decoded"
   ]
  },
  {
   "cell_type": "code",
   "execution_count": 4,
   "metadata": {},
   "outputs": [],
   "source": [
    "autoencoder1 = Autoencoder(latent_dim) \n",
    "autoencoder2 = Autoencoder(latent_dim) "
   ]
  },
  {
   "cell_type": "code",
   "execution_count": 5,
   "metadata": {},
   "outputs": [],
   "source": [
    "autoencoder1.compile(loss=tf.keras.losses.BinaryCrossentropy(),optimizer='adam')\n",
    "autoencoder2.compile(loss=tf.keras.losses.MeanSquaredError(),optimizer='adam')"
   ]
  },
  {
   "cell_type": "code",
   "execution_count": 6,
   "metadata": {},
   "outputs": [
    {
     "name": "stdout",
     "output_type": "stream",
     "text": [
      "Epoch 1/10\n",
      "1875/1875 [==============================] - 3s 1ms/step - loss: 0.3142 - val_loss: 0.2863\n",
      "Epoch 2/10\n",
      "1875/1875 [==============================] - 2s 1ms/step - loss: 0.2794 - val_loss: 0.2783\n",
      "Epoch 3/10\n",
      "1875/1875 [==============================] - 3s 1ms/step - loss: 0.2748 - val_loss: 0.2758\n",
      "Epoch 4/10\n",
      "1875/1875 [==============================] - 3s 1ms/step - loss: 0.2731 - val_loss: 0.2749\n",
      "Epoch 5/10\n",
      "1875/1875 [==============================] - 3s 1ms/step - loss: 0.2723 - val_loss: 0.2742\n",
      "Epoch 6/10\n",
      "1875/1875 [==============================] - 3s 1ms/step - loss: 0.2718 - val_loss: 0.2740\n",
      "Epoch 7/10\n",
      "1875/1875 [==============================] - 3s 1ms/step - loss: 0.2715 - val_loss: 0.2737\n",
      "Epoch 8/10\n",
      "1875/1875 [==============================] - 2s 1ms/step - loss: 0.2713 - val_loss: 0.2737\n",
      "Epoch 9/10\n",
      "1875/1875 [==============================] - 2s 1ms/step - loss: 0.2711 - val_loss: 0.2732\n",
      "Epoch 10/10\n",
      "1875/1875 [==============================] - 2s 1ms/step - loss: 0.2709 - val_loss: 0.2732\n"
     ]
    },
    {
     "data": {
      "text/plain": [
       "<tensorflow.python.keras.callbacks.History at 0x20309e31f98>"
      ]
     },
     "execution_count": 6,
     "metadata": {},
     "output_type": "execute_result"
    }
   ],
   "source": [
    "autoencoder1.fit(x_train, x_train,\n",
    "                epochs=10,\n",
    "                shuffle=True,\n",
    "                validation_data=(x_test, x_test))"
   ]
  },
  {
   "cell_type": "code",
   "execution_count": 7,
   "metadata": {},
   "outputs": [
    {
     "name": "stdout",
     "output_type": "stream",
     "text": [
      "Epoch 1/10\n",
      "1854/1875 [============================>.] - ETA: 0s - loss: 0.0244"
     ]
    },
    {
     "name": "stderr",
     "output_type": "stream",
     "text": [
      "WARNING: Logging before flag parsing goes to stderr.\n",
      "W1028 19:30:45.390159 34616 callbacks.py:328] Callbacks method `on_test_batch_end` is slow compared to the batch time (batch time: 0.0000s vs `on_test_batch_end` time: 0.0010s). Check your callbacks.\n"
     ]
    },
    {
     "name": "stdout",
     "output_type": "stream",
     "text": [
      "1875/1875 [==============================] - 2s 1ms/step - loss: 0.0243 - val_loss: 0.0140\n",
      "Epoch 2/10\n",
      "1875/1875 [==============================] - 2s 1ms/step - loss: 0.0120 - val_loss: 0.0109\n",
      "Epoch 3/10\n",
      "1875/1875 [==============================] - 2s 967us/step - loss: 0.0104 - val_loss: 0.0100\n",
      "Epoch 4/10\n",
      "1875/1875 [==============================] - 2s 940us/step - loss: 0.0097 - val_loss: 0.0096\n",
      "Epoch 5/10\n",
      "1875/1875 [==============================] - 1s 787us/step - loss: 0.0094 - val_loss: 0.0094\n",
      "Epoch 6/10\n",
      "1875/1875 [==============================] - 1s 793us/step - loss: 0.0092 - val_loss: 0.0093\n",
      "Epoch 7/10\n",
      "1875/1875 [==============================] - 2s 819us/step - loss: 0.0091 - val_loss: 0.0091\n",
      "Epoch 8/10\n",
      "1875/1875 [==============================] - 2s 1ms/step - loss: 0.0090 - val_loss: 0.0090\n",
      "Epoch 9/10\n",
      "1875/1875 [==============================] - 2s 918us/step - loss: 0.0089 - val_loss: 0.0089\n",
      "Epoch 10/10\n",
      "1875/1875 [==============================] - 2s 965us/step - loss: 0.0088 - val_loss: 0.0089\n"
     ]
    },
    {
     "data": {
      "text/plain": [
       "<tensorflow.python.keras.callbacks.History at 0x20301441668>"
      ]
     },
     "execution_count": 7,
     "metadata": {},
     "output_type": "execute_result"
    }
   ],
   "source": [
    "autoencoder2.fit(x_train, x_train,\n",
    "                epochs=10,\n",
    "                shuffle=True,\n",
    "                validation_data=(x_test, x_test))"
   ]
  },
  {
   "cell_type": "markdown",
   "metadata": {},
   "source": [
    "절대적 실수 오차 : 숫자가 적다고 좋은 loss X\n",
    "\n",
    "## noise 제거"
   ]
  },
  {
   "cell_type": "code",
   "execution_count": 14,
   "metadata": {},
   "outputs": [],
   "source": [
    "noise_factor = 0.2\n",
    "x_train_noisy = x_train + noise_factor * tf.random.normal(shape=x_train.shape) \n",
    "x_test_noisy = x_test + noise_factor * tf.random.normal(shape=x_test.shape) \n",
    "\n",
    "x_train_noisy = tf.clip_by_value(x_train_noisy, clip_value_min=0., clip_value_max=1.)\n",
    "x_test_noisy = tf.clip_by_value(x_test_noisy, clip_value_min=0., clip_value_max=1.)"
   ]
  },
  {
   "cell_type": "code",
   "execution_count": 23,
   "metadata": {},
   "outputs": [],
   "source": [
    "autoencoder3 = Autoencoder(latent_dim)\n",
    "autoencoder3.compile(loss=tf.keras.losses.BinaryCrossentropy(),optimizer='adam')\n"
   ]
  },
  {
   "cell_type": "code",
   "execution_count": 24,
   "metadata": {},
   "outputs": [
    {
     "name": "stdout",
     "output_type": "stream",
     "text": [
      "Epoch 1/10\n",
      "1875/1875 [==============================] - 2s 1ms/step - loss: 0.3228 - val_loss: 0.2979\n",
      "Epoch 2/10\n",
      "1875/1875 [==============================] - 2s 1ms/step - loss: 0.2898 - val_loss: 0.2885\n",
      "Epoch 3/10\n",
      "1875/1875 [==============================] - 2s 1ms/step - loss: 0.2842 - val_loss: 0.2853\n",
      "Epoch 4/10\n",
      "1875/1875 [==============================] - 2s 1ms/step - loss: 0.2824 - val_loss: 0.2842\n",
      "Epoch 5/10\n",
      "1875/1875 [==============================] - 2s 1ms/step - loss: 0.2815 - val_loss: 0.2836\n",
      "Epoch 6/10\n",
      "1875/1875 [==============================] - 2s 1ms/step - loss: 0.2810 - val_loss: 0.2830\n",
      "Epoch 7/10\n",
      "1875/1875 [==============================] - 2s 1ms/step - loss: 0.2804 - val_loss: 0.2827\n",
      "Epoch 8/10\n",
      "1875/1875 [==============================] - 2s 1ms/step - loss: 0.2802 - val_loss: 0.2825\n",
      "Epoch 9/10\n",
      "1875/1875 [==============================] - 2s 1ms/step - loss: 0.2800 - val_loss: 0.2823\n",
      "Epoch 10/10\n",
      "1875/1875 [==============================] - 3s 1ms/step - loss: 0.2798 - val_loss: 0.2822\n"
     ]
    },
    {
     "data": {
      "text/plain": [
       "<tensorflow.python.keras.callbacks.History at 0x2030af0c828>"
      ]
     },
     "execution_count": 24,
     "metadata": {},
     "output_type": "execute_result"
    }
   ],
   "source": [
    "autoencoder3.fit(x_train_noisy, x_train,\n",
    "                epochs=10,\n",
    "                shuffle=True,\n",
    "                validation_data=(x_test_noisy, x_test))"
   ]
  },
  {
   "cell_type": "code",
   "execution_count": 25,
   "metadata": {},
   "outputs": [],
   "source": [
    "encoded_imgs = autoencoder3.encoder(x_test_noisy).numpy()\n",
    "decoded_imgs = autoencoder3.decoder(encoded_imgs).numpy()"
   ]
  },
  {
   "cell_type": "code",
   "execution_count": 26,
   "metadata": {},
   "outputs": [
    {
     "data": {
      "image/png": "[encoded data removed]",
      "text/plain": [
       "<Figure size 1440x288 with 20 Axes>"
      ]
     },
     "metadata": {
      "needs_background": "light"
     },
     "output_type": "display_data"
    }
   ],
   "source": [
    "n = 10\n",
    "plt.figure(figsize=(20, 4))\n",
    "for i in range(n):\n",
    "  # display original\n",
    "  ax = plt.subplot(2, n, i + 1)\n",
    "  plt.imshow(x_test_noisy[i])\n",
    "  plt.title(\"original\")\n",
    "  plt.gray()\n",
    "  ax.get_xaxis().set_visible(False)\n",
    "  ax.get_yaxis().set_visible(False)\n",
    "\n",
    "  # display reconstruction\n",
    "  ax = plt.subplot(2, n, i + 1 + n)\n",
    "  plt.imshow(decoded_imgs[i])\n",
    "  plt.title(\"reconstructed\")\n",
    "  plt.gray()\n",
    "  ax.get_xaxis().set_visible(False)\n",
    "  ax.get_yaxis().set_visible(False)\n",
    "plt.show()"
   ]
  },
  {
   "cell_type": "code",
   "execution_count": 27,
   "metadata": {},
   "outputs": [],
   "source": [
    "class Denoise(Model):\n",
    "  def __init__(self):\n",
    "    super(Denoise, self).__init__()\n",
    "    self.encoder = tf.keras.Sequential([\n",
    "      layers.Input(shape=(28, 28, 1)), \n",
    "      layers.Conv2D(16, (3,3), activation='relu', padding='same', strides=2),\n",
    "        # stride로 크기 줄이기\n",
    "      layers.Conv2D(8, (3,3), activation='relu', padding='same', strides=2)])\n",
    "    \n",
    "    self.decoder = tf.keras.Sequential([\n",
    "        # Conv2DTranspose : Convolution을 거꾸로 복원\n",
    "      layers.Conv2DTranspose(8, kernel_size=3, strides=2, activation='relu', padding='same'),\n",
    "      layers.Conv2DTranspose(16, kernel_size=3, strides=2, activation='relu', padding='same'),\n",
    "      layers.Conv2D(1, kernel_size=(3,3), activation='sigmoid', padding='same')])\n",
    "    \n",
    "  def call(self, x):\n",
    "    encoded = self.encoder(x)\n",
    "    decoded = self.decoder(encoded)\n",
    "    return decoded\n",
    "\n",
    "autoencoder = Denoise()"
   ]
  },
  {
   "cell_type": "markdown",
   "metadata": {},
   "source": [
    "pooling 대신에 stride이용해서 sampling\n",
    "\n",
    "Upsampling : resize하는 방식\n",
    "    - matching이 안된다.\n",
    "Conv2DTranspose : 학습을 통해서 복원, Conv2D 반대 과정\n",
    "\n",
    "- 작은 것에서 큰 것을 맞추려면 완전히 맞추기 힘들다\n",
    "\n",
    "**DeConvolution** : Convolution 가정을 반대로\n",
    "\n",
    "https://github.com/vdumoulin/conv_arithmetic\n",
    "\n",
    "- Dilated convolution \n",
    "    - 팽창시키기 -> generating\n",
    "    - segmentation"
   ]
  },
  {
   "cell_type": "code",
   "execution_count": 29,
   "metadata": {},
   "outputs": [],
   "source": [
    "x_train_noisy = x_train_noisy[..., tf.newaxis]\n",
    "x_test_noisy = x_test_noisy[..., tf.newaxis]"
   ]
  },
  {
   "cell_type": "code",
   "execution_count": 30,
   "metadata": {},
   "outputs": [
    {
     "name": "stdout",
     "output_type": "stream",
     "text": [
      "Epoch 1/10\n",
      "1875/1875 [==============================] - 43s 23ms/step - loss: 0.0181 - val_loss: 0.0112\n",
      "Epoch 2/10\n",
      "1875/1875 [==============================] - 50s 27ms/step - loss: 0.0105 - val_loss: 0.0102\n",
      "Epoch 3/10\n",
      "1875/1875 [==============================] - 47s 25ms/step - loss: 0.0096 - val_loss: 0.0093\n",
      "Epoch 4/10\n",
      "1875/1875 [==============================] - 44s 24ms/step - loss: 0.0089 - val_loss: 0.0088\n",
      "Epoch 5/10\n",
      "1875/1875 [==============================] - 44s 23ms/step - loss: 0.0087 - val_loss: 0.0086\n",
      "Epoch 6/10\n",
      "1875/1875 [==============================] - 44s 23ms/step - loss: 0.0086 - val_loss: 0.0087\n",
      "Epoch 7/10\n",
      "1875/1875 [==============================] - 45s 24ms/step - loss: 0.0085 - val_loss: 0.0084\n",
      "Epoch 8/10\n",
      "1875/1875 [==============================] - 45s 24ms/step - loss: 0.0084 - val_loss: 0.0083\n",
      "Epoch 9/10\n",
      "1875/1875 [==============================] - 42s 22ms/step - loss: 0.0083 - val_loss: 0.0082\n",
      "Epoch 10/10\n",
      "1875/1875 [==============================] - 43s 23ms/step - loss: 0.0081 - val_loss: 0.0081\n"
     ]
    },
    {
     "data": {
      "text/plain": [
       "<tensorflow.python.keras.callbacks.History at 0x2030ac73908>"
      ]
     },
     "execution_count": 30,
     "metadata": {},
     "output_type": "execute_result"
    }
   ],
   "source": [
    "autoencoder.compile(loss=tf.keras.losses.MeanSquaredError(),optimizer='adam')\n",
    "autoencoder.fit(x_train_noisy, x_train,\n",
    "                epochs=10,\n",
    "                shuffle=True,\n",
    "                validation_data=(x_test_noisy, x_test))"
   ]
  },
  {
   "cell_type": "code",
   "execution_count": 31,
   "metadata": {},
   "outputs": [],
   "source": [
    "encoded_imgs = autoencoder.encoder(x_test_noisy).numpy()\n",
    "decoded_imgs = autoencoder.decoder(encoded_imgs).numpy()"
   ]
  },
  {
   "cell_type": "code",
   "execution_count": 32,
   "metadata": {},
   "outputs": [
    {
     "data": {
      "image/png": "[encoded data removed]",
      "text/plain": [
       "<Figure size 1440x288 with 20 Axes>"
      ]
     },
     "metadata": {
      "needs_background": "light"
     },
     "output_type": "display_data"
    }
   ],
   "source": [
    "n = 10\n",
    "plt.figure(figsize=(20, 4))\n",
    "for i in range(n):\n",
    "\n",
    "    # display original + noise\n",
    "    ax = plt.subplot(2, n, i + 1)\n",
    "    plt.title(\"original + noise\")\n",
    "    plt.imshow(tf.squeeze(x_test_noisy[i]))\n",
    "    plt.gray()\n",
    "    ax.get_xaxis().set_visible(False)\n",
    "    ax.get_yaxis().set_visible(False)\n",
    "\n",
    "    # display reconstruction\n",
    "    bx = plt.subplot(2, n, i + n + 1)\n",
    "    plt.title(\"reconstructed\")\n",
    "    plt.imshow(tf.squeeze(decoded_imgs[i]))\n",
    "    plt.gray()\n",
    "    bx.get_xaxis().set_visible(False)\n",
    "    bx.get_yaxis().set_visible(False)\n",
    "plt.show()"
   ]
  },
  {
   "cell_type": "markdown",
   "metadata": {},
   "source": [
    "PRML(Pattern Recognition & Machine Learning)\n",
    "\n",
    "- VAE 잘 나와 있음\n",
    "\n",
    "<br>\n",
    "\n",
    "https://playground.tensorflow.org/#activation=tanh&batchSize=10&dataset=circle&regDataset=reg-plane&learningRate=0.03&regularizationRate=0&noise=0&networkShape=4,2&seed=0.96682&showTestData=false&discretize=false&percTrainData=50&x=true&y=true&xTimesY=false&xSquared=false&ySquared=false&cosX=false&sinX=false&cosY=false&sinY=false&collectStats=false&problem=classification&initZero=false&hideText=false\n",
    "\n",
    "SVM에서 kernel trick을 제외하고 차원 늘리는 것에 대한 것은 없음\n",
    "\n",
    "<br>\n",
    "\n",
    "## GAN\n",
    "\n",
    "### idea\n",
    "- 위조 지폐와 경찰\n",
    "- 위조 지폐를 변형해서 경찰을 속일 만한 데이터를 만들 수 있다\n",
    "- 동시에 경찰의 감별 능력도 늘게 만듬. 이전에 아닌 것도 위조 지폐라고 함.\n",
    "\n",
    "#### adversial \n",
    "- self-suprevised learning\n",
    "- GAN은 학습이 잘 안됨.(under fitting문제) -> 학습 테크닉 중요\n",
    "\n",
    "NIPS 2016 Tutorial: Generative Adversarial Networks\n",
    "\n",
    "### Cherry-Picked\n",
    "- 선별적으로 결과를 뽑음. -> 재현 불가능한 문제\n",
    "\n",
    "\n",
    "사기 치는 거 : Generater\n",
    "\n",
    "잡는 거 : Discriminator\n",
    "\n",
    "- 처음에 Generater의 능력만 키우기"
   ]
  },
  {
   "cell_type": "code",
   "execution_count": 74,
   "metadata": {},
   "outputs": [],
   "source": [
    "# 200개만 받아서 mnist만들기\n",
    "\n",
    "generator = tf.keras.models.Sequential([\n",
    "    tf.keras.layers.Dense(256, input_shape=(200,),activation='relu'),\n",
    "    tf.keras.layers.Dense(512,activation='relu'),\n",
    "    tf.keras.layers.Dense(784,activation='relu'),\n",
    "])\n",
    "\n",
    "# 학습 전략 따로\n",
    "\n",
    "generator.compile(loss='binary_crossentropy', optimizer='adam')"
   ]
  },
  {
   "cell_type": "code",
   "execution_count": 42,
   "metadata": {},
   "outputs": [],
   "source": [
    "# 784개 받고 진짜인지 가짜인지 판별\n",
    "\n",
    "discriminator = tf.keras.models.Sequential([\n",
    "    tf.keras.layers.Dense(1024, input_shape=(784,),activation='relu'),\n",
    "    tf.keras.layers.Dense(512,activation='relu'),\n",
    "    tf.keras.layers.Dense(256,activation='relu'),\n",
    "    tf.keras.layers.Dense(1,activation='sigmoid'),\n",
    "])\n",
    "\n",
    "discriminator.compile(loss='binary_crossentropy', optimizer='adam')"
   ]
  },
  {
   "cell_type": "code",
   "execution_count": 44,
   "metadata": {},
   "outputs": [],
   "source": [
    "# generator만 학습\n",
    "\n",
    "discriminator.trainable = False"
   ]
  },
  {
   "cell_type": "code",
   "execution_count": 45,
   "metadata": {},
   "outputs": [],
   "source": [
    "gan_input = tf.keras.Input(shape=(200,))\n",
    "x = generator(gan_input)\n",
    "gan_output = discriminator(x)\n",
    "\n",
    "gan = tf.keras.models.Model(gan_input, gan_output)\n",
    "gan.compile(loss='binary_crossentropy', optimizer='adam')"
   ]
  },
  {
   "cell_type": "code",
   "execution_count": 46,
   "metadata": {},
   "outputs": [
    {
     "name": "stdout",
     "output_type": "stream",
     "text": [
      "Model: \"functional_3\"\n",
      "_________________________________________________________________\n",
      "Layer (type)                 Output Shape              Param #   \n",
      "=================================================================\n",
      "input_5 (InputLayer)         [(None, 200)]             0         \n",
      "_________________________________________________________________\n",
      "sequential_22 (Sequential)   (None, 784)               585232    \n",
      "_________________________________________________________________\n",
      "sequential_23 (Sequential)   (None, 1)                 1460225   \n",
      "=================================================================\n",
      "Total params: 2,045,457\n",
      "Trainable params: 585,232\n",
      "Non-trainable params: 1,460,225\n",
      "_________________________________________________________________\n"
     ]
    }
   ],
   "source": [
    "gan.summary()"
   ]
  },
  {
   "cell_type": "code",
   "execution_count": 47,
   "metadata": {},
   "outputs": [
    {
     "data": {
      "text/plain": [
       "<tf.Tensor: shape=(5, 784), dtype=float32, numpy=\n",
       "array([[0.03465973, 0.        , 0.06351185, ..., 0.        , 0.        ,\n",
       "        0.04446098],\n",
       "       [0.18621269, 0.        , 0.        , ..., 0.        , 0.03281298,\n",
       "        0.        ],\n",
       "       [0.        , 0.        , 0.1282712 , ..., 0.        , 0.        ,\n",
       "        0.        ],\n",
       "       [0.07062371, 0.        , 0.09372175, ..., 0.03057003, 0.        ,\n",
       "        0.        ],\n",
       "       [0.04494633, 0.17188662, 0.        , ..., 0.        , 0.        ,\n",
       "        0.        ]], dtype=float32)>"
      ]
     },
     "execution_count": 47,
     "metadata": {},
     "output_type": "execute_result"
    }
   ],
   "source": [
    "sample = np.random.random((5,200))\n",
    "generator(sample)"
   ]
  },
  {
   "cell_type": "code",
   "execution_count": 49,
   "metadata": {},
   "outputs": [
    {
     "data": {
      "text/plain": [
       "<matplotlib.image.AxesImage at 0x20318584978>"
      ]
     },
     "execution_count": 49,
     "metadata": {},
     "output_type": "execute_result"
    },
    {
     "data": {
      "image/png": "[encoded data removed]",
      "text/plain": [
       "<Figure size 432x288 with 1 Axes>"
      ]
     },
     "metadata": {
      "needs_background": "light"
     },
     "output_type": "display_data"
    }
   ],
   "source": [
    "# 가짜 생성\n",
    "\n",
    "plt.imshow(generator(sample)[0].numpy().reshape(28,28))"
   ]
  },
  {
   "cell_type": "code",
   "execution_count": 50,
   "metadata": {},
   "outputs": [
    {
     "data": {
      "text/plain": [
       "<tf.Tensor: shape=(5, 1), dtype=float32, numpy=\n",
       "array([[0.5292832 ],\n",
       "       [0.5197771 ],\n",
       "       [0.5167295 ],\n",
       "       [0.52094054],\n",
       "       [0.524792  ]], dtype=float32)>"
      ]
     },
     "execution_count": 50,
     "metadata": {},
     "output_type": "execute_result"
    }
   ],
   "source": [
    "discriminator(generator(sample))"
   ]
  },
  {
   "cell_type": "code",
   "execution_count": 57,
   "metadata": {},
   "outputs": [],
   "source": [
    "# 100개까지만 가짜 만들고 그 이후로 진짜\n",
    "# fit을 쓰면 전체가 다 학습됨 - > train on batch\n",
    "\n",
    "(x_train, y_train), (x_test,y_test) = tf.keras.datasets.mnist.load_data()\n",
    "\n",
    "x_train = x_train.reshape(-1,28*28)"
   ]
  },
  {
   "cell_type": "code",
   "execution_count": 58,
   "metadata": {},
   "outputs": [],
   "source": [
    "batch_size = x_train.shape[0] // 128  # 정수만들기"
   ]
  },
  {
   "cell_type": "code",
   "execution_count": 59,
   "metadata": {},
   "outputs": [],
   "source": [
    "# 가짜 데이터\n",
    "fake = np.random.normal(0,1,size=[batch_size,200])\n",
    "# 200개가 batch만큼 있음"
   ]
  },
  {
   "cell_type": "code",
   "execution_count": 60,
   "metadata": {},
   "outputs": [
    {
     "data": {
      "text/plain": [
       "(468, 784)"
      ]
     },
     "execution_count": 60,
     "metadata": {},
     "output_type": "execute_result"
    }
   ],
   "source": [
    "# 468개 실제\n",
    "image_batch = x_train[np.random.randint(0, x_train.shape[0],size = batch_size)]\n",
    "image_batch.shape"
   ]
  },
  {
   "cell_type": "code",
   "execution_count": 61,
   "metadata": {},
   "outputs": [],
   "source": [
    "# 학습 데이터 구축\n",
    "\n",
    "x = np.concatenate([image_batch,generator(fake)])"
   ]
  },
  {
   "cell_type": "code",
   "execution_count": 63,
   "metadata": {},
   "outputs": [],
   "source": [
    "y = np.zeros(2 * batch_size)\n",
    "y[:batch_size] = 1 # 진짜 가짜 라벨링"
   ]
  },
  {
   "cell_type": "code",
   "execution_count": 64,
   "metadata": {},
   "outputs": [],
   "source": [
    "# 학습\n",
    "\n",
    "discriminator.trainable = True"
   ]
  },
  {
   "cell_type": "code",
   "execution_count": 65,
   "metadata": {},
   "outputs": [
    {
     "data": {
      "text/plain": [
       "7.565319061279297"
      ]
     },
     "execution_count": 65,
     "metadata": {},
     "output_type": "execute_result"
    }
   ],
   "source": [
    "discriminator.train_on_batch(x,y)"
   ]
  },
  {
   "cell_type": "code",
   "execution_count": 67,
   "metadata": {},
   "outputs": [
    {
     "data": {
      "text/plain": [
       "0.00993646215647459"
      ]
     },
     "execution_count": 67,
     "metadata": {},
     "output_type": "execute_result"
    }
   ],
   "source": [
    "discriminator.train_on_batch(x,y)"
   ]
  },
  {
   "cell_type": "code",
   "execution_count": 68,
   "metadata": {},
   "outputs": [],
   "source": [
    "# 어느 정도 되면 학습 안시킴\n",
    "\n",
    "discriminator.trainable = False"
   ]
  },
  {
   "cell_type": "code",
   "execution_count": 71,
   "metadata": {},
   "outputs": [],
   "source": [
    "# 실제 데이터\n",
    "y_gen = np.ones(batch_size)"
   ]
  },
  {
   "cell_type": "code",
   "execution_count": 90,
   "metadata": {},
   "outputs": [
    {
     "data": {
      "text/plain": [
       "0.100542351603508"
      ]
     },
     "execution_count": 90,
     "metadata": {},
     "output_type": "execute_result"
    }
   ],
   "source": [
    "generator.train_on_batch(fake,y_gen)"
   ]
  },
  {
   "cell_type": "markdown",
   "metadata": {},
   "source": [
    "위의 과정 계속 반복\n",
    "\n",
    "나중에 거의 진짜처럼 만들 수 있음"
   ]
  },
  {
   "cell_type": "code",
   "execution_count": 91,
   "metadata": {},
   "outputs": [
    {
     "data": {
      "text/plain": [
       "<matplotlib.image.AxesImage at 0x20319b74d68>"
      ]
     },
     "execution_count": 91,
     "metadata": {},
     "output_type": "execute_result"
    },
    {
     "data": {
      "image/png": "[encoded data removed]",
      "text/plain": [
       "<Figure size 432x288 with 1 Axes>"
      ]
     },
     "metadata": {
      "needs_background": "light"
     },
     "output_type": "display_data"
    }
   ],
   "source": [
    "plt.imshow(generator(sample)[0].numpy().reshape(28,28))"
   ]
  },
  {
   "cell_type": "markdown",
   "metadata": {},
   "source": [
    "- 거의 몇 천번 해야 된다.\n",
    "- relu도 문제가 됨\n",
    "    - 학습이 잘 안됨 -> 한 번 0이면 계속 0으로 전달\n",
    "    \n",
    "-> activation으로 **leaky relu**\n",
    "\n",
    "https://www.tensorflow.org/tutorials/generative/dcgan\n",
    "\n",
    "여기서 leaky 사용"
   ]
  },
  {
   "cell_type": "code",
   "execution_count": null,
   "metadata": {},
   "outputs": [],
   "source": []
  }
 ],
 "metadata": {
  "kernelspec": {
   "display_name": "Python [conda env:py37] *",
   "language": "python",
   "name": "conda-env-py37-py"
  },
  "language_info": {
   "codemirror_mode": {
    "name": "ipython",
    "version": 3
   },
   "file_extension": ".py",
   "mimetype": "text/x-python",
   "name": "python",
   "nbconvert_exporter": "python",
   "pygments_lexer": "ipython3",
   "version": "3.6.9"
  }
 },
 "nbformat": 4,
 "nbformat_minor": 2
}
