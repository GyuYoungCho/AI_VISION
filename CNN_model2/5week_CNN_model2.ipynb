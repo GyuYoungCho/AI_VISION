{
 "cells": [
  {
   "cell_type": "markdown",
   "metadata": {},
   "source": [
    "## AlexNet\n",
    "\n",
    "- train test가 많이 요동침  -> 데이터 부족\n",
    "- augmentation을 많이 했음.\n",
    "- gradcam : 특징을 보여주게 함.\n",
    "\n",
    "\n",
    "##\n",
    "\n",
    "### 특징\n",
    "\n",
    "- hyperparameter tuning을 통해 성능이 2퍼 좋아짐.\n",
    "- convolution을 거꾸로 해서 원래대로 복원하는 식으로 convolution 특징을 파악 \n",
    "    -> **convolution을 visualization 함!**\n",
    "    - 앞에 있는 layer는 간단한 부분이고 뒤로 갈수록 추상화된다.\n",
    "- stride 2"
   ]
  },
  {
   "cell_type": "code",
   "execution_count": 1,
   "metadata": {},
   "outputs": [
    {
     "name": "stderr",
     "output_type": "stream",
     "text": [
      "C:\\Users\\Gyu\\Anaconda3\\envs\\py37\\lib\\site-packages\\numpy\\_distributor_init.py:32: UserWarning: loaded more than 1 DLL from .libs:\n",
      "C:\\Users\\Gyu\\Anaconda3\\envs\\py37\\lib\\site-packages\\numpy\\.libs\\libopenblas.PYQHXLVVQ7VESDPUVUADXEVJOBGHJPAY.gfortran-win_amd64.dll\n",
      "C:\\Users\\Gyu\\Anaconda3\\envs\\py37\\lib\\site-packages\\numpy\\.libs\\libopenblas.TXA6YQSD3GCQQC22GEQ54J2UDCXDXHWN.gfortran-win_amd64.dll\n",
      "  stacklevel=1)\n"
     ]
    }
   ],
   "source": [
    "import tensorflow as tf"
   ]
  },
  {
   "cell_type": "code",
   "execution_count": 2,
   "metadata": {},
   "outputs": [
    {
     "name": "stdout",
     "output_type": "stream",
     "text": [
      "Downloading data from https://storage.googleapis.com/tensorflow/keras-applications/vgg16/vgg16_weights_tf_dim_ordering_tf_kernels.h5\n",
      "553467904/553467096 [==============================] - 54s 0us/step\n"
     ]
    }
   ],
   "source": [
    "vgg = tf.keras.applications.VGG16()"
   ]
  },
  {
   "cell_type": "code",
   "execution_count": 3,
   "metadata": {},
   "outputs": [
    {
     "name": "stdout",
     "output_type": "stream",
     "text": [
      "Model: \"vgg16\"\n",
      "_________________________________________________________________\n",
      "Layer (type)                 Output Shape              Param #   \n",
      "=================================================================\n",
      "input_1 (InputLayer)         [(None, 224, 224, 3)]     0         \n",
      "_________________________________________________________________\n",
      "block1_conv1 (Conv2D)        (None, 224, 224, 64)      1792      \n",
      "_________________________________________________________________\n",
      "block1_conv2 (Conv2D)        (None, 224, 224, 64)      36928     \n",
      "_________________________________________________________________\n",
      "block1_pool (MaxPooling2D)   (None, 112, 112, 64)      0         \n",
      "_________________________________________________________________\n",
      "block2_conv1 (Conv2D)        (None, 112, 112, 128)     73856     \n",
      "_________________________________________________________________\n",
      "block2_conv2 (Conv2D)        (None, 112, 112, 128)     147584    \n",
      "_________________________________________________________________\n",
      "block2_pool (MaxPooling2D)   (None, 56, 56, 128)       0         \n",
      "_________________________________________________________________\n",
      "block3_conv1 (Conv2D)        (None, 56, 56, 256)       295168    \n",
      "_________________________________________________________________\n",
      "block3_conv2 (Conv2D)        (None, 56, 56, 256)       590080    \n",
      "_________________________________________________________________\n",
      "block3_conv3 (Conv2D)        (None, 56, 56, 256)       590080    \n",
      "_________________________________________________________________\n",
      "block3_pool (MaxPooling2D)   (None, 28, 28, 256)       0         \n",
      "_________________________________________________________________\n",
      "block4_conv1 (Conv2D)        (None, 28, 28, 512)       1180160   \n",
      "_________________________________________________________________\n",
      "block4_conv2 (Conv2D)        (None, 28, 28, 512)       2359808   \n",
      "_________________________________________________________________\n",
      "block4_conv3 (Conv2D)        (None, 28, 28, 512)       2359808   \n",
      "_________________________________________________________________\n",
      "block4_pool (MaxPooling2D)   (None, 14, 14, 512)       0         \n",
      "_________________________________________________________________\n",
      "block5_conv1 (Conv2D)        (None, 14, 14, 512)       2359808   \n",
      "_________________________________________________________________\n",
      "block5_conv2 (Conv2D)        (None, 14, 14, 512)       2359808   \n",
      "_________________________________________________________________\n",
      "block5_conv3 (Conv2D)        (None, 14, 14, 512)       2359808   \n",
      "_________________________________________________________________\n",
      "block5_pool (MaxPooling2D)   (None, 7, 7, 512)         0         \n",
      "_________________________________________________________________\n",
      "flatten (Flatten)            (None, 25088)             0         \n",
      "_________________________________________________________________\n",
      "fc1 (Dense)                  (None, 4096)              102764544 \n",
      "_________________________________________________________________\n",
      "fc2 (Dense)                  (None, 4096)              16781312  \n",
      "_________________________________________________________________\n",
      "predictions (Dense)          (None, 1000)              4097000   \n",
      "=================================================================\n",
      "Total params: 138,357,544\n",
      "Trainable params: 138,357,544\n",
      "Non-trainable params: 0\n",
      "_________________________________________________________________\n"
     ]
    }
   ],
   "source": [
    "vgg.summary()"
   ]
  },
  {
   "cell_type": "code",
   "execution_count": 4,
   "metadata": {},
   "outputs": [
    {
     "data": {
      "text/plain": [
       "<tensorflow.python.keras.layers.convolutional.Conv2D at 0x153d19ce860>"
      ]
     },
     "execution_count": 4,
     "metadata": {},
     "output_type": "execute_result"
    }
   ],
   "source": [
    "vgg.get_layer('block1_conv1')"
   ]
  },
  {
   "cell_type": "code",
   "execution_count": 5,
   "metadata": {},
   "outputs": [
    {
     "data": {
      "text/plain": [
       "[<tf.Variable 'block1_conv1/kernel:0' shape=(3, 3, 3, 64) dtype=float32, numpy=\n",
       " array([[[[ 4.29470569e-01,  1.17273867e-01,  3.40129584e-02, ...,\n",
       "           -1.32241577e-01, -5.33475243e-02,  7.57738389e-03],\n",
       "          [ 5.50379455e-01,  2.08774377e-02,  9.88311544e-02, ...,\n",
       "           -8.48205537e-02, -5.11389151e-02,  3.74943428e-02],\n",
       "          [ 4.80015397e-01, -1.72696680e-01,  3.75577137e-02, ...,\n",
       "           -1.27135560e-01, -5.02991639e-02,  3.48965675e-02]],\n",
       " \n",
       "         [[ 3.73466998e-01,  1.62062630e-01,  1.70863140e-03, ...,\n",
       "           -1.48207128e-01, -2.35300660e-01, -6.30356818e-02],\n",
       "          [ 4.40074533e-01,  4.73412387e-02,  5.13819456e-02, ...,\n",
       "           -9.88498852e-02, -2.96195745e-01, -7.04357103e-02],\n",
       "          [ 4.08547401e-01, -1.70375049e-01, -4.96297423e-03, ...,\n",
       "           -1.22360572e-01, -2.76450396e-01, -3.90796512e-02]],\n",
       " \n",
       "         [[-6.13601133e-02,  1.35693997e-01, -1.15694344e-01, ...,\n",
       "           -1.40158370e-01, -3.77666801e-01, -3.00509870e-01],\n",
       "          [-8.13870355e-02,  4.18543853e-02, -1.01763301e-01, ...,\n",
       "           -9.43124294e-02, -5.05662560e-01, -3.83694321e-01],\n",
       "          [-6.51455522e-02, -1.54351532e-01, -1.38038069e-01, ...,\n",
       "           -1.29404560e-01, -4.62243795e-01, -3.23985279e-01]]],\n",
       " \n",
       " \n",
       "        [[[ 2.74769872e-01,  1.48350164e-01,  1.61559835e-01, ...,\n",
       "           -1.14316158e-01,  3.65494519e-01,  3.39938998e-01],\n",
       "          [ 3.45739067e-01,  3.10493708e-02,  2.40750551e-01, ...,\n",
       "           -6.93419054e-02,  4.37116861e-01,  4.13171440e-01],\n",
       "          [ 3.10477257e-01, -1.87601492e-01,  1.66595340e-01, ...,\n",
       "           -9.88388434e-02,  4.04058546e-01,  3.92561197e-01]],\n",
       " \n",
       "         [[ 3.86807770e-02,  2.02298447e-01,  1.56414255e-01, ...,\n",
       "           -5.20089604e-02,  2.57149011e-01,  3.71682674e-01],\n",
       "          [ 4.06322069e-02,  6.58102185e-02,  2.20311403e-01, ...,\n",
       "           -3.78979952e-03,  2.69412428e-01,  4.09505904e-01],\n",
       "          [ 5.02023660e-02, -1.77571565e-01,  1.51188180e-01, ...,\n",
       "           -1.40649760e-02,  2.59300828e-01,  4.23764467e-01]],\n",
       " \n",
       "         [[-3.67223352e-01,  1.61688417e-01, -8.99365395e-02, ...,\n",
       "           -1.45945460e-01, -2.71823555e-01, -2.39718184e-01],\n",
       "          [-4.53501314e-01,  4.62574959e-02, -6.67438358e-02, ...,\n",
       "           -1.03502415e-01, -3.45792353e-01, -2.92486250e-01],\n",
       "          [-4.03383434e-01, -1.74399972e-01, -1.09849639e-01, ...,\n",
       "           -1.25688612e-01, -3.14026326e-01, -2.32839763e-01]]],\n",
       " \n",
       " \n",
       "        [[[-5.74681684e-02,  1.29344285e-01,  1.29030216e-02, ...,\n",
       "           -1.41449392e-01,  2.41099641e-01,  4.55602147e-02],\n",
       "          [-5.86349145e-02,  3.16787697e-02,  7.59588331e-02, ...,\n",
       "           -1.05017252e-01,  3.39550197e-01,  9.86374393e-02],\n",
       "          [-5.08716851e-02, -1.66002661e-01,  1.56279504e-02, ...,\n",
       "           -1.49742723e-01,  3.06801915e-01,  8.82701725e-02]],\n",
       " \n",
       "         [[-2.62249678e-01,  1.71572417e-01,  5.44555223e-05, ...,\n",
       "           -1.22728683e-01,  2.44687453e-01,  5.32913655e-02],\n",
       "          [-3.30669671e-01,  5.47101051e-02,  4.86797579e-02, ...,\n",
       "           -8.29023942e-02,  2.95466095e-01,  7.44469985e-02],\n",
       "          [-2.85227507e-01, -1.66666731e-01, -7.96697661e-03, ...,\n",
       "           -1.09780088e-01,  2.79203743e-01,  9.46525261e-02]],\n",
       " \n",
       "         [[-3.50096762e-01,  1.38710454e-01, -1.25339806e-01, ...,\n",
       "           -1.53092295e-01, -1.39917329e-01, -2.65075237e-01],\n",
       "          [-4.85030204e-01,  4.23195846e-02, -1.12076312e-01, ...,\n",
       "           -1.18306056e-01, -1.67058021e-01, -3.22241962e-01],\n",
       "          [-4.18516338e-01, -1.57048807e-01, -1.49133086e-01, ...,\n",
       "           -1.56839803e-01, -1.42874300e-01, -2.69694626e-01]]]],\n",
       "       dtype=float32)>,\n",
       " <tf.Variable 'block1_conv1/bias:0' shape=(64,) dtype=float32, numpy=\n",
       " array([ 0.73429835,  0.09340367,  0.06775674,  0.8862966 ,  0.25994542,\n",
       "         0.66426694, -0.01582893,  0.3249065 ,  0.68600726,  0.06247932,\n",
       "         0.58156496,  0.2361475 ,  0.69694996,  0.19451167,  0.4858922 ,\n",
       "         0.44571847,  0.5113422 ,  0.208576  ,  0.57557714,  0.33199573,\n",
       "         0.4997983 ,  0.7117759 ,  0.30284074,  0.7082712 ,  0.04548979,\n",
       "         0.7446502 ,  0.29845494,  0.48211655,  0.81658626,  0.62603897,\n",
       "         0.3768093 ,  2.064037  ,  0.77311045,  0.3459577 ,  0.6130958 ,\n",
       "         0.65459156,  0.39045632,  0.50869167,  0.2625384 ,  0.23669638,\n",
       "         0.07971057,  1.1179353 ,  0.26129362,  0.8697589 ,  0.21543622,\n",
       "         0.78007823,  0.37015367,  0.47993386,  0.4313978 ,  0.5084194 ,\n",
       "         0.23049663,  0.7636527 ,  0.35419866,  0.45794216,  0.4662595 ,\n",
       "         0.09850298,  0.3803252 ,  0.66880196,  0.4015123 ,  0.90510356,\n",
       "         0.43166816,  1.302014  ,  0.5306885 ,  0.48993504], dtype=float32)>]"
      ]
     },
     "execution_count": 5,
     "metadata": {},
     "output_type": "execute_result"
    }
   ],
   "source": [
    "vgg.get_layer('block1_conv1').weights # 가중치 64개 kennel"
   ]
  },
  {
   "cell_type": "code",
   "execution_count": 7,
   "metadata": {},
   "outputs": [
    {
     "name": "stderr",
     "output_type": "stream",
     "text": [
      "WARNING: Logging before flag parsing goes to stderr.\n",
      "W1007 20:29:11.900037 13320 image.py:717] Clipping input data to the valid range for imshow with RGB data ([0..1] for floats or [0..255] for integers).\n"
     ]
    },
    {
     "data": {
      "text/plain": [
       "<matplotlib.image.AxesImage at 0x153de0b24a8>"
      ]
     },
     "execution_count": 7,
     "metadata": {},
     "output_type": "execute_result"
    },
    {
     "data": {
      "image/png": "[encoded data removed]",
      "text/plain": [
       "<Figure size 432x288 with 1 Axes>"
      ]
     },
     "metadata": {
      "needs_background": "light"
     },
     "output_type": "display_data"
    }
   ],
   "source": [
    "import matplotlib.pyplot as plt\n",
    "plt.imshow(vgg.get_layer('block1_conv1').weights[0].numpy()[...,0]) # 첫번째 kernel"
   ]
  },
  {
   "cell_type": "code",
   "execution_count": 8,
   "metadata": {},
   "outputs": [
    {
     "name": "stderr",
     "output_type": "stream",
     "text": [
      "W1007 20:29:21.097366 13320 image.py:717] Clipping input data to the valid range for imshow with RGB data ([0..1] for floats or [0..255] for integers).\n"
     ]
    },
    {
     "data": {
      "text/plain": [
       "<matplotlib.image.AxesImage at 0x153de193630>"
      ]
     },
     "execution_count": 8,
     "metadata": {},
     "output_type": "execute_result"
    },
    {
     "data": {
      "image/png": "[encoded data removed]",
      "text/plain": [
       "<Figure size 432x288 with 1 Axes>"
      ]
     },
     "metadata": {
      "needs_background": "light"
     },
     "output_type": "display_data"
    }
   ],
   "source": [
    "plt.imshow(vgg.get_layer('block1_conv1').weights[0].numpy()[...,1])"
   ]
  },
  {
   "cell_type": "code",
   "execution_count": 9,
   "metadata": {},
   "outputs": [],
   "source": [
    "import numpy as np\n",
    "from tensorflow import keras\n",
    "\n",
    "# The dimensions of our input image\n",
    "img_width = 180\n",
    "img_height = 180\n",
    "# Our target layer: we will visualize the filters from this layer.\n",
    "# See `model.summary()` for list of layer names, if you want to change this.\n",
    "layer_name = \"conv3_block4_out\""
   ]
  },
  {
   "cell_type": "code",
   "execution_count": 10,
   "metadata": {},
   "outputs": [
    {
     "name": "stdout",
     "output_type": "stream",
     "text": [
      "Downloading data from https://storage.googleapis.com/tensorflow/keras-applications/resnet/resnet50v2_weights_tf_dim_ordering_tf_kernels_notop.h5\n",
      "94674944/94668760 [==============================] - 12s 0us/step\n"
     ]
    }
   ],
   "source": [
    "model = keras.applications.ResNet50V2(weights=\"imagenet\", include_top=False)\n",
    "\n",
    "# Set up a model that returns the activation values for our target layer\n",
    "layer = model.get_layer(name=layer_name)\n",
    "feature_extractor = keras.Model(inputs=model.inputs, outputs=layer.output)\n",
    "# 새로운 모델 만들기"
   ]
  },
  {
   "cell_type": "markdown",
   "metadata": {},
   "source": [
    "- stacking하고 global average pooling\n",
    "-> overfitting 문제를 해결!\n",
    "\n",
    "\n",
    "### flatten , global average pooling\n",
    "\n",
    "- flatten : 각 filter를 한줄로 해서 연결\n",
    "- global : 각 filter에서 하나씩 나옴\n",
    "- global이 학습 속도가 더 빠름\n",
    "- fully는 weight를 공유안함.\n",
    "    - parameter 증가 -> overfitting 가능성 올림\n",
    "    - global이 공간적 의미를 조금 더 유지시킨다 할 수 있다.\n",
    "- regualizer -> global이 성능이 안 좋을 수 있어도 일반화적으로는 좋다.(dropout과 비슷)\n",
    "- global은 dense가 아닌 **convolution에서 직접 결과를 얻는 방법**이라 할 수 있음.\n",
    "\n",
    "<br></br>\n",
    "\n",
    "## googlenet\n",
    "- 보조 classifier \n",
    "- filter크기가 1,3,5,7\n",
    "\n",
    "## Inception\n",
    "- googlenet 확장\n",
    "\n",
    "\n",
    "## VGG\n",
    "- 깔끔하고 단순한 모델임.\n",
    "- filter 3 * 3\n",
    "    - filter 크기는 대부분 홀수"
   ]
  }
 ],
 "metadata": {
  "kernelspec": {
   "display_name": "Python [conda env:py37] *",
   "language": "python",
   "name": "conda-env-py37-py"
  },
  "language_info": {
   "codemirror_mode": {
    "name": "ipython",
    "version": 3
   },
   "file_extension": ".py",
   "mimetype": "text/x-python",
   "name": "python",
   "nbconvert_exporter": "python",
   "pygments_lexer": "ipython3",
   "version": "3.6.9"
  }
 },
 "nbformat": 4,
 "nbformat_minor": 2
}
